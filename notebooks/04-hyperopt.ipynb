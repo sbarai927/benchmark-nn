{
 "cells": [
  {
   "cell_type": "markdown",
   "id": "6046bc89-9bfe-4d53-95e3-9a95efdd6694",
   "metadata": {},
   "source": [
    "# Leverage Hyperopt’s TPE algorithm with timed Keras callbacks to efficiently explore our MLP search space and drive down validation RMSE."
   ]
  },
  {
   "cell_type": "markdown",
   "id": "e778cf4e-f2b1-422d-99c7-1cf580674db0",
   "metadata": {
    "editable": true,
    "slideshow": {
     "slide_type": ""
    },
    "tags": []
   },
   "source": [
    "### Imports & Constants"
   ]
  },
  {
   "cell_type": "code",
   "execution_count": 32,
   "id": "60224008-ace9-440e-bea1-8a8dbd559262",
   "metadata": {
    "editable": true,
    "slideshow": {
     "slide_type": ""
    },
    "tags": []
   },
   "outputs": [],
   "source": [
    "import time\n",
    "import numpy as np\n",
    "import pandas as pd\n",
    "from sklearn.model_selection import train_test_split\n",
    "from sklearn.metrics import mean_squared_error, r2_score\n",
    "\n",
    "import tensorflow as tf\n",
    "from tensorflow import keras\n",
    "from tensorflow.keras import layers, losses, metrics, callbacks, optimizers\n",
    "\n",
    "from hyperopt import hp, fmin, tpe, Trials, space_eval\n",
    "\n",
    "import matplotlib.pyplot as plt\n",
    "\n",
    "# fix random seeds\n",
    "SEED = 42\n",
    "np.random.seed(SEED)\n",
    "tf.random.set_seed(SEED)"
   ]
  },
  {
   "cell_type": "markdown",
   "id": "f0f4e4e7-1193-484b-bbac-7fc9184f781b",
   "metadata": {},
   "source": [
    "### Load & Preprocess"
   ]
  },
  {
   "cell_type": "code",
   "execution_count": 34,
   "id": "e9175249-4be2-4a12-ab91-fd7d1211df7d",
   "metadata": {
    "editable": true,
    "slideshow": {
     "slide_type": ""
    },
    "tags": []
   },
   "outputs": [],
   "source": [
    "# load\n",
    "df = pd.read_csv(\"data/raw/diamonds.csv\")\n",
    "\n",
    "# target + features\n",
    "y = df[\"total_sales_price\"].values\n",
    "X = df.drop(columns=[\"total_sales_price\", \"Unnamed: 0\"]).select_dtypes(include=\"number\").values\n",
    "\n",
    "# train/val/test split (60/20/20)\n",
    "X_train, X_tmp, y_train, y_tmp = train_test_split(X, y, test_size=0.4, random_state=SEED)\n",
    "X_val,   X_test, y_val,   y_test  = train_test_split(X_tmp, y_tmp, test_size=0.5, random_state=SEED)\n",
    "\n",
    "# log‐transform target\n",
    "y_train_log = np.log1p(y_train)\n",
    "y_val_log   = np.log1p(y_val)"
   ]
  },
  {
   "cell_type": "markdown",
   "id": "894e626b-db07-4ae2-a39f-54a9dd192492",
   "metadata": {},
   "source": [
    "### Define Hyperopt Space & Objective"
   ]
  },
  {
   "cell_type": "code",
   "execution_count": 36,
   "id": "23898ca7-60c8-47af-b9db-8bef172ec004",
   "metadata": {
    "editable": true,
    "slideshow": {
     "slide_type": ""
    },
    "tags": []
   },
   "outputs": [],
   "source": [
    "# hyperparameter search space\n",
    "param_space = {\n",
    "    \"n_layers\":      hp.randint(\"n_layers\",   1, 6),            # 1–5\n",
    "    \"units\":         hp.choice(\"units\",      [32, 64, 128, 256]),\n",
    "    \"dropout\":       hp.uniform(\"dropout\",   0.0, 0.5),\n",
    "    \"lr\":            hp.loguniform(\"lr\",     np.log(1e-4), np.log(1e-2)),\n",
    "    \"batch_size\":    hp.choice(\"batch_size\", [32, 64, 128]),\n",
    "}\n",
    "\n",
    "def objective(params):\n",
    "    \"\"\"Build, train & return validation RMSE.\"\"\"\n",
    "    # build model\n",
    "    model = keras.Sequential()\n",
    "    model.add(layers.Input(shape=(X_train.shape[1],)))\n",
    "    for _ in range(params[\"n_layers\"]):\n",
    "        model.add(layers.Dense(params[\"units\"], activation=\"relu\"))\n",
    "        model.add(layers.Dropout(params[\"dropout\"]))\n",
    "    model.add(layers.Dense(1, name=\"output\"))\n",
    "\n",
    "    # compile (TF≥2.11 drops decay)\n",
    "    opt = optimizers.Adam(learning_rate=params[\"lr\"])\n",
    "    model.compile(\n",
    "        optimizer=opt,\n",
    "        loss=losses.MeanSquaredError(),\n",
    "        metrics=[metrics.RootMeanSquaredError(name=\"rmse\")],\n",
    "    )\n",
    "\n",
    "    # time & early‐stop\n",
    "    start = time.time()\n",
    "    hist = model.fit(\n",
    "        X_train, y_train_log,\n",
    "        validation_data=(X_val, y_val_log),\n",
    "        epochs=50,\n",
    "        batch_size=params[\"batch_size\"],\n",
    "        callbacks=[callbacks.EarlyStopping(monitor=\"val_rmse\", patience=5, restore_best_weights=True, verbose=0)],\n",
    "        verbose=0,\n",
    "    )\n",
    "    elapsed = time.time() - start\n",
    "\n",
    "    # best val‐RMSE (log)\n",
    "    val_rmse = min(hist.history[\"val_rmse\"])\n",
    "    # return the loss for Hyperopt to minimize\n",
    "    return {\"loss\": float(val_rmse), \"status\": \"ok\", \"time\": elapsed}"
   ]
  },
  {
   "cell_type": "markdown",
   "id": "836884e4-d38d-44f5-9155-c063154335fd",
   "metadata": {},
   "source": [
    "### Run the Hyperopt Search"
   ]
  },
  {
   "cell_type": "code",
   "execution_count": 38,
   "id": "ec43bb79-cae0-4d14-8715-ea516a2e473e",
   "metadata": {
    "editable": true,
    "slideshow": {
     "slide_type": ""
    },
    "tags": []
   },
   "outputs": [
    {
     "name": "stdout",
     "output_type": "stream",
     "text": [
      "100%|█████████████████████████████████████████████████████████████████████████████████████████████████████████████████████████████████████| 50/50 [23:26<00:00, 28.13s/trial, best loss: 0.3675055205821991]\n",
      "→ Best hyperopt params (indexes): {'batch_size': 2, 'dropout': 0.005993372405437854, 'lr': 0.0021803137845784588, 'n_layers': 3, 'units': 1}\n"
     ]
    }
   ],
   "source": [
    "trials = Trials()\n",
    "best = fmin(\n",
    "    fn       = objective,\n",
    "    space    = param_space,\n",
    "    algo     = tpe.suggest,\n",
    "    max_evals= 50,\n",
    "    trials   = trials,\n",
    "    rstate   = np.random.default_rng(SEED),\n",
    ")\n",
    "print(\"→ Best hyperopt params (indexes):\", best)"
   ]
  },
  {
   "cell_type": "markdown",
   "id": "5119c9a3-fca7-4e0a-8b12-b3446ac6d876",
   "metadata": {},
   "source": [
    "Hyperopt rapidly narrowed in on a 3-layer network with 128 units per layer, a small dropout (~0.6 %), and a learning rate ≈0.0022.\n",
    "\n",
    "The “best loss” reported (~0.3675) is the validation log-RMSE, indicating modest improvement over random guesses.\n",
    "\n",
    "Late trials (high-capacity configurations) still take ~30 s each"
   ]
  },
  {
   "cell_type": "markdown",
   "id": "503d0fb8-4777-4089-87a1-1df4f1ef3f73",
   "metadata": {},
   "source": [
    "### Decode & Inspect Top‐5 Trials"
   ]
  },
  {
   "cell_type": "code",
   "execution_count": 41,
   "id": "95f1e5a1-c181-4c5f-b26f-d937e33248f3",
   "metadata": {
    "editable": true,
    "slideshow": {
     "slide_type": ""
    },
    "tags": []
   },
   "outputs": [
    {
     "name": "stdout",
     "output_type": "stream",
     "text": [
      "→ Best real params: {'batch_size': 128, 'dropout': 0.005993372405437854, 'lr': 0.0021803137845784588, 'n_layers': 3, 'units': 64}\n",
      "\n",
      "Top 5 validation RMSE ⇢ duration ⇢ params:\n",
      " • RMSE=0.368, time= 21.6s, params={'batch_size': 128, 'dropout': 0.005993372405437854, 'lr': 0.0021803137845784588, 'n_layers': 3, 'units': 64}\n",
      " • RMSE=0.368, time= 24.0s, params={'batch_size': 128, 'dropout': 0.0006217048805459733, 'lr': 0.0020158906994719394, 'n_layers': 3, 'units': 64}\n",
      " • RMSE=0.374, time= 23.7s, params={'batch_size': 64, 'dropout': 0.00025239501431076463, 'lr': 0.002131760005347697, 'n_layers': 3, 'units': 64}\n",
      " • RMSE=0.375, time= 27.9s, params={'batch_size': 128, 'dropout': 0.031908887740467295, 'lr': 0.003675853409926799, 'n_layers': 5, 'units': 64}\n",
      " • RMSE=0.377, time= 28.8s, params={'batch_size': 128, 'dropout': 0.00460011903805671, 'lr': 0.0011113989211149913, 'n_layers': 1, 'units': 256}\n"
     ]
    }
   ],
   "source": [
    "# Decode & inspect the top-5 trials (loss, time, params)\n",
    "from hyperopt import space_eval\n",
    "\n",
    "# 1) Decode best hyperparameters\n",
    "best_params = space_eval(param_space, best)\n",
    "print(\"→ Best real params:\", best_params)\n",
    "\n",
    "# 2) Inspect top-5 trials\n",
    "print(\"\\nTop 5 validation RMSE ⇢ duration ⇢ params:\")\n",
    "for t in sorted(trials.trials, key=lambda x: x[\"result\"][\"loss\"])[:5]:\n",
    "    loss = t[\"result\"][\"loss\"]\n",
    "    # compute elapsed seconds from Hyperopt's top-level timestamps\n",
    "    delta = t[\"refresh_time\"] - t[\"book_time\"]\n",
    "    dur   = delta.total_seconds() if hasattr(delta, \"total_seconds\") else float(delta)\n",
    "    # unpack hyperopt 'vals' (each entry is a 1-element list)\n",
    "    prm   = {k: (v[0] if isinstance(v, list) else v) for k,v in t[\"misc\"][\"vals\"].items()}\n",
    "    # map choice-indices back to actual values\n",
    "    prm[\"units\"]      = [32,64,128,256][prm[\"units\"]]\n",
    "    prm[\"batch_size\"] = [32,64,128][prm[\"batch_size\"]]\n",
    "    print(f\" • RMSE={loss:.3f}, time={dur:5.1f}s, params={prm}\")"
   ]
  },
  {
   "cell_type": "markdown",
   "id": "3245fe6f-9b1a-45e7-aac7-30996b112114",
   "metadata": {},
   "source": [
    "Consistent Architecture: All top‐5 use 64 units per layer; most choose 3 hidden layers.\n",
    "\n",
    "Batch Size Trade-off: The best RMSE trials favor the largest batch (128), suggesting stable gradient estimates help.\n",
    "\n",
    "Learning Rate & Dropout: A moderate LR (~0.002) paired with extremely light dropout (<1 %) yields the lowest validation RMSE.\n",
    "\n",
    "Runtime vs. Accuracy: Faster trials (~21 s) achieve the same RMSE as slower ones (~28 s)"
   ]
  },
  {
   "cell_type": "markdown",
   "id": "3d45ef10-3e98-4a86-b0e5-adc47d3a99c4",
   "metadata": {},
   "source": [
    "### Plot RMSE vs. Time"
   ]
  },
  {
   "cell_type": "code",
   "execution_count": 43,
   "id": "fc547df0-8cee-4ce4-9a20-5c25ef3733f3",
   "metadata": {
    "editable": true,
    "slideshow": {
     "slide_type": ""
    },
    "tags": []
   },
   "outputs": [
    {
     "data": {
      "image/png": "[encoded data removed]",
      "text/plain": [
       "<Figure size 600x400 with 1 Axes>"
      ]
     },
     "metadata": {},
     "output_type": "display_data"
    }
   ],
   "source": [
    "# 5.1) Plot RMSE vs. Duration for all trials\n",
    "import matplotlib.pyplot as plt\n",
    "\n",
    "# gather per-trial loss & duration\n",
    "losses   = [t[\"result\"][\"loss\"]                        for t in trials.trials]\n",
    "durations= [(t[\"refresh_time\"] - t[\"book_time\"]).total_seconds()\n",
    "             if hasattr((t[\"refresh_time\"] - t[\"book_time\"]), \"total_seconds\")\n",
    "             else float(t[\"refresh_time\"] - t[\"book_time\"])\n",
    "            for t in trials.trials]\n",
    "\n",
    "plt.figure(figsize=(6,4))\n",
    "plt.scatter(durations, losses, alpha=0.6)\n",
    "plt.xlabel(\"Duration (s)\")\n",
    "plt.ylabel(\"Validation RMSE (log)\")\n",
    "plt.title(\"Hyperopt Trials: RMSE vs. Time\")\n",
    "plt.grid(True)\n",
    "plt.show()"
   ]
  },
  {
   "cell_type": "markdown",
   "id": "2472fb17-39e9-4d8e-b3ac-08080c90c84f",
   "metadata": {},
   "source": [
    "Cluster of Efficient Trials (≈0.36–0.45 RMSE in 20–40 s):\n",
    "Most of the best‐performing runs (log-RMSE ∼0.36–0.45) complete in roughly 20–40 seconds, indicating that the optimal 3×64 architecture consistently converges quickly.\n",
    "\n",
    "Diminishing Returns Beyond ~25 s:\n",
    "Beyond ~25 s, additional runtime rarely drives RMSE below ~0.36. This suggests we can safely cap training time per trial (e.g., fewer epochs or earlier stopping) without sacrificing performance.\n",
    "\n",
    "High-Error Outliers:\n",
    "A few trials exceed 0.6 RMSE in under 20 s—these typically correspond to very sparse networks (1–2 layers or tiny units) or overly aggressive dropout.\n",
    "\n",
    "Trade-off Sweet Spot:\n",
    "The densest cluster of low-error points sits around 21–24 s; this aligns with the top-2 trials (RMSE=0.368 at ~21 s), confirming that the chosen hyperparameters are both accurate and efficient."
   ]
  },
  {
   "cell_type": "markdown",
   "id": "f682f53f-f412-4818-8264-4e0734d3aad9",
   "metadata": {},
   "source": [
    "### Final Retrain on Train+Val & Evaluate on Test"
   ]
  },
  {
   "cell_type": "code",
   "execution_count": 45,
   "id": "8cbc9794-4460-487f-b625-90e2654c93b1",
   "metadata": {
    "editable": true,
    "slideshow": {
     "slide_type": ""
    },
    "tags": []
   },
   "outputs": [
    {
     "name": "stdout",
     "output_type": "stream",
     "text": [
      "Epoch 1/50\n",
      "\u001b[1m1030/1030\u001b[0m \u001b[32m━━━━━━━━━━━━━━━━━━━━\u001b[0m\u001b[37m\u001b[0m \u001b[1m1s\u001b[0m 671us/step - loss: 2.2150 - rmse: 1.3215 - val_loss: 0.2321 - val_rmse: 0.4818\n",
      "Epoch 2/50\n",
      "\u001b[1m1030/1030\u001b[0m \u001b[32m━━━━━━━━━━━━━━━━━━━━\u001b[0m\u001b[37m\u001b[0m \u001b[1m1s\u001b[0m 623us/step - loss: 0.2683 - rmse: 0.5179 - val_loss: 0.2082 - val_rmse: 0.4563\n",
      "Epoch 3/50\n",
      "\u001b[1m1030/1030\u001b[0m \u001b[32m━━━━━━━━━━━━━━━━━━━━\u001b[0m\u001b[37m\u001b[0m \u001b[1m1s\u001b[0m 630us/step - loss: 0.2354 - rmse: 0.4851 - val_loss: 0.2441 - val_rmse: 0.4941\n",
      "Epoch 4/50\n",
      "\u001b[1m1030/1030\u001b[0m \u001b[32m━━━━━━━━━━━━━━━━━━━━\u001b[0m\u001b[37m\u001b[0m \u001b[1m1s\u001b[0m 657us/step - loss: 0.2161 - rmse: 0.4648 - val_loss: 0.1964 - val_rmse: 0.4432\n",
      "Epoch 5/50\n",
      "\u001b[1m1030/1030\u001b[0m \u001b[32m━━━━━━━━━━━━━━━━━━━━\u001b[0m\u001b[37m\u001b[0m \u001b[1m1s\u001b[0m 623us/step - loss: 0.2080 - rmse: 0.4561 - val_loss: 0.2236 - val_rmse: 0.4728\n",
      "Epoch 6/50\n",
      "\u001b[1m1030/1030\u001b[0m \u001b[32m━━━━━━━━━━━━━━━━━━━━\u001b[0m\u001b[37m\u001b[0m \u001b[1m1s\u001b[0m 622us/step - loss: 0.2025 - rmse: 0.4499 - val_loss: 0.1626 - val_rmse: 0.4033\n",
      "Epoch 7/50\n",
      "\u001b[1m1030/1030\u001b[0m \u001b[32m━━━━━━━━━━━━━━━━━━━━\u001b[0m\u001b[37m\u001b[0m \u001b[1m1s\u001b[0m 620us/step - loss: 0.1931 - rmse: 0.4394 - val_loss: 0.1587 - val_rmse: 0.3983\n",
      "Epoch 8/50\n",
      "\u001b[1m1030/1030\u001b[0m \u001b[32m━━━━━━━━━━━━━━━━━━━━\u001b[0m\u001b[37m\u001b[0m \u001b[1m1s\u001b[0m 620us/step - loss: 0.1868 - rmse: 0.4322 - val_loss: 0.2138 - val_rmse: 0.4624\n",
      "Epoch 9/50\n",
      "\u001b[1m1030/1030\u001b[0m \u001b[32m━━━━━━━━━━━━━━━━━━━━\u001b[0m\u001b[37m\u001b[0m \u001b[1m1s\u001b[0m 618us/step - loss: 0.1875 - rmse: 0.4329 - val_loss: 0.2034 - val_rmse: 0.4510\n",
      "Epoch 10/50\n",
      "\u001b[1m1030/1030\u001b[0m \u001b[32m━━━━━━━━━━━━━━━━━━━━\u001b[0m\u001b[37m\u001b[0m \u001b[1m1s\u001b[0m 624us/step - loss: 0.1813 - rmse: 0.4257 - val_loss: 0.1906 - val_rmse: 0.4366\n",
      "Epoch 11/50\n",
      "\u001b[1m1030/1030\u001b[0m \u001b[32m━━━━━━━━━━━━━━━━━━━━\u001b[0m\u001b[37m\u001b[0m \u001b[1m1s\u001b[0m 624us/step - loss: 0.1784 - rmse: 0.4223 - val_loss: 0.1590 - val_rmse: 0.3987\n",
      "Epoch 12/50\n",
      "\u001b[1m1030/1030\u001b[0m \u001b[32m━━━━━━━━━━━━━━━━━━━━\u001b[0m\u001b[37m\u001b[0m \u001b[1m1s\u001b[0m 626us/step - loss: 0.1752 - rmse: 0.4184 - val_loss: 0.1580 - val_rmse: 0.3975\n",
      "Epoch 13/50\n",
      "\u001b[1m1030/1030\u001b[0m \u001b[32m━━━━━━━━━━━━━━━━━━━━\u001b[0m\u001b[37m\u001b[0m \u001b[1m1s\u001b[0m 623us/step - loss: 0.1748 - rmse: 0.4180 - val_loss: 0.1486 - val_rmse: 0.3854\n",
      "Epoch 14/50\n",
      "\u001b[1m1030/1030\u001b[0m \u001b[32m━━━━━━━━━━━━━━━━━━━━\u001b[0m\u001b[37m\u001b[0m \u001b[1m1s\u001b[0m 663us/step - loss: 0.1659 - rmse: 0.4073 - val_loss: 0.1508 - val_rmse: 0.3883\n",
      "Epoch 15/50\n",
      "\u001b[1m1030/1030\u001b[0m \u001b[32m━━━━━━━━━━━━━━━━━━━━\u001b[0m\u001b[37m\u001b[0m \u001b[1m1s\u001b[0m 622us/step - loss: 0.1633 - rmse: 0.4041 - val_loss: 0.1526 - val_rmse: 0.3907\n",
      "Epoch 16/50\n",
      "\u001b[1m1030/1030\u001b[0m \u001b[32m━━━━━━━━━━━━━━━━━━━━\u001b[0m\u001b[37m\u001b[0m \u001b[1m1s\u001b[0m 622us/step - loss: 0.1654 - rmse: 0.4066 - val_loss: 0.1464 - val_rmse: 0.3826\n",
      "Epoch 17/50\n",
      "\u001b[1m1030/1030\u001b[0m \u001b[32m━━━━━━━━━━━━━━━━━━━━\u001b[0m\u001b[37m\u001b[0m \u001b[1m1s\u001b[0m 621us/step - loss: 0.1587 - rmse: 0.3983 - val_loss: 0.1466 - val_rmse: 0.3829\n",
      "Epoch 18/50\n",
      "\u001b[1m1030/1030\u001b[0m \u001b[32m━━━━━━━━━━━━━━━━━━━━\u001b[0m\u001b[37m\u001b[0m \u001b[1m1s\u001b[0m 660us/step - loss: 0.1565 - rmse: 0.3955 - val_loss: 0.1504 - val_rmse: 0.3878\n",
      "Epoch 19/50\n",
      "\u001b[1m1030/1030\u001b[0m \u001b[32m━━━━━━━━━━━━━━━━━━━━\u001b[0m\u001b[37m\u001b[0m \u001b[1m1s\u001b[0m 627us/step - loss: 0.1553 - rmse: 0.3941 - val_loss: 0.1462 - val_rmse: 0.3824\n",
      "Epoch 20/50\n",
      "\u001b[1m1030/1030\u001b[0m \u001b[32m━━━━━━━━━━━━━━━━━━━━\u001b[0m\u001b[37m\u001b[0m \u001b[1m1s\u001b[0m 625us/step - loss: 0.1534 - rmse: 0.3916 - val_loss: 0.1435 - val_rmse: 0.3789\n",
      "Epoch 21/50\n",
      "\u001b[1m1030/1030\u001b[0m \u001b[32m━━━━━━━━━━━━━━━━━━━━\u001b[0m\u001b[37m\u001b[0m \u001b[1m1s\u001b[0m 625us/step - loss: 0.1521 - rmse: 0.3900 - val_loss: 0.1406 - val_rmse: 0.3750\n",
      "Epoch 22/50\n",
      "\u001b[1m1030/1030\u001b[0m \u001b[32m━━━━━━━━━━━━━━━━━━━━\u001b[0m\u001b[37m\u001b[0m \u001b[1m1s\u001b[0m 622us/step - loss: 0.1521 - rmse: 0.3899 - val_loss: 0.1430 - val_rmse: 0.3782\n",
      "Epoch 23/50\n",
      "\u001b[1m1030/1030\u001b[0m \u001b[32m━━━━━━━━━━━━━━━━━━━━\u001b[0m\u001b[37m\u001b[0m \u001b[1m1s\u001b[0m 625us/step - loss: 0.1506 - rmse: 0.3881 - val_loss: 0.1433 - val_rmse: 0.3786\n",
      "Epoch 24/50\n",
      "\u001b[1m1030/1030\u001b[0m \u001b[32m━━━━━━━━━━━━━━━━━━━━\u001b[0m\u001b[37m\u001b[0m \u001b[1m1s\u001b[0m 625us/step - loss: 0.1476 - rmse: 0.3842 - val_loss: 0.1414 - val_rmse: 0.3760\n",
      "Epoch 25/50\n",
      "\u001b[1m1030/1030\u001b[0m \u001b[32m━━━━━━━━━━━━━━━━━━━━\u001b[0m\u001b[37m\u001b[0m \u001b[1m1s\u001b[0m 635us/step - loss: 0.1476 - rmse: 0.3841 - val_loss: 0.1396 - val_rmse: 0.3736\n",
      "Epoch 26/50\n",
      "\u001b[1m1030/1030\u001b[0m \u001b[32m━━━━━━━━━━━━━━━━━━━━\u001b[0m\u001b[37m\u001b[0m \u001b[1m1s\u001b[0m 672us/step - loss: 0.1474 - rmse: 0.3839 - val_loss: 0.1416 - val_rmse: 0.3762\n",
      "Epoch 27/50\n",
      "\u001b[1m1030/1030\u001b[0m \u001b[32m━━━━━━━━━━━━━━━━━━━━\u001b[0m\u001b[37m\u001b[0m \u001b[1m1s\u001b[0m 630us/step - loss: 0.1473 - rmse: 0.3838 - val_loss: 0.1392 - val_rmse: 0.3731\n",
      "Epoch 28/50\n",
      "\u001b[1m1030/1030\u001b[0m \u001b[32m━━━━━━━━━━━━━━━━━━━━\u001b[0m\u001b[37m\u001b[0m \u001b[1m1s\u001b[0m 627us/step - loss: 0.1461 - rmse: 0.3822 - val_loss: 0.1377 - val_rmse: 0.3711\n",
      "Epoch 29/50\n",
      "\u001b[1m1030/1030\u001b[0m \u001b[32m━━━━━━━━━━━━━━━━━━━━\u001b[0m\u001b[37m\u001b[0m \u001b[1m1s\u001b[0m 623us/step - loss: 0.1465 - rmse: 0.3827 - val_loss: 0.1369 - val_rmse: 0.3700\n",
      "Epoch 30/50\n",
      "\u001b[1m1030/1030\u001b[0m \u001b[32m━━━━━━━━━━━━━━━━━━━━\u001b[0m\u001b[37m\u001b[0m \u001b[1m1s\u001b[0m 630us/step - loss: 0.1447 - rmse: 0.3804 - val_loss: 0.1376 - val_rmse: 0.3709\n",
      "Epoch 31/50\n",
      "\u001b[1m1030/1030\u001b[0m \u001b[32m━━━━━━━━━━━━━━━━━━━━\u001b[0m\u001b[37m\u001b[0m \u001b[1m1s\u001b[0m 620us/step - loss: 0.1447 - rmse: 0.3804 - val_loss: 0.1393 - val_rmse: 0.3732\n",
      "Epoch 32/50\n",
      "\u001b[1m1030/1030\u001b[0m \u001b[32m━━━━━━━━━━━━━━━━━━━━\u001b[0m\u001b[37m\u001b[0m \u001b[1m1s\u001b[0m 666us/step - loss: 0.1443 - rmse: 0.3798 - val_loss: 0.1371 - val_rmse: 0.3703\n",
      "Epoch 33/50\n",
      "\u001b[1m1030/1030\u001b[0m \u001b[32m━━━━━━━━━━━━━━━━━━━━\u001b[0m\u001b[37m\u001b[0m \u001b[1m1s\u001b[0m 618us/step - loss: 0.1437 - rmse: 0.3791 - val_loss: 0.1377 - val_rmse: 0.3711\n",
      "Epoch 34/50\n",
      "\u001b[1m1030/1030\u001b[0m \u001b[32m━━━━━━━━━━━━━━━━━━━━\u001b[0m\u001b[37m\u001b[0m \u001b[1m1s\u001b[0m 630us/step - loss: 0.1423 - rmse: 0.3772 - val_loss: 0.1366 - val_rmse: 0.3696\n",
      "Epoch 35/50\n",
      "\u001b[1m1030/1030\u001b[0m \u001b[32m━━━━━━━━━━━━━━━━━━━━\u001b[0m\u001b[37m\u001b[0m \u001b[1m1s\u001b[0m 622us/step - loss: 0.1428 - rmse: 0.3779 - val_loss: 0.1376 - val_rmse: 0.3710\n",
      "Epoch 36/50\n",
      "\u001b[1m1030/1030\u001b[0m \u001b[32m━━━━━━━━━━━━━━━━━━━━\u001b[0m\u001b[37m\u001b[0m \u001b[1m1s\u001b[0m 626us/step - loss: 0.1422 - rmse: 0.3771 - val_loss: 0.1365 - val_rmse: 0.3694\n",
      "Epoch 37/50\n",
      "\u001b[1m1030/1030\u001b[0m \u001b[32m━━━━━━━━━━━━━━━━━━━━\u001b[0m\u001b[37m\u001b[0m \u001b[1m1s\u001b[0m 634us/step - loss: 0.1422 - rmse: 0.3771 - val_loss: 0.1383 - val_rmse: 0.3719\n",
      "Epoch 38/50\n",
      "\u001b[1m1030/1030\u001b[0m \u001b[32m━━━━━━━━━━━━━━━━━━━━\u001b[0m\u001b[37m\u001b[0m \u001b[1m1s\u001b[0m 746us/step - loss: 0.1412 - rmse: 0.3757 - val_loss: 0.1353 - val_rmse: 0.3678\n",
      "Epoch 39/50\n",
      "\u001b[1m1030/1030\u001b[0m \u001b[32m━━━━━━━━━━━━━━━━━━━━\u001b[0m\u001b[37m\u001b[0m \u001b[1m1s\u001b[0m 684us/step - loss: 0.1410 - rmse: 0.3755 - val_loss: 0.1363 - val_rmse: 0.3692\n",
      "Epoch 40/50\n",
      "\u001b[1m1030/1030\u001b[0m \u001b[32m━━━━━━━━━━━━━━━━━━━━\u001b[0m\u001b[37m\u001b[0m \u001b[1m1s\u001b[0m 627us/step - loss: 0.1406 - rmse: 0.3749 - val_loss: 0.1354 - val_rmse: 0.3679\n",
      "Epoch 41/50\n",
      "\u001b[1m1030/1030\u001b[0m \u001b[32m━━━━━━━━━━━━━━━━━━━━\u001b[0m\u001b[37m\u001b[0m \u001b[1m1s\u001b[0m 631us/step - loss: 0.1395 - rmse: 0.3735 - val_loss: 0.1388 - val_rmse: 0.3725\n",
      "Epoch 42/50\n",
      "\u001b[1m1030/1030\u001b[0m \u001b[32m━━━━━━━━━━━━━━━━━━━━\u001b[0m\u001b[37m\u001b[0m \u001b[1m1s\u001b[0m 632us/step - loss: 0.1398 - rmse: 0.3739 - val_loss: 0.1389 - val_rmse: 0.3727\n",
      "Epoch 43/50\n",
      "\u001b[1m1030/1030\u001b[0m \u001b[32m━━━━━━━━━━━━━━━━━━━━\u001b[0m\u001b[37m\u001b[0m \u001b[1m1s\u001b[0m 631us/step - loss: 0.1391 - rmse: 0.3730 - val_loss: 0.1374 - val_rmse: 0.3707\n",
      "Epoch 43: early stopping\n",
      "Restoring model weights from the end of the best epoch: 38.\n",
      "\n",
      "→ Best epoch=38, val_RMSE(log)=0.368\n",
      "\u001b[1m1374/1374\u001b[0m \u001b[32m━━━━━━━━━━━━━━━━━━━━\u001b[0m\u001b[37m\u001b[0m \u001b[1m0s\u001b[0m 193us/step\n",
      "Test RMSE = 17887.97\n",
      "Test R²   = 0.581\n"
     ]
    }
   ],
   "source": [
    "# Retrain final model on Train+Val & evaluate on TEST ───\n",
    "\n",
    "import numpy as np\n",
    "from sklearn.metrics import mean_squared_error, r2_score\n",
    "from hyperopt import space_eval\n",
    "\n",
    "# 1) Merge train + val (on log-scale targets)\n",
    "X_full      = np.vstack([X_train, X_val])\n",
    "y_full_log  = np.concatenate([y_train_log, y_val_log])\n",
    "\n",
    "# 2) Decode the best hyperopt parameters\n",
    "best_params = space_eval(param_space, best)\n",
    "\n",
    "# 3) Build and compile the model with those params\n",
    "model = keras.Sequential([layers.Input(shape=(X_full.shape[1],))])\n",
    "for _ in range(int(best_params[\"n_layers\"])):\n",
    "    model.add(layers.Dense(int(best_params[\"units\"]), activation=\"relu\"))\n",
    "    model.add(layers.Dropout(best_params[\"dropout\"]))\n",
    "model.add(layers.Dense(1, name=\"output\"))\n",
    "\n",
    "opt = optimizers.Adam(learning_rate=best_params[\"lr\"])\n",
    "model.compile(\n",
    "    optimizer=opt,\n",
    "    loss=keras.losses.MeanSquaredError(),\n",
    "    metrics=[keras.metrics.RootMeanSquaredError(name=\"rmse\")],\n",
    ")\n",
    "\n",
    "# 4) Fit with early stopping (on validation split of the combined set)\n",
    "final_stop = keras.callbacks.EarlyStopping(\n",
    "    monitor=\"val_rmse\",\n",
    "    patience=5,\n",
    "    restore_best_weights=True,\n",
    "    verbose=1,\n",
    ")\n",
    "\n",
    "hist = model.fit(\n",
    "    X_full, y_full_log,\n",
    "    validation_split=len(X_val) / len(X_full),\n",
    "    epochs=50,\n",
    "    batch_size=int(best_params[\"batch_size\"]),\n",
    "    callbacks=[final_stop],\n",
    "    verbose=1,\n",
    ")\n",
    "\n",
    "# 5) Identify best epoch on the log-scale\n",
    "val_rmses = hist.history[\"val_rmse\"]\n",
    "best_idx  = int(np.argmin(val_rmses))\n",
    "print(f\"\\n→ Best epoch={best_idx+1}, val_RMSE(log)={val_rmses[best_idx]:.3f}\")\n",
    "\n",
    "# 6) Evaluate on the held-out test set (back-transforming the predictions)\n",
    "y_pred_log = model.predict(X_test).ravel()\n",
    "y_pred     = np.expm1(y_pred_log)\n",
    "\n",
    "rmse_test = np.sqrt(mean_squared_error(y_test, y_pred))\n",
    "r2_test   = r2_score(y_test, y_pred)\n",
    "print(f\"Test RMSE = {rmse_test:.2f}\")\n",
    "print(f\"Test R²   = {r2_test:.3f}\")"
   ]
  },
  {
   "cell_type": "markdown",
   "id": "541076be-2182-4ac6-ad10-2e696691c5c2",
   "metadata": {},
   "source": [
    "At epoch 38 we hit the sweet spot: further training yielded no validation gain.\n",
    "\n",
    "On the real‐price scale, an RMSE of 17.9K USD means our model's absolute error is ≈ 12 % of the median diamond price (∼$150 K).\n",
    "\n",
    "An R² of 0.58 indicates the model explains about 58 % of price variance—respectable for a purely tabular MLP but room remains for improvement."
   ]
  },
  {
   "cell_type": "markdown",
   "id": "f7240a1b-a109-4cc0-8428-fd15037003fe",
   "metadata": {
    "editable": true,
    "slideshow": {
     "slide_type": ""
    },
    "tags": []
   },
   "source": [
    "### Retrain Curve (Train vs. Val RMSE per Epoch)"
   ]
  },
  {
   "cell_type": "code",
   "execution_count": 46,
   "id": "bfa2040e-cfaf-47e8-8985-27d5993ffd87",
   "metadata": {
    "editable": true,
    "slideshow": {
     "slide_type": ""
    },
    "tags": []
   },
   "outputs": [
    {
     "data": {
      "image/png": "[encoded data removed]",
      "text/plain": [
       "<Figure size 600x400 with 1 Axes>"
      ]
     },
     "metadata": {},
     "output_type": "display_data"
    }
   ],
   "source": [
    "# Retrain-curve: Train vs. Validation RMSE per epoch ───\n",
    "\n",
    "import matplotlib.pyplot as plt\n",
    "import numpy as np\n",
    "\n",
    "# sanity check: 'hist' should be defined by your retraining cell\n",
    "# plt.figure to size the figure\n",
    "plt.figure(figsize=(6, 4))\n",
    "\n",
    "# plot training & validation RMSE over epochs\n",
    "plt.plot(hist.history[\"rmse\"],     label=\"Train RMSE\")\n",
    "plt.plot(hist.history[\"val_rmse\"], label=\"Val   RMSE\")\n",
    "\n",
    "# compute best epoch (lowest val_rmse)\n",
    "best_epoch = int(np.argmin(hist.history[\"val_rmse\"]))\n",
    "# draw a vertical line at best_epoch\n",
    "plt.axvline(best_epoch, color=\"gray\", linestyle=\"--\",\n",
    "            label=f\"Best epoch ({best_epoch+1})\")\n",
    "\n",
    "plt.xlabel(\"Epoch\")\n",
    "plt.ylabel(\"RMSE (log)\")\n",
    "plt.title(\"Train vs. Validation RMSE per Epoch\")\n",
    "plt.legend()\n",
    "plt.grid(True)\n",
    "plt.show()"
   ]
  },
  {
   "cell_type": "markdown",
   "id": "fce009e1-725f-471e-8bf5-5ca14e51e939",
   "metadata": {
    "editable": true,
    "slideshow": {
     "slide_type": ""
    },
    "tags": []
   },
   "source": [
    "The training curve (blue) drops sharply in the first few epochs, then decays more gradually to ~0.38.\n",
    "\n",
    "The validation curve (orange) follows a similar pattern, oscillating slightly but steadily improving until it plateaus around epoch 38.\n",
    "\n",
    "The dashed vertical line at epoch 38 marks the early-stop point—beyond this, no meaningful validation gain is achieved, confirming we chose the right stopping time."
   ]
  },
  {
   "cell_type": "markdown",
   "id": "8f7b8ccb-c00e-4c8b-baf4-fc8d971ad334",
   "metadata": {},
   "source": [
    "### Save summary CSV, Trials pickle, and final model"
   ]
  },
  {
   "cell_type": "code",
   "execution_count": 53,
   "id": "f9f1c562-7068-4eb0-bc4c-3324ef05a305",
   "metadata": {
    "editable": true,
    "slideshow": {
     "slide_type": ""
    },
    "tags": []
   },
   "outputs": [
    {
     "name": "stdout",
     "output_type": "stream",
     "text": [
      "Saved hyperopt_summary.csv, hyperopt_trials.pkl, and best_model_hyperopt.keras\n"
     ]
    }
   ],
   "source": [
    "# Save summary CSV, Trials pickle, and final model\n",
    "import pickle\n",
    "import pandas as pd\n",
    "\n",
    "# Build summary DataFrame\n",
    "records = []\n",
    "for t in trials.trials:\n",
    "    loss = t[\"result\"][\"loss\"]\n",
    "    delta = t[\"refresh_time\"] - t[\"book_time\"]\n",
    "    dur   = delta.total_seconds() if hasattr(delta, \"total_seconds\") else float(delta)\n",
    "    prms  = {k: (v[0] if isinstance(v, list) else v) for k,v in t[\"misc\"][\"vals\"].items()}\n",
    "    # map choice-indices back\n",
    "    prms[\"units\"]      = [32,64,128,256][prms[\"units\"]]\n",
    "    prms[\"batch_size\"] = [32,64,128][prms[\"batch_size\"]]\n",
    "    records.append({\"rmse\": loss, \"duration_s\": dur, **prms})\n",
    "\n",
    "df_summary = pd.DataFrame(records)\n",
    "df_summary.to_csv(\"data/processed/hyperopt_summary_1.csv\", index=False)\n",
    "\n",
    "# Save the Trials object\n",
    "with open(\"data/processed/hyperopt_trials_1.pkl\", \"wb\") as f:\n",
    "    pickle.dump(trials, f)\n",
    "\n",
    "# Save the final Keras model (assumes 'model' is your retrained one)\n",
    "model.save(\"models/hyperopt_model_1.keras\")\n",
    "print(\"Saved hyperopt_summary.csv, hyperopt_trials.pkl, and best_model_hyperopt.keras\")"
   ]
  },
  {
   "cell_type": "code",
   "execution_count": null,
   "id": "eef1fdaa-08f3-4010-b686-ab7e20904100",
   "metadata": {
    "editable": true,
    "slideshow": {
     "slide_type": ""
    },
    "tags": []
   },
   "outputs": [],
   "source": []
  }
 ],
 "metadata": {
  "kernelspec": {
   "display_name": "Python 3 (ipykernel)",
   "language": "python",
   "name": "python3"
  },
  "language_info": {
   "codemirror_mode": {
    "name": "ipython",
    "version": 3
   },
   "file_extension": ".py",
   "mimetype": "text/x-python",
   "name": "python",
   "nbconvert_exporter": "python",
   "pygments_lexer": "ipython3",
   "version": "3.12.4"
  }
 },
 "nbformat": 4,
 "nbformat_minor": 5
}
