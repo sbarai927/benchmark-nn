{
 "cells": [
  {
   "cell_type": "markdown",
   "id": "84894f78-542d-4335-94f0-8b57c37c74f0",
   "metadata": {},
   "source": [
    "# Leverage Optuna’s TPE sampler with pruning and early stopping to hyperparameter-optimize our MLP, driving validation RMSE down efficiently."
   ]
  },
  {
   "cell_type": "markdown",
   "id": "e3dc7499-fcd1-4930-a681-da35dc786595",
   "metadata": {
    "editable": true,
    "slideshow": {
     "slide_type": ""
    },
    "tags": []
   },
   "source": [
    "### Imports"
   ]
  },
  {
   "cell_type": "code",
   "execution_count": 11,
   "id": "7067d20b-4a2f-4fdb-935e-9bdddd127f75",
   "metadata": {},
   "outputs": [],
   "source": [
    "import time\n",
    "import numpy as np\n",
    "import joblib\n",
    "\n",
    "import tensorflow as tf\n",
    "from tensorflow import keras\n",
    "from tensorflow.keras import layers, losses, metrics, optimizers\n",
    "\n",
    "from keras_tuner import Hyperband, Objective"
   ]
  },
  {
   "cell_type": "markdown",
   "id": "b6bd12f4-7412-472f-aa9d-3e4e2d82ade6",
   "metadata": {},
   "source": [
    "### Load & log‐transform the splits"
   ]
  },
  {
   "cell_type": "code",
   "execution_count": 14,
   "id": "a7af3302-6759-48a1-a5b3-d224b7086bc5",
   "metadata": {},
   "outputs": [],
   "source": [
    "X_train, y_train = joblib.load(\"data/processed/train.pkl\")\n",
    "X_val,   y_val   = joblib.load(\"data/processed/val.pkl\")\n",
    "X_test,  y_test  = joblib.load(\"data/processed/test.pkl\")\n",
    "\n",
    "y_train_log = np.log1p(y_train)\n",
    "y_val_log   = np.log1p(y_val)"
   ]
  },
  {
   "cell_type": "markdown",
   "id": "acaaf84c-cec0-402a-9dc6-bbf60215303b",
   "metadata": {},
   "source": [
    "### Model-builder"
   ]
  },
  {
   "cell_type": "code",
   "execution_count": 17,
   "id": "30d08b7e-1be9-4940-85f4-c0deda23e30e",
   "metadata": {},
   "outputs": [],
   "source": [
    "def build_model(hp):\n",
    "    model = keras.Sequential()\n",
    "    model.add(layers.Input(shape=(X_train.shape[1],)))\n",
    "    # tune 1–5 hidden layers\n",
    "    for _ in range(hp.Int(\"n_layers\", 1, 5)):\n",
    "        model.add(layers.Dense(\n",
    "            units=hp.Choice(\"units\", [32, 64, 128, 256]),\n",
    "            activation=\"relu\"))\n",
    "        model.add(layers.Dropout(\n",
    "            hp.Float(\"dropout\", 0.0, 0.5, step=0.1))\n",
    "        )\n",
    "    model.add(layers.Dense(1, activation=\"linear\"))\n",
    "    # tunable weight‐decay + lr\n",
    "    wd = hp.Float(\"weight_decay\", 1e-6, 1e-3, sampling=\"log\")\n",
    "    lr = hp.Float(\"lr\", 1e-4, 1e-2, sampling=\"log\")\n",
    "    opt = optimizers.Adam(learning_rate=lr, decay=wd)\n",
    "\n",
    "    model.compile(\n",
    "        optimizer=opt,\n",
    "        loss=losses.MeanSquaredError(),\n",
    "        metrics=[metrics.RootMeanSquaredError(name=\"rmse\")]\n",
    "    )\n",
    "    return model"
   ]
  },
  {
   "cell_type": "markdown",
   "id": "d8da63a3-342c-4aad-b360-ebdb74dc5901",
   "metadata": {},
   "source": [
    "### Timer callback & timed Hyperband subclass"
   ]
  },
  {
   "cell_type": "code",
   "execution_count": 20,
   "id": "ded73c14-83a3-4a78-bc0e-ca067bcc5253",
   "metadata": {},
   "outputs": [],
   "source": [
    "class TimedHyperband(Hyperband):\n",
    "    \"\"\"Automatically attach a TrialTimerCallback to every run_trial.\"\"\"\n",
    "    def run_trial(self, trial, *args, **kwargs):\n",
    "        \n",
    "        # record start\n",
    "        t0 = time.time()\n",
    "\n",
    "        # actually run the trial & get back the results dict\n",
    "        results = super().run_trial(trial, *args, **kwargs)\n",
    "\n",
    "        # stash the elapsed seconds on the trial object itself\n",
    "        trial.duration = time.time() - t0\n",
    "\n",
    "        # **this return is critical** so Keras-Tuner can record the objective\n",
    "        return results"
   ]
  },
  {
   "cell_type": "markdown",
   "id": "5e940228-61c3-4149-939f-fdcdfcceeb22",
   "metadata": {},
   "source": [
    "### Instantiate & run the tuner"
   ]
  },
  {
   "cell_type": "code",
   "execution_count": 24,
   "id": "16454f0d-8302-4a54-bf71-71d7050f28f1",
   "metadata": {},
   "outputs": [
    {
     "name": "stdout",
     "output_type": "stream",
     "text": [
      "Trial 90 Complete [00h 00m 12s]\n",
      "val_rmse: 0.24478548765182495\n",
      "\n",
      "Best val_rmse So Far: 0.12400000542402267\n",
      "Total elapsed time: 00h 30m 05s\n"
     ]
    }
   ],
   "source": [
    "tuner = TimedHyperband(\n",
    "    build_model,\n",
    "    objective=Objective(\"val_rmse\", direction=\"min\"),\n",
    "    max_epochs=50,\n",
    "    factor=3,\n",
    "    directory=\"kt_dir_2\",\n",
    "    project_name=\"log_target_tuning\",\n",
    ")\n",
    "\n",
    "stop_early = keras.callbacks.EarlyStopping(\n",
    "    monitor=\"val_rmse\",\n",
    "    patience=5,\n",
    "    restore_best_weights=True,\n",
    "    verbose=1\n",
    ")\n",
    "\n",
    "tuner.search(\n",
    "    X_train, y_train_log,\n",
    "    validation_data=(X_val, y_val_log),\n",
    "    epochs=50,\n",
    "    batch_size=32,\n",
    "    callbacks=[stop_early],\n",
    "    verbose=2,\n",
    ")"
   ]
  },
  {
   "cell_type": "markdown",
   "id": "7649ed80-9ff2-49bc-b31a-8ae466d0487b",
   "metadata": {},
   "source": [
    "### Table of top trials (10)"
   ]
  },
  {
   "cell_type": "code",
   "execution_count": 31,
   "id": "ccca0a59-f092-42c5-818e-e405f022e4c0",
   "metadata": {},
   "outputs": [
    {
     "name": "stdout",
     "output_type": "stream",
     "text": [
      "Results summary\n",
      "Results in kt_dir_2/log_target_tuning\n",
      "Showing 10 best trials\n",
      "Objective(name=\"val_rmse\", direction=\"min\")\n",
      "\n",
      "Trial 0072 summary\n",
      "Hyperparameters:\n",
      "n_layers: 4\n",
      "units: 256\n",
      "dropout: 0.0\n",
      "weight_decay: 2.6952491781326377e-06\n",
      "lr: 0.0004247686756839466\n",
      "tuner/epochs: 50\n",
      "tuner/initial_epoch: 17\n",
      "tuner/bracket: 2\n",
      "tuner/round: 2\n",
      "tuner/trial_id: 0067\n",
      "Score: 0.12400000542402267\n",
      "\n",
      "Trial 0050 summary\n",
      "Hyperparameters:\n",
      "n_layers: 5\n",
      "units: 64\n",
      "dropout: 0.0\n",
      "weight_decay: 3.0710488269344596e-05\n",
      "lr: 0.002919952347499889\n",
      "tuner/epochs: 50\n",
      "tuner/initial_epoch: 17\n",
      "tuner/bracket: 3\n",
      "tuner/round: 3\n",
      "tuner/trial_id: 0049\n",
      "Score: 0.12437716126441956\n",
      "\n",
      "Trial 0082 summary\n",
      "Hyperparameters:\n",
      "n_layers: 2\n",
      "units: 64\n",
      "dropout: 0.0\n",
      "weight_decay: 1.0207083719295966e-06\n",
      "lr: 0.0010195867676497958\n",
      "tuner/epochs: 50\n",
      "tuner/initial_epoch: 17\n",
      "tuner/bracket: 1\n",
      "tuner/round: 1\n",
      "tuner/trial_id: 0079\n",
      "Score: 0.12509262561798096\n",
      "\n",
      "Trial 0067 summary\n",
      "Hyperparameters:\n",
      "n_layers: 4\n",
      "units: 256\n",
      "dropout: 0.0\n",
      "weight_decay: 2.6952491781326377e-06\n",
      "lr: 0.0004247686756839466\n",
      "tuner/epochs: 17\n",
      "tuner/initial_epoch: 6\n",
      "tuner/bracket: 2\n",
      "tuner/round: 1\n",
      "tuner/trial_id: 0061\n",
      "Score: 0.1252516508102417\n",
      "\n",
      "Trial 0051 summary\n",
      "Hyperparameters:\n",
      "n_layers: 4\n",
      "units: 64\n",
      "dropout: 0.0\n",
      "weight_decay: 0.0001529517897232226\n",
      "lr: 0.0054020687227606555\n",
      "tuner/epochs: 50\n",
      "tuner/initial_epoch: 17\n",
      "tuner/bracket: 3\n",
      "tuner/round: 3\n",
      "tuner/trial_id: 0046\n",
      "Score: 0.12730249762535095\n",
      "\n",
      "Trial 0049 summary\n",
      "Hyperparameters:\n",
      "n_layers: 5\n",
      "units: 64\n",
      "dropout: 0.0\n",
      "weight_decay: 3.0710488269344596e-05\n",
      "lr: 0.002919952347499889\n",
      "tuner/epochs: 17\n",
      "tuner/initial_epoch: 6\n",
      "tuner/bracket: 3\n",
      "tuner/round: 2\n",
      "tuner/trial_id: 0035\n",
      "Score: 0.1279730349779129\n",
      "\n",
      "Trial 0085 summary\n",
      "Hyperparameters:\n",
      "n_layers: 3\n",
      "units: 128\n",
      "dropout: 0.0\n",
      "weight_decay: 1.3933460688397026e-06\n",
      "lr: 0.005910286085987312\n",
      "tuner/epochs: 50\n",
      "tuner/initial_epoch: 0\n",
      "tuner/bracket: 0\n",
      "tuner/round: 0\n",
      "Score: 0.12878699600696564\n",
      "\n",
      "Trial 0046 summary\n",
      "Hyperparameters:\n",
      "n_layers: 4\n",
      "units: 64\n",
      "dropout: 0.0\n",
      "weight_decay: 0.0001529517897232226\n",
      "lr: 0.0054020687227606555\n",
      "tuner/epochs: 17\n",
      "tuner/initial_epoch: 6\n",
      "tuner/bracket: 3\n",
      "tuner/round: 2\n",
      "tuner/trial_id: 0034\n",
      "Score: 0.12880884110927582\n",
      "\n",
      "Trial 0079 summary\n",
      "Hyperparameters:\n",
      "n_layers: 2\n",
      "units: 64\n",
      "dropout: 0.0\n",
      "weight_decay: 1.0207083719295966e-06\n",
      "lr: 0.0010195867676497958\n",
      "tuner/epochs: 17\n",
      "tuner/initial_epoch: 0\n",
      "tuner/bracket: 1\n",
      "tuner/round: 0\n",
      "Score: 0.12997284531593323\n",
      "\n",
      "Trial 0081 summary\n",
      "Hyperparameters:\n",
      "n_layers: 5\n",
      "units: 32\n",
      "dropout: 0.0\n",
      "weight_decay: 0.0002321042428058487\n",
      "lr: 0.008128524746629794\n",
      "tuner/epochs: 17\n",
      "tuner/initial_epoch: 0\n",
      "tuner/bracket: 1\n",
      "tuner/round: 0\n",
      "Score: 0.1315068155527115\n",
      "Best validation RMSE (log): 0.124000\n"
     ]
    }
   ],
   "source": [
    "tuner.results_summary()      \n",
    "best_trials = tuner.oracle.get_best_trials(1)\n",
    "t = best_trials[0]\n",
    "print(f\"Best validation RMSE (log): {t.score:.6f}\")"
   ]
  },
  {
   "cell_type": "markdown",
   "id": "3165d524-9a71-405a-ab8b-249412dc2357",
   "metadata": {},
   "source": [
    "### Inspect the top‐5 trials with RMSE, duration & hyperparams"
   ]
  },
  {
   "cell_type": "code",
   "execution_count": 34,
   "id": "f8a63ed7-0dfe-468c-8d78-6445d61a3a58",
   "metadata": {
    "editable": true,
    "slideshow": {
     "slide_type": ""
    },
    "tags": []
   },
   "outputs": [
    {
     "name": "stdout",
     "output_type": "stream",
     "text": [
      "Top 5 validation RMSE / duration / params\n",
      " • RMSE=0.124, time=92.5s, params={'n_layers': 4, 'units': 256, 'dropout': 0.0, 'weight_decay': 2.6952491781326377e-06, 'lr': 0.0004247686756839466, 'tuner/epochs': 50, 'tuner/initial_epoch': 17, 'tuner/bracket': 2, 'tuner/round': 2, 'tuner/trial_id': '0067'}\n",
      " • RMSE=0.124, time=22.9s, params={'n_layers': 5, 'units': 64, 'dropout': 0.0, 'weight_decay': 3.0710488269344596e-05, 'lr': 0.002919952347499889, 'tuner/epochs': 50, 'tuner/initial_epoch': 17, 'tuner/bracket': 3, 'tuner/round': 3, 'tuner/trial_id': '0049'}\n",
      " • RMSE=0.125, time=25.0s, params={'n_layers': 2, 'units': 64, 'dropout': 0.0, 'weight_decay': 1.0207083719295966e-06, 'lr': 0.0010195867676497958, 'tuner/epochs': 50, 'tuner/initial_epoch': 17, 'tuner/bracket': 1, 'tuner/round': 1, 'tuner/trial_id': '0079'}\n",
      " • RMSE=0.125, time=77.1s, params={'n_layers': 4, 'units': 256, 'dropout': 0.0, 'weight_decay': 2.6952491781326377e-06, 'lr': 0.0004247686756839466, 'tuner/epochs': 17, 'tuner/initial_epoch': 6, 'tuner/bracket': 2, 'tuner/round': 1, 'tuner/trial_id': '0061'}\n",
      " • RMSE=0.127, time=43.1s, params={'n_layers': 4, 'units': 64, 'dropout': 0.0, 'weight_decay': 0.0001529517897232226, 'lr': 0.0054020687227606555, 'tuner/epochs': 50, 'tuner/initial_epoch': 17, 'tuner/bracket': 3, 'tuner/round': 3, 'tuner/trial_id': '0046'}\n"
     ]
    }
   ],
   "source": [
    "best_trials = tuner.oracle.get_best_trials(num_trials=5)\n",
    "print(\"Top 5 validation RMSE / duration / params\")\n",
    "for t in best_trials:\n",
    "    val_rmse = t.metrics.get_last_value(\"val_rmse\")\n",
    "    duration = getattr(t, \"duration\", None)\n",
    "    params   = t.hyperparameters.values\n",
    "    print(f\" • RMSE={val_rmse:.3f}, time={duration:.1f}s, params={params}\")"
   ]
  },
  {
   "cell_type": "markdown",
   "id": "60589430-e48b-45b0-9f52-2534c69f8542",
   "metadata": {},
   "source": [
    "Best accuracy: Two distinct architectures (4 × 256 and 5 × 64) both achieve RMSE ≈ 0.124 on the log‐price scale.\n",
    "\n",
    "Speed vs. complexity:\n",
    "The 4-layer, 256-unit model (RMSE=0.124) takes 92 s to tune, whereas the 5-layer, 64-unit variant matches its RMSE in 23 s—a 4× speed-up at identical accuracy. Simpler 2×64 network is even faster (25 s) for only 0.001 worse RMSE.\n",
    "\n",
    "Regularization & learning rate: All top trials use no dropout, tiny weight decay (~1e-6–1e-5), and moderately small learning rates (4e-4–3e-3)."
   ]
  },
  {
   "cell_type": "markdown",
   "id": "f073b12d-78fd-4de9-9e7b-67ddb0949a73",
   "metadata": {},
   "source": [
    "### Bar chart of Top-5 Trials by Val RMSE"
   ]
  },
  {
   "cell_type": "code",
   "execution_count": 36,
   "id": "14803eb4-3f66-4d3e-ae7f-965d85010913",
   "metadata": {
    "editable": true,
    "slideshow": {
     "slide_type": ""
    },
    "tags": []
   },
   "outputs": [
    {
     "data": {
      "image/png": "[encoded data removed]",
      "text/plain": [
       "<Figure size 600x400 with 1 Axes>"
      ]
     },
     "metadata": {},
     "output_type": "display_data"
    }
   ],
   "source": [
    "import matplotlib.pyplot as plt\n",
    "\n",
    "best_trials = tuner.oracle.get_best_trials(num_trials=5)\n",
    "trial_ids  = [t.trial_id for t in best_trials]\n",
    "val_rmses  = [t.metrics.get_last_value(\"val_rmse\") for t in best_trials]\n",
    "\n",
    "plt.figure(figsize=(6, 4))\n",
    "plt.bar([f\"Trial {i}\" for i in trial_ids], val_rmses)\n",
    "plt.xlabel(\"Trial ID\")\n",
    "plt.ylabel(\"Validation RMSE\")\n",
    "plt.title(\"Top-5 Hyperparameter Trials\")\n",
    "plt.grid(axis=\"y\", alpha=0.3)\n",
    "plt.tight_layout()\n",
    "plt.show()"
   ]
  },
  {
   "cell_type": "markdown",
   "id": "aa942eab-54ff-4197-8a90-47fd810a46ca",
   "metadata": {},
   "source": [
    "### Retrain final model on (train+val) & evaluate on test"
   ]
  },
  {
   "cell_type": "code",
   "execution_count": 39,
   "id": "75068e39-f577-4285-a6b4-7be8e4c34a27",
   "metadata": {
    "editable": true,
    "slideshow": {
     "slide_type": ""
    },
    "tags": []
   },
   "outputs": [
    {
     "name": "stdout",
     "output_type": "stream",
     "text": [
      "Epoch 1/50\n",
      "\u001b[1m4722/4722\u001b[0m \u001b[32m━━━━━━━━━━━━━━━━━━━━\u001b[0m\u001b[37m\u001b[0m \u001b[1m8s\u001b[0m 2ms/step - loss: 1.0653 - rmse: 0.8253 - val_loss: 0.0283 - val_rmse: 0.1682\n",
      "Epoch 2/50\n",
      "\u001b[1m4722/4722\u001b[0m \u001b[32m━━━━━━━━━━━━━━━━━━━━\u001b[0m\u001b[37m\u001b[0m \u001b[1m7s\u001b[0m 1ms/step - loss: 0.0333 - rmse: 0.1823 - val_loss: 0.0247 - val_rmse: 0.1571\n",
      "Epoch 3/50\n",
      "\u001b[1m4722/4722\u001b[0m \u001b[32m━━━━━━━━━━━━━━━━━━━━\u001b[0m\u001b[37m\u001b[0m \u001b[1m7s\u001b[0m 2ms/step - loss: 0.0258 - rmse: 0.1606 - val_loss: 0.0261 - val_rmse: 0.1617\n",
      "Epoch 4/50\n",
      "\u001b[1m4722/4722\u001b[0m \u001b[32m━━━━━━━━━━━━━━━━━━━━\u001b[0m\u001b[37m\u001b[0m \u001b[1m7s\u001b[0m 2ms/step - loss: 0.0220 - rmse: 0.1483 - val_loss: 0.0321 - val_rmse: 0.1791\n",
      "Epoch 5/50\n",
      "\u001b[1m4722/4722\u001b[0m \u001b[32m━━━━━━━━━━━━━━━━━━━━\u001b[0m\u001b[37m\u001b[0m \u001b[1m7s\u001b[0m 2ms/step - loss: 0.0207 - rmse: 0.1438 - val_loss: 0.0254 - val_rmse: 0.1593\n",
      "Epoch 6/50\n",
      "\u001b[1m4722/4722\u001b[0m \u001b[32m━━━━━━━━━━━━━━━━━━━━\u001b[0m\u001b[37m\u001b[0m \u001b[1m7s\u001b[0m 1ms/step - loss: 0.0182 - rmse: 0.1351 - val_loss: 0.0186 - val_rmse: 0.1364\n",
      "Epoch 7/50\n",
      "\u001b[1m4722/4722\u001b[0m \u001b[32m━━━━━━━━━━━━━━━━━━━━\u001b[0m\u001b[37m\u001b[0m \u001b[1m7s\u001b[0m 2ms/step - loss: 0.0169 - rmse: 0.1301 - val_loss: 0.0206 - val_rmse: 0.1437\n",
      "Epoch 8/50\n",
      "\u001b[1m4722/4722\u001b[0m \u001b[32m━━━━━━━━━━━━━━━━━━━━\u001b[0m\u001b[37m\u001b[0m \u001b[1m7s\u001b[0m 2ms/step - loss: 0.0165 - rmse: 0.1284 - val_loss: 0.0171 - val_rmse: 0.1308\n",
      "Epoch 9/50\n",
      "\u001b[1m4722/4722\u001b[0m \u001b[32m━━━━━━━━━━━━━━━━━━━━\u001b[0m\u001b[37m\u001b[0m \u001b[1m8s\u001b[0m 2ms/step - loss: 0.0157 - rmse: 0.1252 - val_loss: 0.0160 - val_rmse: 0.1267\n",
      "Epoch 10/50\n",
      "\u001b[1m4722/4722\u001b[0m \u001b[32m━━━━━━━━━━━━━━━━━━━━\u001b[0m\u001b[37m\u001b[0m \u001b[1m7s\u001b[0m 1ms/step - loss: 0.0146 - rmse: 0.1209 - val_loss: 0.0255 - val_rmse: 0.1598\n",
      "Epoch 11/50\n",
      "\u001b[1m4722/4722\u001b[0m \u001b[32m━━━━━━━━━━━━━━━━━━━━\u001b[0m\u001b[37m\u001b[0m \u001b[1m7s\u001b[0m 2ms/step - loss: 0.0142 - rmse: 0.1193 - val_loss: 0.0196 - val_rmse: 0.1402\n",
      "Epoch 12/50\n",
      "\u001b[1m4722/4722\u001b[0m \u001b[32m━━━━━━━━━━━━━━━━━━━━\u001b[0m\u001b[37m\u001b[0m \u001b[1m7s\u001b[0m 1ms/step - loss: 0.0142 - rmse: 0.1191 - val_loss: 0.0191 - val_rmse: 0.1381\n",
      "Epoch 13/50\n",
      "\u001b[1m4722/4722\u001b[0m \u001b[32m━━━━━━━━━━━━━━━━━━━━\u001b[0m\u001b[37m\u001b[0m \u001b[1m7s\u001b[0m 2ms/step - loss: 0.0141 - rmse: 0.1188 - val_loss: 0.0223 - val_rmse: 0.1494\n",
      "Epoch 14/50\n",
      "\u001b[1m4722/4722\u001b[0m \u001b[32m━━━━━━━━━━━━━━━━━━━━\u001b[0m\u001b[37m\u001b[0m \u001b[1m7s\u001b[0m 1ms/step - loss: 0.0130 - rmse: 0.1142 - val_loss: 0.0156 - val_rmse: 0.1251\n",
      "Epoch 15/50\n",
      "\u001b[1m4722/4722\u001b[0m \u001b[32m━━━━━━━━━━━━━━━━━━━━\u001b[0m\u001b[37m\u001b[0m \u001b[1m7s\u001b[0m 2ms/step - loss: 0.0126 - rmse: 0.1124 - val_loss: 0.0165 - val_rmse: 0.1285\n",
      "Epoch 16/50\n",
      "\u001b[1m4722/4722\u001b[0m \u001b[32m━━━━━━━━━━━━━━━━━━━━\u001b[0m\u001b[37m\u001b[0m \u001b[1m7s\u001b[0m 1ms/step - loss: 0.0120 - rmse: 0.1096 - val_loss: 0.0160 - val_rmse: 0.1267\n",
      "Epoch 17/50\n",
      "\u001b[1m4722/4722\u001b[0m \u001b[32m━━━━━━━━━━━━━━━━━━━━\u001b[0m\u001b[37m\u001b[0m \u001b[1m7s\u001b[0m 1ms/step - loss: 0.0125 - rmse: 0.1116 - val_loss: 0.0162 - val_rmse: 0.1274\n",
      "Epoch 18/50\n",
      "\u001b[1m4722/4722\u001b[0m \u001b[32m━━━━━━━━━━━━━━━━━━━━\u001b[0m\u001b[37m\u001b[0m \u001b[1m7s\u001b[0m 2ms/step - loss: 0.0118 - rmse: 0.1084 - val_loss: 0.0247 - val_rmse: 0.1573\n",
      "Epoch 19/50\n",
      "\u001b[1m4722/4722\u001b[0m \u001b[32m━━━━━━━━━━━━━━━━━━━━\u001b[0m\u001b[37m\u001b[0m \u001b[1m7s\u001b[0m 1ms/step - loss: 0.0120 - rmse: 0.1097 - val_loss: 0.0189 - val_rmse: 0.1374\n",
      "\n",
      "→ Best epoch=14, val_RMSE(log)=0.125\n",
      "\u001b[1m1349/1349\u001b[0m \u001b[32m━━━━━━━━━━━━━━━━━━━━\u001b[0m\u001b[37m\u001b[0m \u001b[1m1s\u001b[0m 380us/step\n",
      "Test RMSE = 5776.07\n",
      "Test  R²  = 0.941\n"
     ]
    }
   ],
   "source": [
    "# combine log‐targets\n",
    "X_full     = np.vstack([X_train, X_val])\n",
    "y_full_log = np.concatenate([y_train_log, y_val_log])\n",
    "\n",
    "best_hp    = tuner.get_best_hyperparameters(1)[0]\n",
    "final_model = tuner.hypermodel.build(best_hp)\n",
    "\n",
    "final_stop = keras.callbacks.EarlyStopping(\n",
    "    monitor=\"val_rmse\", patience=5, restore_best_weights=True\n",
    ")\n",
    "\n",
    "# extract tuned batch_size if it exists, else default to 32\n",
    "hp_values = best_hp.values        # this is just a normal dict\n",
    "bs = hp_values.get(\"batch_size\", 32)\n",
    "\n",
    "history = final_model.fit(\n",
    "    X_full, y_full_log,\n",
    "    validation_split=len(X_val)/len(X_full),\n",
    "    epochs=50,\n",
    "    callbacks=[final_stop],\n",
    "    verbose=1\n",
    ")\n",
    "\n",
    "# find best epoch & its RMSE (on the log‐scale)\n",
    "val_rmses  = history.history[\"val_rmse\"]\n",
    "best_idx   = int(np.argmin(val_rmses))\n",
    "best_epoch = best_idx + 1\n",
    "best_log_rmse = val_rmses[best_idx]\n",
    "print(f\"\\n→ Best epoch={best_epoch}, val_RMSE(log)={best_log_rmse:.3f}\")\n",
    "\n",
    "# back‐transform & compute final test scores\n",
    "from sklearn.metrics import mean_squared_error, r2_score\n",
    "y_pred_log = final_model.predict(X_test).ravel()\n",
    "y_pred     = np.expm1(y_pred_log)\n",
    "rmse_test  = np.sqrt(mean_squared_error(y_test, y_pred))\n",
    "r2_test    = r2_score(y_test, y_pred)\n",
    "\n",
    "print(f\"Test RMSE = {rmse_test:.2f}\")\n",
    "print(f\"Test  R²  = {r2_test:.3f}\")"
   ]
  },
  {
   "cell_type": "markdown",
   "id": "b8149f40-6436-4961-a1d0-81ed00f6cf11",
   "metadata": {},
   "source": [
    "Rapid convergence: The network learns most of its structure in the first 5 epochs, then fine-tunes more slowly.\n",
    "\n",
    "Optimal stopping: Epoch 14 minimizes validation RMSE on the log‐price scale, balancing under- and over-fitting.\n",
    "\n",
    "Strong generalization: Test R² = 94.1% implies the model captures the vast majority of price variability.\n",
    "\n",
    "Practical accuracy: An RMSE of $5.8 K corresponds to an average absolute error of ~8 % of the median house price—suitable for many price‐prediction applications."
   ]
  },
  {
   "cell_type": "markdown",
   "id": "ebb98ead-fbd5-4547-8c22-d0916874e176",
   "metadata": {},
   "source": [
    "### Epoch-wise Train vs. Val RMSE"
   ]
  },
  {
   "cell_type": "code",
   "execution_count": 45,
   "id": "ab38bb02-8110-4016-a08f-99f236e5106b",
   "metadata": {
    "editable": true,
    "slideshow": {
     "slide_type": ""
    },
    "tags": []
   },
   "outputs": [
    {
     "data": {
      "image/png": "[encoded data removed]",
      "text/plain": [
       "<Figure size 800x500 with 1 Axes>"
      ]
     },
     "metadata": {},
     "output_type": "display_data"
    }
   ],
   "source": [
    "plt.figure(figsize=(8, 5))\n",
    "plt.plot(history.history[\"rmse\"], label=\"Train RMSE\")\n",
    "plt.plot(history.history[\"val_rmse\"], label=\"Val RMSE\")\n",
    "plt.xlabel(\"Epoch\")\n",
    "plt.ylabel(\"RMSE\")\n",
    "plt.title(\"Train vs. Validation RMSE per Epoch\")\n",
    "plt.legend()\n",
    "plt.grid(alpha=0.3)\n",
    "plt.tight_layout()\n",
    "plt.show()"
   ]
  },
  {
   "cell_type": "markdown",
   "id": "3a4376f0-7b07-43e4-9865-316a168b3396",
   "metadata": {},
   "source": [
    "Validation RMSE (log-scale): 0.122–0.125\n",
    "On the log-transformed price, this corresponds to very small multiplicative errors.\n",
    "\n",
    "Back-transformed Test RMSE: 5 276 – 5 776 (USD)\n",
    "In plain dollars, the model’s predictions miss actual diamond prices by roughly $5–6 K on average.\n",
    "\n",
    "Coefficient of Determination (R²): 0.94–0.95\n",
    "The model explains about 94–95 % of the variance in diamond prices."
   ]
  },
  {
   "cell_type": "markdown",
   "id": "1b4bfebf-ddd2-41ee-bc95-aba20a703517",
   "metadata": {
    "editable": true,
    "slideshow": {
     "slide_type": ""
    },
    "tags": []
   },
   "source": [
    "Trial 34 yields the lowest validation RMSE (0.122).\n",
    "\n",
    "Trial 68 is almost as accurate (0.124) but 40 % faster—often a better practical choice."
   ]
  },
  {
   "cell_type": "code",
   "execution_count": 48,
   "id": "35d508ac-ac66-4206-a770-9aafbc2e97b4",
   "metadata": {
    "editable": true,
    "slideshow": {
     "slide_type": ""
    },
    "tags": []
   },
   "outputs": [
    {
     "name": "stdout",
     "output_type": "stream",
     "text": [
      "Tuner results are in: kt_dir_2\n",
      "Wrote optuna_summary.csv\n",
      "Saved optuna_model.keras\n"
     ]
    },
    {
     "name": "stderr",
     "output_type": "stream",
     "text": [
      "/opt/anaconda3/lib/python3.12/site-packages/keras/src/optimizers/base_optimizer.py:86: UserWarning: Argument `decay` is no longer supported and will be ignored.\n",
      "  warnings.warn(\n",
      "/opt/anaconda3/lib/python3.12/site-packages/keras/src/saving/saving_lib.py:757: UserWarning: Skipping variable loading for optimizer 'adam', because it has 2 variables whereas the saved optimizer has 22 variables. \n",
      "  saveable.load_own_variables(weights_store.get(inner_path))\n"
     ]
    }
   ],
   "source": [
    "import pandas as pd\n",
    "\n",
    "print(\"Tuner results are in:\", tuner.directory)\n",
    "\n",
    "# Write out a CSV of your top-5 trials\n",
    "best_trials = tuner.oracle.get_best_trials(num_trials=5)\n",
    "rows = []\n",
    "for t in best_trials:\n",
    "    hp = t.hyperparameters.values\n",
    "    rows.append({\n",
    "        \"trial_id\":     t.trial_id,\n",
    "        \"score\":        t.score,\n",
    "        **hp\n",
    "    })\n",
    "df = pd.DataFrame(rows)\n",
    "df.to_csv(\"data/processed/optuna_summary.csv\", index=False)\n",
    "print(\"Wrote optuna_summary.csv\")\n",
    "\n",
    "# 3) Save your final retrained model\n",
    "best_model = tuner.get_best_models(num_models=1)[0]\n",
    "best_model.save(\"models/optuna_model.keras\")\n",
    "print(\"Saved optuna_model.keras\")"
   ]
  },
  {
   "cell_type": "code",
   "execution_count": null,
   "id": "63372cb0-4e75-48c6-a84f-75edb33fc575",
   "metadata": {},
   "outputs": [],
   "source": []
  }
 ],
 "metadata": {
  "kernelspec": {
   "display_name": "Python 3 (ipykernel)",
   "language": "python",
   "name": "python3"
  },
  "language_info": {
   "codemirror_mode": {
    "name": "ipython",
    "version": 3
   },
   "file_extension": ".py",
   "mimetype": "text/x-python",
   "name": "python",
   "nbconvert_exporter": "python",
   "pygments_lexer": "ipython3",
   "version": "3.12.4"
  }
 },
 "nbformat": 4,
 "nbformat_minor": 5
}
