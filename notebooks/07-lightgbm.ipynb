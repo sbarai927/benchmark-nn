{
 "cells": [
  {
   "cell_type": "markdown",
   "id": "0565849d-9f01-4115-936e-44e9333779a9",
   "metadata": {},
   "source": [
    "# Leverage LightGBM’s histogram-based boosting for ultra-fast, scalable regression and drive RMSE down."
   ]
  },
  {
   "cell_type": "markdown",
   "id": "abb20b09-db37-43a5-82ca-7b5db99762e3",
   "metadata": {},
   "source": [
    "### Imports and setup"
   ]
  },
  {
   "cell_type": "code",
   "execution_count": 107,
   "id": "b0f670ac-6e86-4a2e-bca1-4e16e459cdb0",
   "metadata": {},
   "outputs": [],
   "source": [
    "import warnings\n",
    "import logging\n",
    "from lightgbm import LGBMRegressor\n",
    "import time\n",
    "import joblib\n",
    "import numpy as np\n",
    "import pandas as pd\n",
    "import optuna\n",
    "import lightgbm as lgb\n",
    "from sklearn.model_selection import KFold\n",
    "from sklearn.metrics import mean_squared_error, r2_score\n",
    "from pathlib import Path\n",
    "warnings.filterwarnings('ignore')\n",
    "logging.getLogger(\"lightgbm\").setLevel(logging.ERROR)"
   ]
  },
  {
   "cell_type": "code",
   "execution_count": 109,
   "id": "9722d4e0-2158-478e-a752-9725da8dbd75",
   "metadata": {},
   "outputs": [],
   "source": [
    "# preprocessed data\n",
    "X_train, y_train = joblib.load(\"data/processed/train.pkl\")\n",
    "X_val,   y_val   = joblib.load(\"data/processed/val.pkl\")\n",
    "X_test,  y_test  = joblib.load(\"data/processed/test.pkl\")"
   ]
  },
  {
   "cell_type": "code",
   "execution_count": 111,
   "id": "589dae5d-787b-48e7-b847-ac7243a7cb30",
   "metadata": {},
   "outputs": [],
   "source": [
    "# Merge train+val for cross-validation\n",
    "X_train_full = np.vstack([X_train, X_val])\n",
    "y_train_full = np.concatenate([y_train, y_val])"
   ]
  },
  {
   "cell_type": "markdown",
   "id": "bd0b501b-7388-407e-9867-0c03a0720ba2",
   "metadata": {},
   "source": [
    "### Baseline LightGBM with early stopping and no verbose logs"
   ]
  },
  {
   "cell_type": "code",
   "execution_count": 113,
   "id": "10262ace-234b-4d1e-abb0-ad2c9dc8fa7d",
   "metadata": {},
   "outputs": [
    {
     "name": "stdout",
     "output_type": "stream",
     "text": [
      "Training until validation scores don't improve for 50 rounds\n",
      "Did not meet early stopping. Best iteration is:\n",
      "[1000]\tvalid_0's rmse: 4973.1\tvalid_0's l2: 2.47317e+07\n",
      "⏱️  Baseline train time : 2.96s\n",
      "🔍  Baseline Test RMSE  : 6,807.44\n",
      "📈  Baseline Test R²    : 0.918\n",
      "⏲️  Predict time        : 0.400s for 43165 samples\n"
     ]
    }
   ],
   "source": [
    "baseline = lgb.LGBMRegressor(\n",
    "    n_estimators=1000,\n",
    "    n_jobs=-1,\n",
    "    learning_rate=0.05,\n",
    "    max_depth=8,\n",
    "    random_state=42,\n",
    "    verbosity=-1\n",
    ")\n",
    "\n",
    "t0 = time.time()\n",
    "baseline.fit(\n",
    "    X_train_full, y_train_full,\n",
    "    eval_set=[(X_val, y_val)],\n",
    "    eval_metric=\"rmse\",\n",
    "    callbacks=[\n",
    "        lgb.early_stopping(stopping_rounds=50),\n",
    "        lgb.log_evaluation(period=0)\n",
    "    ]\n",
    ")\n",
    "train_time = time.time() - t0\n",
    "\n",
    "# Evaluate baseline\n",
    "pred_start = time.time()\n",
    "y_pred_base = baseline.predict(X_test)\n",
    "pred_time = time.time() - pred_start\n",
    "baseline_rmse = mean_squared_error(y_test, y_pred_base, squared=False)\n",
    "baseline_r2   = r2_score(y_test, y_pred_base)\n",
    "print(f\"⏱️  Baseline train time : {train_time:.2f}s\")\n",
    "print(f\"🔍  Baseline Test RMSE  : {baseline_rmse:,.2f}\")\n",
    "print(f\"📈  Baseline Test R²    : {baseline_r2:.3f}\")\n",
    "print(f\"⏲️  Predict time        : {pred_time:.3f}s for {len(X_test)} samples\")"
   ]
  },
  {
   "cell_type": "markdown",
   "id": "ab85ddc3-a27d-4218-a1a5-367c49018982",
   "metadata": {},
   "source": [
    "The baseline model—with default tree-based hyperparameters plus early stopping after 50 rounds—achieves strong overall fit (R²≈0.92) but still leaves ~6.8 k error on the test set."
   ]
  },
  {
   "cell_type": "markdown",
   "id": "a7672651-0cf4-486a-99aa-e3f6b4bd9fef",
   "metadata": {},
   "source": [
    "### Train LightGBM with early stopping"
   ]
  },
  {
   "cell_type": "code",
   "execution_count": 115,
   "id": "fa94680c-f5d2-4eef-9165-9ab91e372352",
   "metadata": {},
   "outputs": [
    {
     "name": "stderr",
     "output_type": "stream",
     "text": [
      "[I 2025-05-22 22:58:55,611] A new study created in memory with name: no-name-d65c702d-6b6d-4ecf-9720-0061ad7a55c3\n"
     ]
    },
    {
     "data": {
      "application/vnd.jupyter.widget-view+json": {
       "model_id": "983645e49cde4fc39c2799fd7bc1e07a",
       "version_major": 2,
       "version_minor": 0
      },
      "text/plain": [
       "  0%|          | 0/20 [00:00<?, ?it/s]"
      ]
     },
     "metadata": {},
     "output_type": "display_data"
    },
    {
     "name": "stdout",
     "output_type": "stream",
     "text": [
      "Training until validation scores don't improve for 50 rounds\n",
      "Did not meet early stopping. Best iteration is:\n",
      "[130]\tvalid_0's rmse: 17000.7\tvalid_0's l2: 2.89023e+08\n",
      "[I 2025-05-22 22:58:56,761] Trial 0 finished with value: 17000.687019353558 and parameters: {'n_estimators': 130, 'learning_rate': 0.004975346945654497, 'max_depth': 12, 'num_leaves': 121, 'min_child_samples': 14, 'subsample': 0.5210135248527092, 'colsample_bytree': 0.8139247011641872}. Best is trial 0 with value: 17000.687019353558.\n",
      "Training until validation scores don't improve for 50 rounds\n",
      "Did not meet early stopping. Best iteration is:\n",
      "[668]\tvalid_0's rmse: 6344.32\tvalid_0's l2: 4.02504e+07\n",
      "[I 2025-05-22 22:58:59,761] Trial 1 finished with value: 6344.319827499422 and parameters: {'n_estimators': 668, 'learning_rate': 0.05040909866430481, 'max_depth': 10, 'num_leaves': 73, 'min_child_samples': 50, 'subsample': 0.5686160680888526, 'colsample_bytree': 0.5269518006294374}. Best is trial 1 with value: 6344.319827499422.\n",
      "Training until validation scores don't improve for 50 rounds\n",
      "Did not meet early stopping. Best iteration is:\n",
      "[259]\tvalid_0's rmse: 8901.74\tvalid_0's l2: 7.9241e+07\n",
      "[I 2025-05-22 22:59:00,712] Trial 2 finished with value: 8901.738731212834 and parameters: {'n_estimators': 259, 'learning_rate': 0.022099197199555796, 'max_depth': 6, 'num_leaves': 182, 'min_child_samples': 9, 'subsample': 0.7812859358110493, 'colsample_bytree': 0.7108989606202516}. Best is trial 1 with value: 6344.319827499422.\n",
      "Training until validation scores don't improve for 50 rounds\n",
      "Did not meet early stopping. Best iteration is:\n",
      "[396]\tvalid_0's rmse: 9238.47\tvalid_0's l2: 8.53493e+07\n",
      "[I 2025-05-22 22:59:01,894] Trial 3 finished with value: 9238.466565849885 and parameters: {'n_estimators': 396, 'learning_rate': 0.0135655220987308, 'max_depth': 6, 'num_leaves': 170, 'min_child_samples': 14, 'subsample': 0.6574673039560999, 'colsample_bytree': 0.8960598447990995}. Best is trial 1 with value: 6344.319827499422.\n",
      "Training until validation scores don't improve for 50 rounds\n",
      "Did not meet early stopping. Best iteration is:\n",
      "[922]\tvalid_0's rmse: 12355.4\tvalid_0's l2: 1.52656e+08\n",
      "[I 2025-05-22 22:59:06,973] Trial 4 finished with value: 12355.402009130987 and parameters: {'n_estimators': 922, 'learning_rate': 0.0013927286315487035, 'max_depth': 8, 'num_leaves': 164, 'min_child_samples': 5, 'subsample': 0.8495961297959205, 'colsample_bytree': 0.8803031791695841}. Best is trial 1 with value: 6344.319827499422.\n",
      "Training until validation scores don't improve for 50 rounds\n",
      "Did not meet early stopping. Best iteration is:\n",
      "[938]\tvalid_0's rmse: 11918.6\tvalid_0's l2: 1.42053e+08\n",
      "[I 2025-05-22 22:59:11,825] Trial 5 finished with value: 11918.591792020048 and parameters: {'n_estimators': 938, 'learning_rate': 0.002874283658736398, 'max_depth': 10, 'num_leaves': 82, 'min_child_samples': 47, 'subsample': 0.6239118251369347, 'colsample_bytree': 0.8179377107471466}. Best is trial 1 with value: 6344.319827499422.\n",
      "Training until validation scores don't improve for 50 rounds\n",
      "Did not meet early stopping. Best iteration is:\n",
      "[425]\tvalid_0's rmse: 13834.6\tvalid_0's l2: 1.91395e+08\n",
      "[I 2025-05-22 22:59:13,252] Trial 6 finished with value: 13834.569916018398 and parameters: {'n_estimators': 425, 'learning_rate': 0.004851774516144466, 'max_depth': 5, 'num_leaves': 33, 'min_child_samples': 49, 'subsample': 0.932857894095821, 'colsample_bytree': 0.6951795935467303}. Best is trial 1 with value: 6344.319827499422.\n",
      "Training until validation scores don't improve for 50 rounds\n",
      "Did not meet early stopping. Best iteration is:\n",
      "[403]\tvalid_0's rmse: 12070.6\tvalid_0's l2: 1.457e+08\n",
      "[I 2025-05-22 22:59:15,080] Trial 7 finished with value: 12070.644266508578 and parameters: {'n_estimators': 403, 'learning_rate': 0.006872777241835109, 'max_depth': 7, 'num_leaves': 111, 'min_child_samples': 33, 'subsample': 0.7855630210505002, 'colsample_bytree': 0.5306587378069102}. Best is trial 1 with value: 6344.319827499422.\n",
      "Training until validation scores don't improve for 50 rounds\n",
      "Did not meet early stopping. Best iteration is:\n",
      "[919]\tvalid_0's rmse: 10812.1\tvalid_0's l2: 1.16901e+08\n",
      "[I 2025-05-22 22:59:20,033] Trial 8 finished with value: 10812.067587455846 and parameters: {'n_estimators': 919, 'learning_rate': 0.003538433734386677, 'max_depth': 12, 'num_leaves': 75, 'min_child_samples': 43, 'subsample': 0.5390230762188865, 'colsample_bytree': 0.9019167492394246}. Best is trial 1 with value: 6344.319827499422.\n",
      "Training until validation scores don't improve for 50 rounds\n",
      "Did not meet early stopping. Best iteration is:\n",
      "[844]\tvalid_0's rmse: 13731.4\tvalid_0's l2: 1.88551e+08\n",
      "[I 2025-05-22 22:59:25,228] Trial 9 finished with value: 13731.39394430068 and parameters: {'n_estimators': 844, 'learning_rate': 0.0013284638887077942, 'max_depth': 10, 'num_leaves': 120, 'min_child_samples': 12, 'subsample': 0.7646956358892163, 'colsample_bytree': 0.629245959275977}. Best is trial 1 with value: 6344.319827499422.\n",
      "Training until validation scores don't improve for 50 rounds\n",
      "Did not meet early stopping. Best iteration is:\n",
      "[717]\tvalid_0's rmse: 9054.33\tvalid_0's l2: 8.1981e+07\n",
      "[I 2025-05-22 22:59:26,697] Trial 10 finished with value: 9054.33494139489 and parameters: {'n_estimators': 717, 'learning_rate': 0.08566984837581655, 'max_depth': 3, 'num_leaves': 23, 'min_child_samples': 28, 'subsample': 0.6479439147745122, 'colsample_bytree': 0.5100942447411038}. Best is trial 1 with value: 6344.319827499422.\n",
      "Training until validation scores don't improve for 50 rounds\n",
      "Did not meet early stopping. Best iteration is:\n",
      "[113]\tvalid_0's rmse: 10247.7\tvalid_0's l2: 1.05016e+08\n",
      "[I 2025-05-22 22:59:27,449] Trial 11 finished with value: 10247.722070522428 and parameters: {'n_estimators': 113, 'learning_rate': 0.03298049555672868, 'max_depth': 9, 'num_leaves': 70, 'min_child_samples': 36, 'subsample': 0.9944409787176898, 'colsample_bytree': 0.9936212657824646}. Best is trial 1 with value: 6344.319827499422.\n",
      "Training until validation scores don't improve for 50 rounds\n",
      "Did not meet early stopping. Best iteration is:\n",
      "[667]\tvalid_0's rmse: 9263.15\tvalid_0's l2: 8.58059e+07\n",
      "[I 2025-05-22 22:59:29,026] Trial 12 finished with value: 9263.145098334984 and parameters: {'n_estimators': 667, 'learning_rate': 0.028410071333685463, 'max_depth': 4, 'num_leaves': 199, 'min_child_samples': 22, 'subsample': 0.8502863804668188, 'colsample_bytree': 0.6163020733481497}. Best is trial 1 with value: 6344.319827499422.\n",
      "Training until validation scores don't improve for 50 rounds\n",
      "Did not meet early stopping. Best iteration is:\n",
      "[263]\tvalid_0's rmse: 7806.05\tvalid_0's l2: 6.09344e+07\n",
      "[I 2025-05-22 22:59:29,942] Trial 13 finished with value: 7806.04966556049 and parameters: {'n_estimators': 263, 'learning_rate': 0.09170678063372778, 'max_depth': 7, 'num_leaves': 154, 'min_child_samples': 39, 'subsample': 0.6986529904129939, 'colsample_bytree': 0.6976015174874786}. Best is trial 1 with value: 6344.319827499422.\n",
      "Training until validation scores don't improve for 50 rounds\n",
      "Did not meet early stopping. Best iteration is:\n",
      "[573]\tvalid_0's rmse: 5728.65\tvalid_0's l2: 3.28174e+07\n",
      "[I 2025-05-22 22:59:32,499] Trial 14 finished with value: 5728.647502919691 and parameters: {'n_estimators': 573, 'learning_rate': 0.06281071841199655, 'max_depth': 10, 'num_leaves': 144, 'min_child_samples': 40, 'subsample': 0.5905870421796413, 'colsample_bytree': 0.5953863268275119}. Best is trial 14 with value: 5728.647502919691.\n",
      "Training until validation scores don't improve for 50 rounds\n",
      "Did not meet early stopping. Best iteration is:\n",
      "[593]\tvalid_0's rmse: 6263.7\tvalid_0's l2: 3.92339e+07\n",
      "[I 2025-05-22 22:59:35,338] Trial 15 finished with value: 6263.698935698734 and parameters: {'n_estimators': 593, 'learning_rate': 0.04973630007774037, 'max_depth': 10, 'num_leaves': 138, 'min_child_samples': 43, 'subsample': 0.5738495868381908, 'colsample_bytree': 0.5936209378334765}. Best is trial 14 with value: 5728.647502919691.\n",
      "Training until validation scores don't improve for 50 rounds\n",
      "Did not meet early stopping. Best iteration is:\n",
      "[524]\tvalid_0's rmse: 6153.05\tvalid_0's l2: 3.78601e+07\n",
      "[I 2025-05-22 22:59:37,779] Trial 16 finished with value: 6153.054390697246 and parameters: {'n_estimators': 524, 'learning_rate': 0.04687266105104783, 'max_depth': 11, 'num_leaves': 142, 'min_child_samples': 42, 'subsample': 0.5865361094149005, 'colsample_bytree': 0.5975369844042709}. Best is trial 14 with value: 5728.647502919691.\n",
      "Training until validation scores don't improve for 50 rounds\n",
      "Did not meet early stopping. Best iteration is:\n",
      "[577]\tvalid_0's rmse: 8008.04\tvalid_0's l2: 6.41288e+07\n",
      "[I 2025-05-22 22:59:40,701] Trial 17 finished with value: 8008.043346897837 and parameters: {'n_estimators': 577, 'learning_rate': 0.014869803192851114, 'max_depth': 11, 'num_leaves': 139, 'min_child_samples': 31, 'subsample': 0.7051673409983464, 'colsample_bytree': 0.59267511733662}. Best is trial 14 with value: 5728.647502919691.\n",
      "Training until validation scores don't improve for 50 rounds\n",
      "Did not meet early stopping. Best iteration is:\n",
      "[470]\tvalid_0's rmse: 6037.86\tvalid_0's l2: 3.64558e+07\n",
      "[I 2025-05-22 22:59:42,854] Trial 18 finished with value: 6037.860856329881 and parameters: {'n_estimators': 470, 'learning_rate': 0.04988151418438736, 'max_depth': 9, 'num_leaves': 143, 'min_child_samples': 23, 'subsample': 0.6015962498894326, 'colsample_bytree': 0.6626321044249618}. Best is trial 14 with value: 5728.647502919691.\n",
      "Training until validation scores don't improve for 50 rounds\n",
      "Did not meet early stopping. Best iteration is:\n",
      "[806]\tvalid_0's rmse: 4096.38\tvalid_0's l2: 1.67803e+07\n",
      "[I 2025-05-22 22:59:45,584] Trial 19 finished with value: 4096.37904982606 and parameters: {'n_estimators': 806, 'learning_rate': 0.07023837230672607, 'max_depth': 8, 'num_leaves': 96, 'min_child_samples': 20, 'subsample': 0.6912263499413255, 'colsample_bytree': 0.6596056316304952}. Best is trial 19 with value: 4096.37904982606.\n"
     ]
    }
   ],
   "source": [
    "def objective(trial):\n",
    "    params = {\n",
    "        \"n_estimators\":      trial.suggest_int(\"n_estimators\", 100, 1000),\n",
    "        \"learning_rate\":     trial.suggest_float(\"learning_rate\", 1e-3, 1e-1, log=True),\n",
    "        \"max_depth\":         trial.suggest_int(\"max_depth\", 3, 12),\n",
    "        \"num_leaves\":        trial.suggest_int(\"num_leaves\", 20, 200),\n",
    "        \"min_child_samples\": trial.suggest_int(\"min_child_samples\", 5, 50),\n",
    "        \"subsample\":         trial.suggest_float(\"subsample\", 0.5, 1.0),\n",
    "        \"colsample_bytree\":  trial.suggest_float(\"colsample_bytree\", 0.5, 1.0),\n",
    "        \"random_state\":      42,\n",
    "        \"n_jobs\":            -1,\n",
    "        \"verbose\":           -1,\n",
    "    }\n",
    "    model = LGBMRegressor(**params)\n",
    "    model.fit(\n",
    "        X_train_full, y_train_full,\n",
    "        eval_set=[(X_val, y_val)],\n",
    "        eval_metric=\"rmse\",\n",
    "        callbacks=[\n",
    "            lgb.log_evaluation(period=0),           # no per‐iter prints\n",
    "            lgb.early_stopping(stopping_rounds=50),\n",
    "        ],\n",
    "    )\n",
    "    preds = model.predict(X_val)\n",
    "    return mean_squared_error(y_val, preds, squared=False)\n",
    "\n",
    "# 2) Run the Optuna study\n",
    "study = optuna.create_study(direction=\"minimize\")\n",
    "study.optimize(objective, n_trials=20, show_progress_bar=True)"
   ]
  },
  {
   "cell_type": "markdown",
   "id": "8e0dee03-70a7-4994-bb6b-94c3a69852a6",
   "metadata": {},
   "source": [
    "### Summarize & Plot Top 5 Trials "
   ]
  },
  {
   "cell_type": "code",
   "execution_count": 121,
   "id": "3f3d0017-932f-4b90-b371-a51601e42ede",
   "metadata": {},
   "outputs": [
    {
     "name": "stdout",
     "output_type": "stream",
     "text": [
      "🔎 Top 5 Optuna Trials:\n"
     ]
    },
    {
     "data": {
      "text/html": [
       "<div>\n",
       "<style scoped>\n",
       "    .dataframe tbody tr th:only-of-type {\n",
       "        vertical-align: middle;\n",
       "    }\n",
       "\n",
       "    .dataframe tbody tr th {\n",
       "        vertical-align: top;\n",
       "    }\n",
       "\n",
       "    .dataframe thead th {\n",
       "        text-align: right;\n",
       "    }\n",
       "</style>\n",
       "<table border=\"1\" class=\"dataframe\">\n",
       "  <thead>\n",
       "    <tr style=\"text-align: right;\">\n",
       "      <th></th>\n",
       "      <th>number</th>\n",
       "      <th>value</th>\n",
       "      <th>param_colsample_bytree</th>\n",
       "      <th>param_learning_rate</th>\n",
       "      <th>param_max_depth</th>\n",
       "      <th>param_min_child_samples</th>\n",
       "      <th>param_n_estimators</th>\n",
       "      <th>param_num_leaves</th>\n",
       "      <th>param_subsample</th>\n",
       "    </tr>\n",
       "  </thead>\n",
       "  <tbody>\n",
       "    <tr>\n",
       "      <th>19</th>\n",
       "      <td>19</td>\n",
       "      <td>4096.379050</td>\n",
       "      <td>0.659606</td>\n",
       "      <td>0.070238</td>\n",
       "      <td>8</td>\n",
       "      <td>20</td>\n",
       "      <td>806</td>\n",
       "      <td>96</td>\n",
       "      <td>0.691226</td>\n",
       "    </tr>\n",
       "    <tr>\n",
       "      <th>14</th>\n",
       "      <td>14</td>\n",
       "      <td>5728.647503</td>\n",
       "      <td>0.595386</td>\n",
       "      <td>0.062811</td>\n",
       "      <td>10</td>\n",
       "      <td>40</td>\n",
       "      <td>573</td>\n",
       "      <td>144</td>\n",
       "      <td>0.590587</td>\n",
       "    </tr>\n",
       "    <tr>\n",
       "      <th>18</th>\n",
       "      <td>18</td>\n",
       "      <td>6037.860856</td>\n",
       "      <td>0.662632</td>\n",
       "      <td>0.049882</td>\n",
       "      <td>9</td>\n",
       "      <td>23</td>\n",
       "      <td>470</td>\n",
       "      <td>143</td>\n",
       "      <td>0.601596</td>\n",
       "    </tr>\n",
       "    <tr>\n",
       "      <th>16</th>\n",
       "      <td>16</td>\n",
       "      <td>6153.054391</td>\n",
       "      <td>0.597537</td>\n",
       "      <td>0.046873</td>\n",
       "      <td>11</td>\n",
       "      <td>42</td>\n",
       "      <td>524</td>\n",
       "      <td>142</td>\n",
       "      <td>0.586536</td>\n",
       "    </tr>\n",
       "    <tr>\n",
       "      <th>15</th>\n",
       "      <td>15</td>\n",
       "      <td>6263.698936</td>\n",
       "      <td>0.593621</td>\n",
       "      <td>0.049736</td>\n",
       "      <td>10</td>\n",
       "      <td>43</td>\n",
       "      <td>593</td>\n",
       "      <td>138</td>\n",
       "      <td>0.573850</td>\n",
       "    </tr>\n",
       "  </tbody>\n",
       "</table>\n",
       "</div>"
      ],
      "text/plain": [
       "    number        value  param_colsample_bytree  param_learning_rate  \\\n",
       "19      19  4096.379050                0.659606             0.070238   \n",
       "14      14  5728.647503                0.595386             0.062811   \n",
       "18      18  6037.860856                0.662632             0.049882   \n",
       "16      16  6153.054391                0.597537             0.046873   \n",
       "15      15  6263.698936                0.593621             0.049736   \n",
       "\n",
       "    param_max_depth  param_min_child_samples  param_n_estimators  \\\n",
       "19                8                       20                 806   \n",
       "14               10                       40                 573   \n",
       "18                9                       23                 470   \n",
       "16               11                       42                 524   \n",
       "15               10                       43                 593   \n",
       "\n",
       "    param_num_leaves  param_subsample  \n",
       "19                96         0.691226  \n",
       "14               144         0.590587  \n",
       "18               143         0.601596  \n",
       "16               142         0.586536  \n",
       "15               138         0.573850  "
      ]
     },
     "metadata": {},
     "output_type": "display_data"
    },
    {
     "data": {
      "image/png": "[encoded data removed]",
      "text/plain": [
       "<Figure size 700x400 with 1 Axes>"
      ]
     },
     "metadata": {},
     "output_type": "display_data"
    }
   ],
   "source": [
    "import pandas as pd\n",
    "import matplotlib.pyplot as plt\n",
    "\n",
    "# Grab the full dataframe of trials, then filter in only the `number` / `value` / all params_… columns\n",
    "df_all = study.trials_dataframe()\n",
    "cols = [c for c in df_all.columns if c == \"number\" or c == \"value\" or c.startswith(\"params_\")]\n",
    "trials_df = df_all[cols].rename(columns=lambda s: s.replace(\"params_\", \"param_\"))\n",
    "\n",
    "# Display top 5 by lowest validation RMSE\n",
    "top5 = trials_df.nsmallest(5, \"value\")\n",
    "print(\"🔎 Top 5 Optuna Trials:\")\n",
    "display(top5)\n",
    "\n",
    "# Simple bar plot of their RMSEs\n",
    "plt.figure(figsize=(7,4))\n",
    "plt.bar(top5[\"number\"].astype(str), top5[\"value\"])\n",
    "plt.xlabel(\"Trial\")\n",
    "plt.ylabel(\"Validation RMSE\")\n",
    "plt.title(\"Top 5 Optuna Trials by RMSE\")\n",
    "plt.show()"
   ]
  },
  {
   "cell_type": "markdown",
   "id": "37865395-77bf-4bbd-83f4-5b0a7137fa57",
   "metadata": {},
   "source": [
    "### Retrain & Final Evaluate Best Model"
   ]
  },
  {
   "cell_type": "code",
   "execution_count": 123,
   "id": "4dda5673-a1cc-43bb-bc1d-04a914fe860c",
   "metadata": {},
   "outputs": [
    {
     "name": "stdout",
     "output_type": "stream",
     "text": [
      "Training until validation scores don't improve for 50 rounds\n",
      "Did not meet early stopping. Best iteration is:\n",
      "[806]\tvalid_0's rmse: 4096.38\tvalid_0's l2: 1.67803e+07\n",
      "🔑 Test RMSE    : 6,751.84\n",
      "🔑 Test R²       : 0.919\n",
      "⏱  Train time   : 2.84 s\n",
      "⏱  Predict time : 0.322 s for 43165 samples\n"
     ]
    }
   ],
   "source": [
    "best_params = study.best_params\n",
    "best_model  = LGBMRegressor(**best_params,\n",
    "                            random_state=42,\n",
    "                            n_jobs=-1,\n",
    "                            verbose=-1)\n",
    "\n",
    "# 1) Train (with early stop, silent)\n",
    "t0 = time.time()\n",
    "best_model.fit(\n",
    "    X_train_full, y_train_full,\n",
    "    eval_set=[(X_val, y_val)],\n",
    "    eval_metric=\"rmse\",\n",
    "    callbacks=[lgb.log_evaluation(period=0),\n",
    "               lgb.early_stopping(stopping_rounds=50)],\n",
    ")\n",
    "train_time = time.time() - t0\n",
    "\n",
    "# 2) Predict + time it\n",
    "t1 = time.time()\n",
    "y_pred = best_model.predict(X_test)\n",
    "pred_time = time.time() - t1\n",
    "\n",
    "# 3) Compute metrics\n",
    "test_rmse = mean_squared_error(y_test, y_pred, squared=False)\n",
    "test_r2   = r2_score(y_test, y_pred)\n",
    "\n",
    "# 4) Print clean summary\n",
    "print(f\"🔑 Test RMSE    : {test_rmse:,.2f}\")\n",
    "print(f\"🔑 Test R²       : {test_r2:.3f}\")\n",
    "print(f\"⏱  Train time   : {train_time:.2f} s\")\n",
    "print(f\"⏱  Predict time : {pred_time:.3f} s for {len(X_test)} samples\")"
   ]
  },
  {
   "cell_type": "markdown",
   "id": "489eb9cf-4032-4aa8-a6f7-65b693d021c6",
   "metadata": {},
   "source": [
    "By searching over ~20 trials, Optuna found a hyperparameter set that lowers the validation error by ~18% versus the baseline (4,096 vs. 4,973 RMSE). On the hold-out test set this improvement carries through modestly (6,751 vs. 6,807 RMSE) and edges up R² by 0.001."
   ]
  },
  {
   "cell_type": "markdown",
   "id": "6586ce3e-4a6e-40ee-bac5-0fae6cc846d4",
   "metadata": {},
   "source": [
    "Error Reduction\n",
    "Optuna tuning yields a clear win on validation (−877 RMSE) and a modest win on test (−56 RMSE).\n",
    "\n",
    "Complexity vs. Speed\n",
    "The tuned model trains faster (2.84 s vs. 2.96 s) and predicts faster (0.322 s vs. 0.400 s), thanks to fewer boosting rounds (best_iter≈806 vs. 1000)."
   ]
  },
  {
   "cell_type": "code",
   "execution_count": 136,
   "id": "e084394c-0122-4a51-8df1-5a92d9bb3fbb",
   "metadata": {},
   "outputs": [],
   "source": [
    "trials_df.to_csv(\"data/processed/lightgbm_results.csv\", index=False)"
   ]
  },
  {
   "cell_type": "code",
   "execution_count": 142,
   "id": "c03c3b63-6af1-4b47-82b1-1eb79d827745",
   "metadata": {},
   "outputs": [
    {
     "data": {
      "text/plain": [
       "['data/processed/lightgbm_regressor.pkl']"
      ]
     },
     "execution_count": 142,
     "metadata": {},
     "output_type": "execute_result"
    }
   ],
   "source": [
    "joblib.dump(best_model, \"data/processed/lightgbm_regressor.pkl\")"
   ]
  },
  {
   "cell_type": "code",
   "execution_count": null,
   "id": "1fbcb8b1-9b6c-4548-b6db-a55d45fb6399",
   "metadata": {},
   "outputs": [],
   "source": []
  }
 ],
 "metadata": {
  "kernelspec": {
   "display_name": "Python 3 (ipykernel)",
   "language": "python",
   "name": "python3"
  },
  "language_info": {
   "codemirror_mode": {
    "name": "ipython",
    "version": 3
   },
   "file_extension": ".py",
   "mimetype": "text/x-python",
   "name": "python",
   "nbconvert_exporter": "python",
   "pygments_lexer": "ipython3",
   "version": "3.12.4"
  }
 },
 "nbformat": 4,
 "nbformat_minor": 5
}
