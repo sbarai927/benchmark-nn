{
 "cells": [
  {
   "cell_type": "code",
   "execution_count": 2,
   "id": "7c40ba82-9eb9-433f-8ecb-641015994349",
   "metadata": {},
   "outputs": [
    {
     "name": "stdout",
     "output_type": "stream",
     "text": [
      "Collecting optuna\n",
      "  Downloading optuna-4.3.0-py3-none-any.whl.metadata (17 kB)\n",
      "Requirement already satisfied: alembic>=1.5.0 in /opt/anaconda3/lib/python3.12/site-packages (from optuna) (1.15.2)\n",
      "Collecting colorlog (from optuna)\n",
      "  Downloading colorlog-6.9.0-py3-none-any.whl.metadata (10 kB)\n",
      "Requirement already satisfied: numpy in /opt/anaconda3/lib/python3.12/site-packages (from optuna) (1.26.4)\n",
      "Requirement already satisfied: packaging>=20.0 in /opt/anaconda3/lib/python3.12/site-packages (from optuna) (23.2)\n",
      "Requirement already satisfied: sqlalchemy>=1.4.2 in /opt/anaconda3/lib/python3.12/site-packages (from optuna) (2.0.30)\n",
      "Requirement already satisfied: tqdm in /opt/anaconda3/lib/python3.12/site-packages (from optuna) (4.66.4)\n",
      "Requirement already satisfied: PyYAML in /opt/anaconda3/lib/python3.12/site-packages (from optuna) (6.0.1)\n",
      "Requirement already satisfied: Mako in /opt/anaconda3/lib/python3.12/site-packages (from alembic>=1.5.0->optuna) (1.3.10)\n",
      "Requirement already satisfied: typing-extensions>=4.12 in /opt/anaconda3/lib/python3.12/site-packages (from alembic>=1.5.0->optuna) (4.13.2)\n",
      "Requirement already satisfied: MarkupSafe>=0.9.2 in /opt/anaconda3/lib/python3.12/site-packages (from Mako->alembic>=1.5.0->optuna) (2.1.3)\n",
      "Downloading optuna-4.3.0-py3-none-any.whl (386 kB)\n",
      "\u001b[2K   \u001b[90m━━━━━━━━━━━━━━━━━━━━━━━━━━━━━━━━━━━━━━━━\u001b[0m \u001b[32m386.6/386.6 kB\u001b[0m \u001b[31m5.9 MB/s\u001b[0m eta \u001b[36m0:00:00\u001b[0ma \u001b[36m0:00:01\u001b[0m\n",
      "\u001b[?25hDownloading colorlog-6.9.0-py3-none-any.whl (11 kB)\n",
      "Installing collected packages: colorlog, optuna\n",
      "Successfully installed colorlog-6.9.0 optuna-4.3.0\n",
      "Note: you may need to restart the kernel to use updated packages.\n"
     ]
    }
   ],
   "source": [
    "pip install optuna"
   ]
  },
  {
   "cell_type": "code",
   "execution_count": 25,
   "id": "e142065a-7103-4790-8902-7f67d349db07",
   "metadata": {},
   "outputs": [
    {
     "name": "stdout",
     "output_type": "stream",
     "text": [
      "Train: (151075, 153) (151075,)\n",
      "Val:   (21583, 153) (21583,)\n"
     ]
    }
   ],
   "source": [
    "# Import tuning library\n",
    "\n",
    "import joblib\n",
    "import optuna\n",
    "import matplotlib.pyplot as plt\n",
    "from src.model import train_and_evaluate\n",
    "from src.config import param_space\n",
    "\n",
    "# load processed splits\n",
    "X_train, y_train = joblib.load(\"data/processed/train.pkl\")\n",
    "X_val,   y_val   = joblib.load(\"data/processed/val.pkl\")\n",
    "\n",
    "print(\"Train:\", X_train.shape, y_train.shape)\n",
    "print(\"Val:  \", X_val.shape,   y_val.shape)"
   ]
  },
  {
   "cell_type": "code",
   "execution_count": 49,
   "id": "95f538fb-4061-4a34-b905-38a83e908411",
   "metadata": {},
   "outputs": [
    {
     "name": "stdout",
     "output_type": "stream",
     "text": [
      "Manual run validation RMSE: 12929.8701\n"
     ]
    }
   ],
   "source": [
    "# Load a small subset (or full) of preprocessed data\n",
    "\n",
    "X_train, y_train = joblib.load(\"data/processed/train.pkl\")\n",
    "X_val,   y_val   = joblib.load(\"data/processed/val.pkl\")\n",
    "\n",
    "# Pick a fixed hyperparameter set\n",
    "params = {\n",
    "    \"n_layers\":   2,\n",
    "    \"units\":      32,\n",
    "    \"lr\":         1e-3,\n",
    "    \"batch_size\": 64\n",
    "}\n",
    "\n",
    "# Run training once and print the RMSE\n",
    "rmse = train_and_evaluate(params, X_train, y_train, X_val, y_val)\n",
    "print(f\"Manual run validation RMSE: {rmse:.4f}\")"
   ]
  },
  {
   "cell_type": "code",
   "execution_count": 50,
   "id": "0b5c9709-c6c8-4a51-a28b-9607edfe429f",
   "metadata": {},
   "outputs": [],
   "source": [
    "def objective(trial):\n",
    "    params = {\n",
    "      \"n_layers\":   trial.suggest_categorical(\"n_layers\",   param_space[\"n_layers\"]),\n",
    "      \"units\":      trial.suggest_categorical(\"units\",      param_space[\"units\"]),\n",
    "      \"lr\":         trial.suggest_float(\"lr\",\n",
    "                                        param_space[\"lr_min\"],\n",
    "                                        param_space[\"lr_max\"],\n",
    "                                        log=True),              # <- use suggest_float with log scale\n",
    "      \"batch_size\": trial.suggest_categorical(\"batch_size\", param_space[\"batch_sizes\"]),\n",
    "    }\n",
    "    return train_and_evaluate(params, X_train, y_train, X_val, y_val)"
   ]
  },
  {
   "cell_type": "code",
   "execution_count": 53,
   "id": "e5e5345c-90c2-40f3-ab07-a3f665f5fc11",
   "metadata": {},
   "outputs": [
    {
     "name": "stderr",
     "output_type": "stream",
     "text": [
      "[I 2025-05-08 21:56:40,189] A new study created in memory with name: no-name-da76116d-7a93-4eaf-a9d2-a858f0ea7425\n",
      "[I 2025-05-08 21:56:56,801] Trial 0 finished with value: 16201.69140625 and parameters: {'n_layers': 1, 'units': 32, 'lr': 0.0039304506148592384, 'batch_size': 64}. Best is trial 0 with value: 16201.69140625.\n",
      "[I 2025-05-08 21:57:29,329] Trial 1 finished with value: 15916.4453125 and parameters: {'n_layers': 2, 'units': 32, 'lr': 0.00016480676144792165, 'batch_size': 32}. Best is trial 1 with value: 15916.4453125.\n",
      "[I 2025-05-08 21:58:57,415] Trial 2 finished with value: 10955.841796875 and parameters: {'n_layers': 3, 'units': 128, 'lr': 0.00010518457680130887, 'batch_size': 16}. Best is trial 2 with value: 10955.841796875.\n",
      "[I 2025-05-08 21:59:54,345] Trial 3 finished with value: 12157.9091796875 and parameters: {'n_layers': 1, 'units': 16, 'lr': 0.009192529105503815, 'batch_size': 16}. Best is trial 2 with value: 10955.841796875.\n",
      "[I 2025-05-08 22:00:27,719] Trial 4 finished with value: 11410.1953125 and parameters: {'n_layers': 3, 'units': 32, 'lr': 0.00037175698350046363, 'batch_size': 32}. Best is trial 2 with value: 10955.841796875.\n"
     ]
    }
   ],
   "source": [
    "study = optuna.create_study(direction=\"minimize\")\n",
    "study.optimize(objective, n_trials=5)"
   ]
  },
  {
   "cell_type": "code",
   "execution_count": 57,
   "id": "467c66fc-3c55-434d-b14c-54d803740a02",
   "metadata": {},
   "outputs": [
    {
     "name": "stderr",
     "output_type": "stream",
     "text": [
      "[I 2025-05-08 22:11:24,514] A new study created in memory with name: no-name-5563d859-4144-4ef6-a1d7-16495d769e5c\n",
      "[I 2025-05-08 22:11:58,866] Trial 0 finished with value: 19647.6953125 and parameters: {'n_layers': 1, 'units': 128, 'lr': 0.0003014613187878014, 'batch_size': 32}. Best is trial 0 with value: 19647.6953125.\n",
      "[I 2025-05-08 22:12:50,289] Trial 1 finished with value: 7969.9267578125 and parameters: {'n_layers': 3, 'units': 128, 'lr': 0.008089515352602378, 'batch_size': 32}. Best is trial 1 with value: 7969.9267578125.\n",
      "[I 2025-05-08 22:13:23,561] Trial 2 finished with value: 15138.8076171875 and parameters: {'n_layers': 1, 'units': 128, 'lr': 0.0037804091625314243, 'batch_size': 32}. Best is trial 1 with value: 7969.9267578125.\n",
      "[I 2025-05-08 22:13:57,747] Trial 3 finished with value: 13800.8193359375 and parameters: {'n_layers': 2, 'units': 64, 'lr': 0.00025021500946804655, 'batch_size': 32}. Best is trial 1 with value: 7969.9267578125.\n",
      "[I 2025-05-08 22:14:31,073] Trial 4 finished with value: 18098.63671875 and parameters: {'n_layers': 1, 'units': 128, 'lr': 0.00048666480206275095, 'batch_size': 32}. Best is trial 1 with value: 7969.9267578125.\n",
      "[I 2025-05-08 22:14:46,685] Trial 5 finished with value: 20363.279296875 and parameters: {'n_layers': 1, 'units': 16, 'lr': 0.0009889699207502615, 'batch_size': 64}. Best is trial 1 with value: 7969.9267578125.\n",
      "[I 2025-05-08 22:15:02,431] Trial 6 finished with value: 19360.23828125 and parameters: {'n_layers': 1, 'units': 32, 'lr': 0.001039097578988629, 'batch_size': 64}. Best is trial 1 with value: 7969.9267578125.\n",
      "[I 2025-05-08 22:16:07,135] Trial 7 finished with value: 13234.2236328125 and parameters: {'n_layers': 3, 'units': 32, 'lr': 0.0001267261487013991, 'batch_size': 16}. Best is trial 1 with value: 7969.9267578125.\n",
      "[I 2025-05-08 22:16:37,278] Trial 8 finished with value: 7794.97509765625 and parameters: {'n_layers': 3, 'units': 128, 'lr': 0.0008043824724851495, 'batch_size': 64}. Best is trial 8 with value: 7794.97509765625.\n",
      "[I 2025-05-08 22:17:15,142] Trial 9 finished with value: 8224.5712890625 and parameters: {'n_layers': 3, 'units': 64, 'lr': 0.0006690670713363339, 'batch_size': 32}. Best is trial 8 with value: 7794.97509765625.\n"
     ]
    }
   ],
   "source": [
    "study = optuna.create_study(direction=\"minimize\")\n",
    "study.optimize(objective, n_trials=10)"
   ]
  },
  {
   "cell_type": "code",
   "execution_count": 59,
   "id": "3c3c57e7-112e-4459-8381-52a42cadd3ac",
   "metadata": {},
   "outputs": [
    {
     "name": "stderr",
     "output_type": "stream",
     "text": [
      "[I 2025-05-08 22:41:56,339] A new study created in memory with name: no-name-8e48f791-c510-47fc-a2ca-e73aec3890a9\n",
      "[I 2025-05-08 22:42:16,292] Trial 0 finished with value: 22494.662109375 and parameters: {'n_layers': 1, 'units': 128, 'lr': 0.0001590487447238571, 'batch_size': 64}. Best is trial 0 with value: 22494.662109375.\n",
      "[I 2025-05-08 22:43:15,797] Trial 1 finished with value: 18250.306640625 and parameters: {'n_layers': 1, 'units': 32, 'lr': 0.0007473245778167559, 'batch_size': 16}. Best is trial 1 with value: 18250.306640625.\n",
      "[I 2025-05-08 22:44:01,358] Trial 2 finished with value: 9749.7080078125 and parameters: {'n_layers': 2, 'units': 128, 'lr': 0.0007969302934440885, 'batch_size': 32}. Best is trial 2 with value: 9749.7080078125.\n",
      "[I 2025-05-08 22:44:25,209] Trial 3 finished with value: 7878.111328125 and parameters: {'n_layers': 3, 'units': 64, 'lr': 0.005516427485359596, 'batch_size': 64}. Best is trial 3 with value: 7878.111328125.\n",
      "[I 2025-05-08 22:45:36,800] Trial 4 finished with value: 11040.7587890625 and parameters: {'n_layers': 3, 'units': 64, 'lr': 0.0002094789962832586, 'batch_size': 16}. Best is trial 3 with value: 7878.111328125.\n",
      "[I 2025-05-08 22:46:43,219] Trial 5 finished with value: 10681.6328125 and parameters: {'n_layers': 2, 'units': 64, 'lr': 0.0006427371333882381, 'batch_size': 16}. Best is trial 3 with value: 7878.111328125.\n",
      "[I 2025-05-08 22:47:00,342] Trial 6 finished with value: 24548.162109375 and parameters: {'n_layers': 1, 'units': 64, 'lr': 0.0001218353836524396, 'batch_size': 64}. Best is trial 3 with value: 7878.111328125.\n",
      "[I 2025-05-08 22:47:36,075] Trial 7 finished with value: 8407.1123046875 and parameters: {'n_layers': 2, 'units': 64, 'lr': 0.002116647128311506, 'batch_size': 32}. Best is trial 3 with value: 7878.111328125.\n",
      "[I 2025-05-08 22:48:36,590] Trial 8 finished with value: 14271.0517578125 and parameters: {'n_layers': 1, 'units': 64, 'lr': 0.002732625966498162, 'batch_size': 16}. Best is trial 3 with value: 7878.111328125.\n",
      "[I 2025-05-08 22:49:07,833] Trial 9 finished with value: 17214.234375 and parameters: {'n_layers': 2, 'units': 16, 'lr': 0.00019610901069659948, 'batch_size': 32}. Best is trial 3 with value: 7878.111328125.\n",
      "[I 2025-05-08 22:49:25,015] Trial 10 finished with value: 8251.52734375 and parameters: {'n_layers': 3, 'units': 16, 'lr': 0.008850841549109686, 'batch_size': 64}. Best is trial 3 with value: 7878.111328125.\n",
      "[I 2025-05-08 22:49:42,119] Trial 11 finished with value: 7315.7412109375 and parameters: {'n_layers': 3, 'units': 16, 'lr': 0.008946064648152691, 'batch_size': 64}. Best is trial 11 with value: 7315.7412109375.\n",
      "[I 2025-05-08 22:49:59,333] Trial 12 finished with value: 8896.1123046875 and parameters: {'n_layers': 3, 'units': 16, 'lr': 0.009793263842040772, 'batch_size': 64}. Best is trial 11 with value: 7315.7412109375.\n",
      "[I 2025-05-08 22:50:17,571] Trial 13 finished with value: 8247.0595703125 and parameters: {'n_layers': 3, 'units': 32, 'lr': 0.004089185518334719, 'batch_size': 64}. Best is trial 11 with value: 7315.7412109375.\n",
      "[I 2025-05-08 22:50:35,712] Trial 14 finished with value: 8233.9697265625 and parameters: {'n_layers': 3, 'units': 16, 'lr': 0.0050108673530534446, 'batch_size': 64}. Best is trial 11 with value: 7315.7412109375.\n"
     ]
    }
   ],
   "source": [
    "study = optuna.create_study(direction=\"minimize\")\n",
    "study.optimize(objective, n_trials=15)"
   ]
  },
  {
   "cell_type": "code",
   "execution_count": 61,
   "id": "58809a31-f67f-4072-9b96-53893f6bd813",
   "metadata": {},
   "outputs": [
    {
     "name": "stdout",
     "output_type": "stream",
     "text": [
      "Best params: {'n_layers': 3, 'units': 16, 'lr': 0.008946064648152691, 'batch_size': 64}\n",
      "Best RMSE:   7315.7412109375\n"
     ]
    },
    {
     "data": {
      "image/png": "[encoded data removed]",
      "text/plain": [
       "<Figure size 640x480 with 1 Axes>"
      ]
     },
     "metadata": {},
     "output_type": "display_data"
    }
   ],
   "source": [
    "print(\"Best params:\", study.best_params)\n",
    "print(\"Best RMSE:  \", study.best_value)\n",
    "\n",
    "# plot RMSE over trials\n",
    "plt.plot([t.value for t in study.trials], marker=\"o\")\n",
    "plt.xlabel(\"Trial\"); plt.ylabel(\"Validation RMSE\")\n",
    "plt.show()"
   ]
  },
  {
   "cell_type": "code",
   "execution_count": 63,
   "id": "0577142d-dfdd-4f62-bb32-85091dd12d34",
   "metadata": {},
   "outputs": [
    {
     "data": {
      "text/plain": [
       "['data/processed/optuna_study.pkl']"
      ]
     },
     "execution_count": 63,
     "metadata": {},
     "output_type": "execute_result"
    }
   ],
   "source": [
    "joblib.dump(study, \"data/processed/optuna_study.pkl\")"
   ]
  },
  {
   "cell_type": "code",
   "execution_count": null,
   "id": "ca624c0b-1935-4153-9d99-900e46ef7d59",
   "metadata": {},
   "outputs": [],
   "source": []
  }
 ],
 "metadata": {
  "kernelspec": {
   "display_name": "Python 3 (ipykernel)",
   "language": "python",
   "name": "python3"
  },
  "language_info": {
   "codemirror_mode": {
    "name": "ipython",
    "version": 3
   },
   "file_extension": ".py",
   "mimetype": "text/x-python",
   "name": "python",
   "nbconvert_exporter": "python",
   "pygments_lexer": "ipython3",
   "version": "3.12.4"
  }
 },
 "nbformat": 4,
 "nbformat_minor": 5
}
