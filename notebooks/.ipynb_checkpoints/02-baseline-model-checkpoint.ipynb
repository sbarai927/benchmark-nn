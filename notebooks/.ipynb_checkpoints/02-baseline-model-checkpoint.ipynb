{
 "cells": [
  {
   "cell_type": "markdown",
   "id": "759d0b74-594f-4983-8d79-1a8ad5d204b4",
   "metadata": {},
   "source": [
    "# Implement a simple MLP in TensorFlow/Keras, train on the preprocessed data, and evaluate its baseline performance (RMSE) on validation and test sets."
   ]
  },
  {
   "cell_type": "markdown",
   "id": "b79a91e3-e9b4-451d-97a2-6e7f93a8acd2",
   "metadata": {},
   "source": [
    "### Import Library "
   ]
  },
  {
   "cell_type": "code",
   "execution_count": 13,
   "id": "3d5cb3d1-e118-4957-948e-60cd1c07f6be",
   "metadata": {},
   "outputs": [],
   "source": [
    "import joblib\n",
    "import numpy as np\n",
    "import tensorflow as tf\n",
    "from tensorflow.keras import layers, models"
   ]
  },
  {
   "cell_type": "markdown",
   "id": "e2871b11-24f7-4453-a9f0-9580dfe3b10b",
   "metadata": {},
   "source": [
    "### Data Loading & Shapes"
   ]
  },
  {
   "cell_type": "code",
   "execution_count": 22,
   "id": "1a4ea208-74eb-4497-b482-f11dd161dfd1",
   "metadata": {},
   "outputs": [
    {
     "name": "stdout",
     "output_type": "stream",
     "text": [
      "Train: (151075, 153) (151075,)\n",
      "Val:   (21583, 153) (21583,)\n"
     ]
    }
   ],
   "source": [
    "X_train, y_train = joblib.load(\"data/processed/train.pkl\")\n",
    "X_val,   y_val   = joblib.load(\"data/processed/val.pkl\")\n",
    "X_test,  y_test  = joblib.load(\"data/processed/test.pkl\")\n",
    "\n",
    "print(\"Train:\", X_train.shape, y_train.shape)\n",
    "print(\"Val:  \", X_val.shape,   y_val.shape)"
   ]
  },
  {
   "cell_type": "markdown",
   "id": "0d7b6c21-77dd-4e63-a403-e5f136d5adbd",
   "metadata": {},
   "source": [
    "We have 151 075 training examples, each represented by a 153-dim feature vector.\n",
    "\n",
    "The validation and test sets are each 21 583 examples.\n",
    "\n",
    "Targets (y_train, etc.) are one-dimensional arrays of the same length."
   ]
  },
  {
   "cell_type": "markdown",
   "id": "93accea7-7ebe-4cbc-97eb-bfb96c2b1b9a",
   "metadata": {},
   "source": [
    "### Build a Simple MLP"
   ]
  },
  {
   "cell_type": "code",
   "execution_count": 11,
   "id": "a7f5860c-f486-45fb-8a77-4886b393ecd6",
   "metadata": {},
   "outputs": [
    {
     "data": {
      "text/html": [
       "<pre style=\"white-space:pre;overflow-x:auto;line-height:normal;font-family:Menlo,'DejaVu Sans Mono',consolas,'Courier New',monospace\"><span style=\"font-weight: bold\">Model: \"sequential\"</span>\n",
       "</pre>\n"
      ],
      "text/plain": [
       "\u001b[1mModel: \"sequential\"\u001b[0m\n"
      ]
     },
     "metadata": {},
     "output_type": "display_data"
    },
    {
     "data": {
      "text/html": [
       "<pre style=\"white-space:pre;overflow-x:auto;line-height:normal;font-family:Menlo,'DejaVu Sans Mono',consolas,'Courier New',monospace\">┏━━━━━━━━━━━━━━━━━━━━━━━━━━━━━━━━━┳━━━━━━━━━━━━━━━━━━━━━━━━┳━━━━━━━━━━━━━━━┓\n",
       "┃<span style=\"font-weight: bold\"> Layer (type)                    </span>┃<span style=\"font-weight: bold\"> Output Shape           </span>┃<span style=\"font-weight: bold\">       Param # </span>┃\n",
       "┡━━━━━━━━━━━━━━━━━━━━━━━━━━━━━━━━━╇━━━━━━━━━━━━━━━━━━━━━━━━╇━━━━━━━━━━━━━━━┩\n",
       "│ dense (<span style=\"color: #0087ff; text-decoration-color: #0087ff\">Dense</span>)                   │ (<span style=\"color: #00d7ff; text-decoration-color: #00d7ff\">None</span>, <span style=\"color: #00af00; text-decoration-color: #00af00\">64</span>)             │         <span style=\"color: #00af00; text-decoration-color: #00af00\">9,856</span> │\n",
       "├─────────────────────────────────┼────────────────────────┼───────────────┤\n",
       "│ dense_1 (<span style=\"color: #0087ff; text-decoration-color: #0087ff\">Dense</span>)                 │ (<span style=\"color: #00d7ff; text-decoration-color: #00d7ff\">None</span>, <span style=\"color: #00af00; text-decoration-color: #00af00\">32</span>)             │         <span style=\"color: #00af00; text-decoration-color: #00af00\">2,080</span> │\n",
       "├─────────────────────────────────┼────────────────────────┼───────────────┤\n",
       "│ dense_2 (<span style=\"color: #0087ff; text-decoration-color: #0087ff\">Dense</span>)                 │ (<span style=\"color: #00d7ff; text-decoration-color: #00d7ff\">None</span>, <span style=\"color: #00af00; text-decoration-color: #00af00\">1</span>)              │            <span style=\"color: #00af00; text-decoration-color: #00af00\">33</span> │\n",
       "└─────────────────────────────────┴────────────────────────┴───────────────┘\n",
       "</pre>\n"
      ],
      "text/plain": [
       "┏━━━━━━━━━━━━━━━━━━━━━━━━━━━━━━━━━┳━━━━━━━━━━━━━━━━━━━━━━━━┳━━━━━━━━━━━━━━━┓\n",
       "┃\u001b[1m \u001b[0m\u001b[1mLayer (type)                   \u001b[0m\u001b[1m \u001b[0m┃\u001b[1m \u001b[0m\u001b[1mOutput Shape          \u001b[0m\u001b[1m \u001b[0m┃\u001b[1m \u001b[0m\u001b[1m      Param #\u001b[0m\u001b[1m \u001b[0m┃\n",
       "┡━━━━━━━━━━━━━━━━━━━━━━━━━━━━━━━━━╇━━━━━━━━━━━━━━━━━━━━━━━━╇━━━━━━━━━━━━━━━┩\n",
       "│ dense (\u001b[38;5;33mDense\u001b[0m)                   │ (\u001b[38;5;45mNone\u001b[0m, \u001b[38;5;34m64\u001b[0m)             │         \u001b[38;5;34m9,856\u001b[0m │\n",
       "├─────────────────────────────────┼────────────────────────┼───────────────┤\n",
       "│ dense_1 (\u001b[38;5;33mDense\u001b[0m)                 │ (\u001b[38;5;45mNone\u001b[0m, \u001b[38;5;34m32\u001b[0m)             │         \u001b[38;5;34m2,080\u001b[0m │\n",
       "├─────────────────────────────────┼────────────────────────┼───────────────┤\n",
       "│ dense_2 (\u001b[38;5;33mDense\u001b[0m)                 │ (\u001b[38;5;45mNone\u001b[0m, \u001b[38;5;34m1\u001b[0m)              │            \u001b[38;5;34m33\u001b[0m │\n",
       "└─────────────────────────────────┴────────────────────────┴───────────────┘\n"
      ]
     },
     "metadata": {},
     "output_type": "display_data"
    },
    {
     "data": {
      "text/html": [
       "<pre style=\"white-space:pre;overflow-x:auto;line-height:normal;font-family:Menlo,'DejaVu Sans Mono',consolas,'Courier New',monospace\"><span style=\"font-weight: bold\"> Total params: </span><span style=\"color: #00af00; text-decoration-color: #00af00\">11,969</span> (46.75 KB)\n",
       "</pre>\n"
      ],
      "text/plain": [
       "\u001b[1m Total params: \u001b[0m\u001b[38;5;34m11,969\u001b[0m (46.75 KB)\n"
      ]
     },
     "metadata": {},
     "output_type": "display_data"
    },
    {
     "data": {
      "text/html": [
       "<pre style=\"white-space:pre;overflow-x:auto;line-height:normal;font-family:Menlo,'DejaVu Sans Mono',consolas,'Courier New',monospace\"><span style=\"font-weight: bold\"> Trainable params: </span><span style=\"color: #00af00; text-decoration-color: #00af00\">11,969</span> (46.75 KB)\n",
       "</pre>\n"
      ],
      "text/plain": [
       "\u001b[1m Trainable params: \u001b[0m\u001b[38;5;34m11,969\u001b[0m (46.75 KB)\n"
      ]
     },
     "metadata": {},
     "output_type": "display_data"
    },
    {
     "data": {
      "text/html": [
       "<pre style=\"white-space:pre;overflow-x:auto;line-height:normal;font-family:Menlo,'DejaVu Sans Mono',consolas,'Courier New',monospace\"><span style=\"font-weight: bold\"> Non-trainable params: </span><span style=\"color: #00af00; text-decoration-color: #00af00\">0</span> (0.00 B)\n",
       "</pre>\n"
      ],
      "text/plain": [
       "\u001b[1m Non-trainable params: \u001b[0m\u001b[38;5;34m0\u001b[0m (0.00 B)\n"
      ]
     },
     "metadata": {},
     "output_type": "display_data"
    }
   ],
   "source": [
    "model = models.Sequential([\n",
    "    layers.Input(shape=(X_train.shape[1],)),\n",
    "    layers.Dense(64, activation=\"relu\"),\n",
    "    layers.Dense(32, activation=\"relu\"),\n",
    "    layers.Dense(1)   # regression output\n",
    "])\n",
    "model.compile(\n",
    "    optimizer=\"adam\",\n",
    "    loss=\"mse\",\n",
    "    metrics=[tf.keras.metrics.RootMeanSquaredError()]\n",
    ")\n",
    "model.summary()"
   ]
  },
  {
   "cell_type": "markdown",
   "id": "bfa2e51f-9653-472f-939b-7f7d2aa503ed",
   "metadata": {
    "jp-MarkdownHeadingCollapsed": true
   },
   "source": [
    "#### Model Architecture\n",
    "\n",
    "- **Layer 1 (Dense 64, ReLU):**  \n",
    "  Starts with 64 neurons to capture a wide range of nonlinear relationships in the data. 64 \n",
    "  neurons → 9 856 parameters (weights + biases)\n",
    "- **Layer 2 (Dense 32, ReLU):**  \n",
    "  Narrows down to 32 neurons as a bottleneck, encouraging the network to learn compact feature \n",
    "  representations. 32 neurons → 2 080 parameters\n",
    "- **Output Layer (Dense 1):**  \n",
    "  Single neuron with linear activation for continuous price prediction.\n",
    "\n",
    "  All 11 969 parameters are trainable; no frozen layers."
   ]
  },
  {
   "cell_type": "markdown",
   "id": "881ff7d4-eafb-4c9e-957b-f2adb77e5f7d",
   "metadata": {},
   "source": [
    "#### Training Hyperparameters\n",
    "\n",
    "- **Optimizer: Adam**  \n",
    "  Adaptive learning rates per parameter → faster, more robust convergence on noisy gradients.  \n",
    "- **Loss: MSE**  \n",
    "  Mean Squared Error directly penalizes large prediction errors, standard for regression tasks.  \n",
    "- **Metric: RMSE**  \n",
    "  Root Mean Squared Error is on the same scale as the target (`price`), making it easier to interpret.\n"
   ]
  },
  {
   "cell_type": "markdown",
   "id": "2af3969c-aac0-4cf0-9164-b04dad2d6e44",
   "metadata": {},
   "source": [
    "### Train and Evaluate"
   ]
  },
  {
   "cell_type": "code",
   "execution_count": 13,
   "id": "effec139-ff4c-4e6e-b24c-4568ed59d72d",
   "metadata": {},
   "outputs": [
    {
     "name": "stdout",
     "output_type": "stream",
     "text": [
      "Epoch 1/20\n",
      "\u001b[1m4722/4722\u001b[0m \u001b[32m━━━━━━━━━━━━━━━━━━━━\u001b[0m\u001b[37m\u001b[0m \u001b[1m2s\u001b[0m 379us/step - loss: 617733312.0000 - root_mean_squared_error: 24807.4902 - val_loss: 353401952.0000 - val_root_mean_squared_error: 18798.9883\n",
      "Epoch 2/20\n",
      "\u001b[1m4722/4722\u001b[0m \u001b[32m━━━━━━━━━━━━━━━━━━━━\u001b[0m\u001b[37m\u001b[0m \u001b[1m2s\u001b[0m 358us/step - loss: 340099424.0000 - root_mean_squared_error: 18383.5469 - val_loss: 272043936.0000 - val_root_mean_squared_error: 16493.7539\n",
      "Epoch 3/20\n",
      "\u001b[1m4722/4722\u001b[0m \u001b[32m━━━━━━━━━━━━━━━━━━━━\u001b[0m\u001b[37m\u001b[0m \u001b[1m2s\u001b[0m 348us/step - loss: 312547648.0000 - root_mean_squared_error: 17586.0586 - val_loss: 237746016.0000 - val_root_mean_squared_error: 15419.0146\n",
      "Epoch 4/20\n",
      "\u001b[1m4722/4722\u001b[0m \u001b[32m━━━━━━━━━━━━━━━━━━━━\u001b[0m\u001b[37m\u001b[0m \u001b[1m2s\u001b[0m 347us/step - loss: 203406464.0000 - root_mean_squared_error: 14232.7822 - val_loss: 216101824.0000 - val_root_mean_squared_error: 14700.4023\n",
      "Epoch 5/20\n",
      "\u001b[1m4722/4722\u001b[0m \u001b[32m━━━━━━━━━━━━━━━━━━━━\u001b[0m\u001b[37m\u001b[0m \u001b[1m2s\u001b[0m 350us/step - loss: 177790880.0000 - root_mean_squared_error: 13295.7002 - val_loss: 205377456.0000 - val_root_mean_squared_error: 14330.9961\n",
      "Epoch 6/20\n",
      "\u001b[1m4722/4722\u001b[0m \u001b[32m━━━━━━━━━━━━━━━━━━━━\u001b[0m\u001b[37m\u001b[0m \u001b[1m2s\u001b[0m 353us/step - loss: 187838624.0000 - root_mean_squared_error: 13684.0762 - val_loss: 197603872.0000 - val_root_mean_squared_error: 14057.1641\n",
      "Epoch 7/20\n",
      "\u001b[1m4722/4722\u001b[0m \u001b[32m━━━━━━━━━━━━━━━━━━━━\u001b[0m\u001b[37m\u001b[0m \u001b[1m2s\u001b[0m 357us/step - loss: 170349776.0000 - root_mean_squared_error: 13004.4883 - val_loss: 191080112.0000 - val_root_mean_squared_error: 13823.1729\n",
      "Epoch 8/20\n",
      "\u001b[1m4722/4722\u001b[0m \u001b[32m━━━━━━━━━━━━━━━━━━━━\u001b[0m\u001b[37m\u001b[0m \u001b[1m2s\u001b[0m 348us/step - loss: 161105376.0000 - root_mean_squared_error: 12595.4453 - val_loss: 185775264.0000 - val_root_mean_squared_error: 13629.9404\n",
      "Epoch 9/20\n",
      "\u001b[1m4722/4722\u001b[0m \u001b[32m━━━━━━━━━━━━━━━━━━━━\u001b[0m\u001b[37m\u001b[0m \u001b[1m2s\u001b[0m 348us/step - loss: 183236048.0000 - root_mean_squared_error: 13511.5557 - val_loss: 182944192.0000 - val_root_mean_squared_error: 13525.6865\n",
      "Epoch 10/20\n",
      "\u001b[1m4722/4722\u001b[0m \u001b[32m━━━━━━━━━━━━━━━━━━━━\u001b[0m\u001b[37m\u001b[0m \u001b[1m2s\u001b[0m 350us/step - loss: 206434496.0000 - root_mean_squared_error: 14334.0664 - val_loss: 177119248.0000 - val_root_mean_squared_error: 13308.6152\n",
      "Epoch 11/20\n",
      "\u001b[1m4722/4722\u001b[0m \u001b[32m━━━━━━━━━━━━━━━━━━━━\u001b[0m\u001b[37m\u001b[0m \u001b[1m2s\u001b[0m 356us/step - loss: 156099104.0000 - root_mean_squared_error: 12442.7373 - val_loss: 173332464.0000 - val_root_mean_squared_error: 13165.5791\n",
      "Epoch 12/20\n",
      "\u001b[1m4722/4722\u001b[0m \u001b[32m━━━━━━━━━━━━━━━━━━━━\u001b[0m\u001b[37m\u001b[0m \u001b[1m2s\u001b[0m 383us/step - loss: 171753680.0000 - root_mean_squared_error: 13037.0850 - val_loss: 166702160.0000 - val_root_mean_squared_error: 12911.3193\n",
      "Epoch 13/20\n",
      "\u001b[1m4722/4722\u001b[0m \u001b[32m━━━━━━━━━━━━━━━━━━━━\u001b[0m\u001b[37m\u001b[0m \u001b[1m2s\u001b[0m 372us/step - loss: 153282752.0000 - root_mean_squared_error: 12327.5166 - val_loss: 165725616.0000 - val_root_mean_squared_error: 12873.4463\n",
      "Epoch 14/20\n",
      "\u001b[1m4722/4722\u001b[0m \u001b[32m━━━━━━━━━━━━━━━━━━━━\u001b[0m\u001b[37m\u001b[0m \u001b[1m2s\u001b[0m 355us/step - loss: 146029584.0000 - root_mean_squared_error: 11993.9121 - val_loss: 160587392.0000 - val_root_mean_squared_error: 12672.3076\n",
      "Epoch 15/20\n",
      "\u001b[1m4722/4722\u001b[0m \u001b[32m━━━━━━━━━━━━━━━━━━━━\u001b[0m\u001b[37m\u001b[0m \u001b[1m2s\u001b[0m 353us/step - loss: 174309696.0000 - root_mean_squared_error: 13153.5059 - val_loss: 156544464.0000 - val_root_mean_squared_error: 12511.7734\n",
      "Epoch 16/20\n",
      "\u001b[1m4722/4722\u001b[0m \u001b[32m━━━━━━━━━━━━━━━━━━━━\u001b[0m\u001b[37m\u001b[0m \u001b[1m2s\u001b[0m 355us/step - loss: 138416576.0000 - root_mean_squared_error: 11696.7910 - val_loss: 151727136.0000 - val_root_mean_squared_error: 12317.7568\n",
      "Epoch 17/20\n",
      "\u001b[1m4722/4722\u001b[0m \u001b[32m━━━━━━━━━━━━━━━━━━━━\u001b[0m\u001b[37m\u001b[0m \u001b[1m2s\u001b[0m 351us/step - loss: 199453568.0000 - root_mean_squared_error: 13936.2998 - val_loss: 148966144.0000 - val_root_mean_squared_error: 12205.1689\n",
      "Epoch 18/20\n",
      "\u001b[1m4722/4722\u001b[0m \u001b[32m━━━━━━━━━━━━━━━━━━━━\u001b[0m\u001b[37m\u001b[0m \u001b[1m2s\u001b[0m 364us/step - loss: 125203816.0000 - root_mean_squared_error: 11135.2236 - val_loss: 144036000.0000 - val_root_mean_squared_error: 12001.5000\n",
      "Epoch 19/20\n",
      "\u001b[1m4722/4722\u001b[0m \u001b[32m━━━━━━━━━━━━━━━━━━━━\u001b[0m\u001b[37m\u001b[0m \u001b[1m2s\u001b[0m 380us/step - loss: 159600928.0000 - root_mean_squared_error: 12535.7764 - val_loss: 141197168.0000 - val_root_mean_squared_error: 11882.6416\n",
      "Epoch 20/20\n",
      "\u001b[1m4722/4722\u001b[0m \u001b[32m━━━━━━━━━━━━━━━━━━━━\u001b[0m\u001b[37m\u001b[0m \u001b[1m2s\u001b[0m 377us/step - loss: 120690384.0000 - root_mean_squared_error: 10935.7324 - val_loss: 138615936.0000 - val_root_mean_squared_error: 11773.5273\n"
     ]
    },
    {
     "data": {
      "image/png": "[encoded data removed]",
      "text/plain": [
       "<Figure size 640x480 with 1 Axes>"
      ]
     },
     "metadata": {},
     "output_type": "display_data"
    }
   ],
   "source": [
    "history = model.fit(\n",
    "    X_train, y_train,\n",
    "    validation_data=(X_val, y_val),\n",
    "    epochs=20,\n",
    "    batch_size=32\n",
    ")\n",
    "\n",
    "# Plot training curves\n",
    "import matplotlib.pyplot as plt\n",
    "plt.plot(history.history[\"loss\"], label=\"train_loss\")\n",
    "plt.plot(history.history[\"val_loss\"], label=\"val_loss\")\n",
    "plt.legend()\n",
    "plt.xlabel(\"Epoch\")\n",
    "plt.ylabel(\"MSE\")\n",
    "plt.show()"
   ]
  },
  {
   "cell_type": "markdown",
   "id": "3f345705-a252-4216-9810-c8990f2f33e9",
   "metadata": {},
   "source": [
    "Training Schedule\n",
    "\n",
    "- **Epochs = 20**  \n",
    "  Provides enough passes over the data to converge, while limiting over‐fitting risk.  \n",
    "- **Batch Size = 32**  \n",
    "  Balances gradient-estimate stability (larger batches) with computational efficiency (smaller batches)."
   ]
  },
  {
   "cell_type": "markdown",
   "id": "515af898-7833-44ea-8f6e-a61846aba17d",
   "metadata": {},
   "source": [
    "Training Curves \n",
    "\n",
    "Both training and validation MSE drop steeply in the first few epochs—model is quickly learning the main patterns.\n",
    "\n",
    "After ~5 epochs the curves plateau and then slowly decline, suggesting convergence.\n",
    "\n",
    "No sign of over-fitting (validation loss never rises above training loss)."
   ]
  },
  {
   "cell_type": "markdown",
   "id": "2e869244-01a6-4636-b6c4-3e43104aaa44",
   "metadata": {},
   "source": [
    "### Test‐set Performance"
   ]
  },
  {
   "cell_type": "code",
   "execution_count": 15,
   "id": "13d118ba-471b-421d-a22e-c63efda78097",
   "metadata": {},
   "outputs": [
    {
     "name": "stdout",
     "output_type": "stream",
     "text": [
      "\u001b[1m1349/1349\u001b[0m \u001b[32m━━━━━━━━━━━━━━━━━━━━\u001b[0m\u001b[37m\u001b[0m \u001b[1m0s\u001b[0m 251us/step - loss: 122573936.0000 - root_mean_squared_error: 10931.9971\n",
      "Test RMSE: 10613.0634765625\n"
     ]
    }
   ],
   "source": [
    "test_metrics = model.evaluate(X_test, y_test, return_dict=True)\n",
    "print(\"Test RMSE:\", test_metrics[\"root_mean_squared_error\"])"
   ]
  },
  {
   "cell_type": "markdown",
   "id": "ced641ce-4767-4dc3-8e84-cd54fd82cdf5",
   "metadata": {},
   "source": [
    "On unseen test data, the model’s average error is about $10 613, down from the initial validation RMSE of ~12 684.\n",
    "\n",
    "A modest improvement—there’s still room for hyperparameter tuning to reduce error further."
   ]
  },
  {
   "cell_type": "markdown",
   "id": "dce052b6-dc53-462d-b092-8756fd4bd64d",
   "metadata": {},
   "source": [
    "#### Validation Strategy\n",
    "\n",
    "- **Use validation set** to monitor overfitting each epoch.  \n",
    "- **Early stopping** could be added later if we see validation loss rising before 20 epochs."
   ]
  },
  {
   "cell_type": "code",
   "execution_count": 22,
   "id": "7f7a24fd-3b24-4c54-bd67-def780fdf7fd",
   "metadata": {},
   "outputs": [],
   "source": [
    "# Save the baseline model\n",
    "\n",
    "model.save(\"models/baseline-model.keras\")"
   ]
  }
 ],
 "metadata": {
  "kernelspec": {
   "display_name": "Python 3 (ipykernel)",
   "language": "python",
   "name": "python3"
  },
  "language_info": {
   "codemirror_mode": {
    "name": "ipython",
    "version": 3
   },
   "file_extension": ".py",
   "mimetype": "text/x-python",
   "name": "python",
   "nbconvert_exporter": "python",
   "pygments_lexer": "ipython3",
   "version": "3.12.4"
  }
 },
 "nbformat": 4,
 "nbformat_minor": 5
}
