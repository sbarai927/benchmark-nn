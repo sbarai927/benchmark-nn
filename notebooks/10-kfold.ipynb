{
 "cells": [
  {
   "cell_type": "markdown",
   "id": "0e5a072e-de2f-478d-9011-c919462aaa69",
   "metadata": {},
   "source": [
    "# Harness k-Fold Cross-Validation to obtain robust, low-bias performance estimates and squeeze every drop of signal"
   ]
  },
  {
   "cell_type": "markdown",
   "id": "7953f71b-d05b-48b2-b50a-64c74854fa23",
   "metadata": {},
   "source": [
    "### Imports and Loading Data"
   ]
  },
  {
   "cell_type": "code",
   "execution_count": 22,
   "id": "d9360b69-e7ee-462d-b035-d8b8c3b903f2",
   "metadata": {},
   "outputs": [],
   "source": [
    "import time\n",
    "import numpy as np\n",
    "import joblib\n",
    "import lightgbm as lgb\n",
    "from sklearn.metrics import mean_squared_error, r2_score\n",
    "from sklearn.model_selection import KFold\n",
    "\n",
    "# 1) Load preprocessed splits\n",
    "X_train, y_train = joblib.load(\"data/processed/train.pkl\")\n",
    "X_val,   y_val   = joblib.load(\"data/processed/val.pkl\")\n",
    "X_test,  y_test  = joblib.load(\"data/processed/test.pkl\")\n",
    "\n",
    "# 2) Merge train+val for CV\n",
    "X_all = np.vstack([X_train, X_val])\n",
    "y_all = np.concatenate([y_train, y_val])"
   ]
  },
  {
   "cell_type": "markdown",
   "id": "8199ee0b-858e-4850-83d2-607e4681d600",
   "metadata": {},
   "source": [
    "### Define CV routine"
   ]
  },
  {
   "cell_type": "code",
   "execution_count": 24,
   "id": "baf200bc-f4bd-447e-87e1-9acb6e789bfb",
   "metadata": {},
   "outputs": [],
   "source": [
    "def cross_val_lgbm(X, y, n_splits, params):\n",
    "    kf = KFold(n_splits=n_splits, shuffle=True, random_state=42)\n",
    "    rmses, r2s, times = [], [], []\n",
    "    \n",
    "    for fold, (train_idx, val_idx) in enumerate(kf.split(X, y), 1):\n",
    "        X_tr, X_va = X[train_idx], X[val_idx]\n",
    "        y_tr, y_va = y[train_idx], y[val_idx]\n",
    "        \n",
    "        dtrain = lgb.Dataset(X_tr, y_tr)\n",
    "        dval   = lgb.Dataset(X_va, y_va, reference=dtrain)\n",
    "        \n",
    "        t0 = time.time()\n",
    "        bst = lgb.train(\n",
    "            params,\n",
    "            dtrain,\n",
    "            num_boost_round=1000,\n",
    "            valid_sets=[dval],\n",
    "            callbacks=[\n",
    "                lgb.early_stopping(stopping_rounds=50),\n",
    "                lgb.log_evaluation(period=0)\n",
    "            ],\n",
    "        )\n",
    "        train_time = time.time() - t0\n",
    "        \n",
    "        # predict on this fold’s validation\n",
    "        y_pred = bst.predict(X_va, num_iteration=bst.best_iteration)\n",
    "        rmse = np.sqrt(mean_squared_error(y_va, y_pred))\n",
    "        r2   = r2_score(y_va, y_pred)\n",
    "        \n",
    "        print(f\"Fold {fold:>2} — RMSE: {rmse:.2f}, R²: {r2:.3f}, train-time: {train_time:.2f}s\")\n",
    "        rmses.append(rmse)\n",
    "        r2s.append(r2)\n",
    "        times.append(train_time)\n",
    "    \n",
    "    print(\"\\n✂︎\" + \"─\"*50 + \"✂︎\")\n",
    "    print(f\"CV RMSE : {np.mean(rmses):.2f} ± {np.std(rmses):.2f}\")\n",
    "    print(f\"CV R²   : {np.mean(r2s):.3f} ± {np.std(r2s):.3f}\")\n",
    "    print(f\"CV Time : {np.mean(times):.2f}s ± {np.std(times):.2f}s\")"
   ]
  },
  {
   "cell_type": "markdown",
   "id": "c43578c4-83f3-4cc4-9661-242981149df3",
   "metadata": {},
   "source": [
    "### Run 5-fold CV with best Optuna-tuned params"
   ]
  },
  {
   "cell_type": "code",
   "execution_count": 26,
   "id": "31e378f6-1318-4385-bfc1-ffc747e06464",
   "metadata": {},
   "outputs": [
    {
     "name": "stdout",
     "output_type": "stream",
     "text": [
      "Training until validation scores don't improve for 50 rounds\n",
      "Early stopping, best iteration is:\n",
      "[616]\tvalid_0's rmse: 9595.29\n",
      "Fold  1 — RMSE: 9595.29, R²: 0.878, train-time: 2.23s\n",
      "Training until validation scores don't improve for 50 rounds\n",
      "Early stopping, best iteration is:\n",
      "[466]\tvalid_0's rmse: 9696.11\n",
      "Fold  2 — RMSE: 9696.11, R²: 0.872, train-time: 1.53s\n",
      "Training until validation scores don't improve for 50 rounds\n",
      "Early stopping, best iteration is:\n",
      "[264]\tvalid_0's rmse: 8269.45\n",
      "Fold  3 — RMSE: 8269.45, R²: 0.894, train-time: 1.00s\n",
      "Training until validation scores don't improve for 50 rounds\n",
      "Early stopping, best iteration is:\n",
      "[364]\tvalid_0's rmse: 7909.59\n",
      "Fold  4 — RMSE: 7909.59, R²: 0.909, train-time: 1.24s\n",
      "Training until validation scores don't improve for 50 rounds\n",
      "Early stopping, best iteration is:\n",
      "[304]\tvalid_0's rmse: 13299.8\n",
      "Fold  5 — RMSE: 13299.79, R²: 0.754, train-time: 1.07s\n",
      "\n",
      "✂︎──────────────────────────────────────────────────✂︎\n",
      "CV RMSE : 9754.05 ± 1908.24\n",
      "CV R²   : 0.861 ± 0.055\n",
      "CV Time : 1.41s ± 0.45s\n",
      "Training until validation scores don't improve for 50 rounds\n",
      "Early stopping, best iteration is:\n",
      "[451]\tvalid_0's rmse: 6918.51\n"
     ]
    }
   ],
   "source": [
    "best_params = {\n",
    "    \"objective\": \"regression\",\n",
    "    \"metric\": \"rmse\",\n",
    "    \"learning_rate\": 0.07,\n",
    "    \"max_depth\": 8,\n",
    "    \"num_leaves\": 96,\n",
    "    \"min_child_samples\": 20,\n",
    "    \"subsample\": 0.69,\n",
    "    \"colsample_bytree\": 0.76,\n",
    "    \"random_state\": 42,\n",
    "    \"verbosity\": -1\n",
    "}\n",
    "cross_val_lgbm(X_all, y_all, n_splits=5, params=best_params)\n",
    "\n",
    "# Retrain on all train+val, then test\n",
    "dtrain_full = lgb.Dataset(X_all, y_all)\n",
    "dtest       = lgb.Dataset(X_test, y_test, reference=dtrain_full)\n",
    "\n",
    "t0 = time.time()\n",
    "final_bst = lgb.train(\n",
    "    best_params,\n",
    "    dtrain_full,\n",
    "    num_boost_round=1000,\n",
    "    valid_sets=[dtest],            # just to allow early-stop on test\n",
    "    callbacks=[\n",
    "        lgb.early_stopping(stopping_rounds=50),\n",
    "        lgb.log_evaluation(period=0)\n",
    "    ],\n",
    ")\n",
    "final_train_time = time.time() - t0"
   ]
  },
  {
   "cell_type": "markdown",
   "id": "46ec5d2f-240e-4b3d-818f-1265e246583e",
   "metadata": {},
   "source": [
    "The lightGBM model shows reasonable but variable performance across folds—particularly Fold 5 underperforms (RMSE ≈ 13 300, R² ≈ 0.75), suggesting that one validation split may be substantially different (outliers or distribution shift). Overall CV R² of ~0.86 indicates moderate explanatory power, but the high standard deviation warns us that results depend heavily on the specific fold split."
   ]
  },
  {
   "cell_type": "markdown",
   "id": "5d15f222-4f20-447c-8a2f-b19f3d735268",
   "metadata": {},
   "source": [
    "### Evaluate on truly held-out X_test"
   ]
  },
  {
   "cell_type": "code",
   "execution_count": 28,
   "id": "bf5968d4-e0b5-44a4-b2ac-d7def7f2bf40",
   "metadata": {},
   "outputs": [
    {
     "name": "stdout",
     "output_type": "stream",
     "text": [
      "\n",
      "🏁 Final Test Results\n",
      "⏱ Train time  : 1.70s\n",
      "🔍 Test RMSE   : 6918.51\n",
      "📈 Test R²     : 0.915\n"
     ]
    }
   ],
   "source": [
    "y_pred_final = final_bst.predict(X_test, num_iteration=final_bst.best_iteration)\n",
    "test_rmse = np.sqrt(mean_squared_error(y_test, y_pred_final))\n",
    "test_r2   = r2_score(y_test, y_pred_final)\n",
    "\n",
    "print(\"\\n🏁 Final Test Results\")\n",
    "print(f\"⏱ Train time  : {final_train_time:.2f}s\")\n",
    "print(f\"🔍 Test RMSE   : {test_rmse:.2f}\")\n",
    "print(f\"📈 Test R²     : {test_r2:.3f}\")"
   ]
  },
  {
   "cell_type": "markdown",
   "id": "811b17a4-96a2-432c-a811-fc4e8bf46083",
   "metadata": {},
   "source": [
    "After retraining on the full train+validation set (with the best‐found early-stop iteration of 451), the model achieves RMSE ≈ 6 919 and R² ≈ 0.915 on the hold-out test set. This R² is higher than the CV mean (0.861), which often happens when the final test distribution aligns more closely with the majority of training folds (i.e., the problematic fold in CV was not representative of the test set). The test RMSE improves substantially over the average CV RMSE (9 754 → 6 919), confirming that the final hold-out split was “easier” than some validation folds."
   ]
  },
  {
   "cell_type": "code",
   "execution_count": null,
   "id": "4be73ae4-56eb-47ff-811a-939a0d65f4ff",
   "metadata": {},
   "outputs": [],
   "source": []
  }
 ],
 "metadata": {
  "kernelspec": {
   "display_name": "Python 3 (ipykernel)",
   "language": "python",
   "name": "python3"
  },
  "language_info": {
   "codemirror_mode": {
    "name": "ipython",
    "version": 3
   },
   "file_extension": ".py",
   "mimetype": "text/x-python",
   "name": "python",
   "nbconvert_exporter": "python",
   "pygments_lexer": "ipython3",
   "version": "3.12.4"
  }
 },
 "nbformat": 4,
 "nbformat_minor": 5
}
