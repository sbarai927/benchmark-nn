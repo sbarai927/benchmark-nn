{
 "cells": [
  {
   "cell_type": "markdown",
   "id": "99da4ad6-da0e-4fa9-819b-0b5343bf31bc",
   "metadata": {},
   "source": [
    "# Leverage Keras Tuner’s Hyperband to explore our MLP search space and efficiently drive validation RMSE down."
   ]
  },
  {
   "cell_type": "markdown",
   "id": "27ac4886-5288-4666-af5b-eab644fba4c2",
   "metadata": {},
   "source": [
    "### Imports & setup"
   ]
  },
  {
   "cell_type": "code",
   "execution_count": 181,
   "id": "06ed34f6-cf9e-4ac1-bdc8-921516a2105e",
   "metadata": {},
   "outputs": [],
   "source": [
    "import time\n",
    "import numpy as np\n",
    "import pandas as pd\n",
    "import matplotlib.pyplot as plt\n",
    "\n",
    "import tensorflow as tf\n",
    "from tensorflow import keras\n",
    "from tensorflow.keras import layers, callbacks, losses, metrics, optimizers\n",
    "\n",
    "import keras_tuner as kt\n",
    "\n",
    "from sklearn.model_selection import train_test_split\n",
    "from sklearn.preprocessing import StandardScaler\n",
    "from sklearn.metrics import mean_squared_error, r2_score\n",
    "\n",
    "SEED = 42\n",
    "np.random.seed(SEED)\n",
    "tf.random.set_seed(SEED)"
   ]
  },
  {
   "cell_type": "markdown",
   "id": "2e0c1420-8133-40de-b314-8fd60008d45b",
   "metadata": {},
   "source": [
    "### Load preprocessed data from joblib dumps"
   ]
  },
  {
   "cell_type": "code",
   "execution_count": 183,
   "id": "be19b747-b1d1-4381-afa5-28d6e0761417",
   "metadata": {
    "editable": true,
    "slideshow": {
     "slide_type": ""
    },
    "tags": []
   },
   "outputs": [],
   "source": [
    "import joblib\n",
    "\n",
    "X_train, y_train = joblib.load(\"data/processed/train.pkl\")\n",
    "X_val,   y_val   = joblib.load(\"data/processed/val.pkl\")\n",
    "X_test,  y_test  = joblib.load(\"data/processed/test.pkl\")\n",
    "\n",
    "# log‐transform targets for training/validation\n",
    "y_train_log = np.log1p(y_train)\n",
    "y_val_log   = np.log1p(y_val)\n",
    "\n",
    "\n",
    "# log‐transform targets\n",
    "y_train_log = np.log1p(y_train)\n",
    "y_val_log   = np.log1p(y_val)"
   ]
  },
  {
   "cell_type": "markdown",
   "id": "905fe7ae-ef61-4f89-ad8d-543ee2b2e384",
   "metadata": {},
   "source": [
    "### Build model‐builder for Keras-Tuner"
   ]
  },
  {
   "cell_type": "code",
   "execution_count": 185,
   "id": "2201fcce-b45a-4306-81e8-6f758fc1a3d4",
   "metadata": {},
   "outputs": [],
   "source": [
    "def build_model(hp):\n",
    "    model = keras.Sequential()\n",
    "    model.add(layers.Input(shape=(X_train.shape[1],)))\n",
    "    # Tune number of hidden layers 1–5\n",
    "    for i in range(hp.Int(\"n_layers\", 1, 5)):\n",
    "        # Tune units per layer\n",
    "        model.add(\n",
    "            layers.Dense(\n",
    "                units=hp.Choice(f\"units_{i}\", [32, 64, 128, 256]),\n",
    "                activation=\"relu\",\n",
    "            )\n",
    "        )\n",
    "        # Tune dropout rate\n",
    "        model.add(\n",
    "            layers.Dropout(\n",
    "                rate=hp.Float(f\"dropout_{i}\", 0.0, 0.5, step=0.1)\n",
    "            )\n",
    "        )\n",
    "    # Single linear output for log-price\n",
    "    model.add(layers.Dense(1, name=\"output\"))\n",
    "\n",
    "    # Tune learning rate\n",
    "    lr = hp.Float(\"lr\", 1e-4, 1e-2, sampling=\"log\")\n",
    "    model.compile(\n",
    "        optimizer=optimizers.Adam(learning_rate=lr),\n",
    "        loss=losses.MeanSquaredError(),\n",
    "        # Name this metric \"rmse\" so Keras logs \"rmse\" & \"val_rmse\"\n",
    "        metrics=[metrics.RootMeanSquaredError(name=\"rmse\")],\n",
    "    )\n",
    "    return model"
   ]
  },
  {
   "cell_type": "markdown",
   "id": "9d4694f5-ea91-445f-a412-5bd99629f63c",
   "metadata": {},
   "source": [
    "### Run the Bayesian search with timing"
   ]
  },
  {
   "cell_type": "code",
   "execution_count": 187,
   "id": "ed025da6-cf21-427a-8ad3-40aa40b0f9c5",
   "metadata": {},
   "outputs": [
    {
     "name": "stdout",
     "output_type": "stream",
     "text": [
      "Trial 30 Complete [00h 00m 42s]\n",
      "val_rmse: 0.25112012028694153\n",
      "\n",
      "Best val_rmse So Far: 0.13105826079845428\n",
      "Total elapsed time: 00h 19m 36s\n"
     ]
    }
   ],
   "source": [
    "from keras_tuner.tuners import BayesianOptimization\n",
    "\n",
    "# directory/project_name bumped so you get a fresh tuner.log\n",
    "tuner = BayesianOptimization(\n",
    "    hypermodel=build_model,\n",
    "    objective=kt.Objective(\"val_rmse\", direction=\"min\"),\n",
    "    max_trials=30,\n",
    "    seed=SEED,\n",
    "    directory=\"kt_logs_v5\",\n",
    "    project_name=\"diamonds_kt_v5\",\n",
    ")\n",
    "\n",
    "# timing callback\n",
    "class TimeHistory(callbacks.Callback):\n",
    "    def on_train_begin(self, logs=None):\n",
    "        self._start = time.time()\n",
    "    def on_train_end(self, logs=None):\n",
    "        self._end = time.time()\n",
    "\n",
    "# perform the search\n",
    "tuner.search(\n",
    "    X_train, y_train_log,\n",
    "    validation_data=(X_val, y_val_log),\n",
    "    epochs=50,\n",
    "    batch_size=64,\n",
    "    callbacks=[\n",
    "        TimeHistory(),\n",
    "        callbacks.EarlyStopping(\n",
    "            monitor=\"val_rmse\",\n",
    "            mode=\"min\",          # ← explicitly minimize RMSE\n",
    "            patience=5,\n",
    "            restore_best_weights=True,\n",
    "            verbose=0\n",
    "        ),\n",
    "    ],\n",
    "    verbose=1,\n",
    ")"
   ]
  },
  {
   "cell_type": "markdown",
   "id": "9490ec7c-8a59-4ac8-8af6-428e62399925",
   "metadata": {},
   "source": [
    "Over 30 Bayesian‐optimization trials, the best validation RMSE steadily declined, starting around 0.25 in the earlier runs and reaching 0.1311 by Trial 30. This indicates that the tuner was able to explore the hyperparameter space effectively. \n",
    "Completing 30 full model‐fits (each up to 50 epochs with early stopping) in under 20 minutes demonstrates that Keras-Tuner’s Bayesian optimizer can explore dozens of configurations in a reasonable timeframe on this dataset. "
   ]
  },
  {
   "cell_type": "markdown",
   "id": "cc1c8d55-d1da-400f-84d1-ad616ac625cd",
   "metadata": {},
   "source": [
    "### Summarize top trials & plot validation RMSE"
   ]
  },
  {
   "cell_type": "code",
   "execution_count": 193,
   "id": "d9384244-7b7a-466a-a79d-74f2bf1cbb77",
   "metadata": {},
   "outputs": [
    {
     "name": "stdout",
     "output_type": "stream",
     "text": [
      "▶ Top 5 tuning results:\n"
     ]
    },
    {
     "data": {
      "text/html": [
       "<div>\n",
       "<style scoped>\n",
       "    .dataframe tbody tr th:only-of-type {\n",
       "        vertical-align: middle;\n",
       "    }\n",
       "\n",
       "    .dataframe tbody tr th {\n",
       "        vertical-align: top;\n",
       "    }\n",
       "\n",
       "    .dataframe thead th {\n",
       "        text-align: right;\n",
       "    }\n",
       "</style>\n",
       "<table border=\"1\" class=\"dataframe\">\n",
       "  <thead>\n",
       "    <tr style=\"text-align: right;\">\n",
       "      <th></th>\n",
       "      <th>n_layers</th>\n",
       "      <th>units_0</th>\n",
       "      <th>dropout_0</th>\n",
       "      <th>lr</th>\n",
       "      <th>units_1</th>\n",
       "      <th>dropout_1</th>\n",
       "      <th>units_2</th>\n",
       "      <th>dropout_2</th>\n",
       "      <th>units_3</th>\n",
       "      <th>dropout_3</th>\n",
       "      <th>units_4</th>\n",
       "      <th>dropout_4</th>\n",
       "      <th>val_rmse_log</th>\n",
       "      <th>trial_id</th>\n",
       "    </tr>\n",
       "  </thead>\n",
       "  <tbody>\n",
       "    <tr>\n",
       "      <th>0</th>\n",
       "      <td>1</td>\n",
       "      <td>32</td>\n",
       "      <td>0.0</td>\n",
       "      <td>0.000287</td>\n",
       "      <td>128</td>\n",
       "      <td>0.1</td>\n",
       "      <td>256</td>\n",
       "      <td>0.3</td>\n",
       "      <td>64</td>\n",
       "      <td>0.1</td>\n",
       "      <td>256</td>\n",
       "      <td>0.2</td>\n",
       "      <td>0.131058</td>\n",
       "      <td>11</td>\n",
       "    </tr>\n",
       "    <tr>\n",
       "      <th>1</th>\n",
       "      <td>2</td>\n",
       "      <td>128</td>\n",
       "      <td>0.0</td>\n",
       "      <td>0.000982</td>\n",
       "      <td>128</td>\n",
       "      <td>0.0</td>\n",
       "      <td>256</td>\n",
       "      <td>0.0</td>\n",
       "      <td>64</td>\n",
       "      <td>0.0</td>\n",
       "      <td>32</td>\n",
       "      <td>0.0</td>\n",
       "      <td>0.132813</td>\n",
       "      <td>04</td>\n",
       "    </tr>\n",
       "    <tr>\n",
       "      <th>2</th>\n",
       "      <td>1</td>\n",
       "      <td>128</td>\n",
       "      <td>0.1</td>\n",
       "      <td>0.000535</td>\n",
       "      <td>128</td>\n",
       "      <td>0.1</td>\n",
       "      <td>256</td>\n",
       "      <td>0.0</td>\n",
       "      <td>32</td>\n",
       "      <td>0.0</td>\n",
       "      <td>64</td>\n",
       "      <td>0.3</td>\n",
       "      <td>0.134010</td>\n",
       "      <td>22</td>\n",
       "    </tr>\n",
       "    <tr>\n",
       "      <th>3</th>\n",
       "      <td>1</td>\n",
       "      <td>128</td>\n",
       "      <td>0.2</td>\n",
       "      <td>0.000628</td>\n",
       "      <td>256</td>\n",
       "      <td>0.2</td>\n",
       "      <td>128</td>\n",
       "      <td>0.4</td>\n",
       "      <td>64</td>\n",
       "      <td>0.3</td>\n",
       "      <td>64</td>\n",
       "      <td>0.1</td>\n",
       "      <td>0.137159</td>\n",
       "      <td>16</td>\n",
       "    </tr>\n",
       "    <tr>\n",
       "      <th>4</th>\n",
       "      <td>1</td>\n",
       "      <td>128</td>\n",
       "      <td>0.2</td>\n",
       "      <td>0.001294</td>\n",
       "      <td>256</td>\n",
       "      <td>0.4</td>\n",
       "      <td>128</td>\n",
       "      <td>0.3</td>\n",
       "      <td>256</td>\n",
       "      <td>0.2</td>\n",
       "      <td>32</td>\n",
       "      <td>0.4</td>\n",
       "      <td>0.138362</td>\n",
       "      <td>21</td>\n",
       "    </tr>\n",
       "  </tbody>\n",
       "</table>\n",
       "</div>"
      ],
      "text/plain": [
       "   n_layers  units_0  dropout_0        lr  units_1  dropout_1  units_2  \\\n",
       "0         1       32        0.0  0.000287      128        0.1      256   \n",
       "1         2      128        0.0  0.000982      128        0.0      256   \n",
       "2         1      128        0.1  0.000535      128        0.1      256   \n",
       "3         1      128        0.2  0.000628      256        0.2      128   \n",
       "4         1      128        0.2  0.001294      256        0.4      128   \n",
       "\n",
       "   dropout_2  units_3  dropout_3  units_4  dropout_4  val_rmse_log trial_id  \n",
       "0        0.3       64        0.1      256        0.2      0.131058       11  \n",
       "1        0.0       64        0.0       32        0.0      0.132813       04  \n",
       "2        0.0       32        0.0       64        0.3      0.134010       22  \n",
       "3        0.4       64        0.3       64        0.1      0.137159       16  \n",
       "4        0.3      256        0.2       32        0.4      0.138362       21  "
      ]
     },
     "metadata": {},
     "output_type": "display_data"
    },
    {
     "data": {
      "image/png": "[encoded data removed]",
      "text/plain": [
       "<Figure size 600x400 with 1 Axes>"
      ]
     },
     "metadata": {},
     "output_type": "display_data"
    }
   ],
   "source": [
    "# Grab the best N trials directly from the oracle\n",
    "best_trials = tuner.oracle.get_best_trials(num_trials=5)\n",
    "\n",
    "records = []\n",
    "for t in best_trials:\n",
    "    hp_vals = t.hyperparameters.values\n",
    "    # this will be the best validation RMSE on the log‐scale\n",
    "    val_rmse = t.metrics.get_last_value(\"val_rmse\")\n",
    "    records.append({\n",
    "        **hp_vals,\n",
    "        \"val_rmse_log\": val_rmse,\n",
    "        \"trial_id\":     t.trial_id,\n",
    "    })\n",
    "\n",
    "df_top = (\n",
    "    pd.DataFrame(records)\n",
    "      .sort_values(\"val_rmse_log\")\n",
    "      .reset_index(drop=True)\n",
    ")\n",
    "\n",
    "print(\"▶ Top 5 tuning results:\")\n",
    "display(df_top)\n",
    "\n",
    "# bar chart of the top 5\n",
    "plt.figure(figsize=(6,4))\n",
    "plt.bar(df_top[\"trial_id\"].astype(str), df_top[\"val_rmse_log\"])\n",
    "plt.xlabel(\"Trial ID\")\n",
    "plt.ylabel(\"Validation RMSE (log)\")\n",
    "plt.title(\"Top 5 Keras-Tuner Trials by Val RMSE\")\n",
    "plt.grid(True, axis=\"y\")\n",
    "plt.show()"
   ]
  },
  {
   "cell_type": "markdown",
   "id": "989b26e0-332d-48a9-ac33-96ac5052537a",
   "metadata": {},
   "source": [
    "These trials achieved log‐RMSE between 0.1311 and 0.1384, suggesting the optimizer favored relatively small first‐layer widths (32–128), very low dropout early on, and moderate learning rates (~10⁻³–10⁻⁴)."
   ]
  },
  {
   "cell_type": "markdown",
   "id": "66014005-7b0c-4d07-b752-0eab8393f6d3",
   "metadata": {},
   "source": [
    "The bar chart confirms that Trial 11 (ID 11) is the best, with log‐RMSE ≈ 0.1311. The other top candidates cluster tightly around 0.13–0.14, indicating a fairly flat optimum in this region of the hyperparameter space."
   ]
  },
  {
   "cell_type": "markdown",
   "id": "197abab9-6148-4588-8bf7-1990af0ef8bf",
   "metadata": {},
   "source": [
    "### Plot train vs. validation RMSE curve for the best trial"
   ]
  },
  {
   "cell_type": "code",
   "execution_count": 195,
   "id": "bddfb87c-7680-4806-a84c-bbe74907c842",
   "metadata": {},
   "outputs": [
    {
     "data": {
      "image/png": "[encoded data removed]",
      "text/plain": [
       "<Figure size 600x400 with 1 Axes>"
      ]
     },
     "metadata": {},
     "output_type": "display_data"
    }
   ],
   "source": [
    "# Get the single best hyperparameters\n",
    "best_hp = tuner.get_best_hyperparameters(1)[0]\n",
    "model   = build_model(best_hp)\n",
    "\n",
    "# Re‐fit silently to capture history\n",
    "hist = model.fit(\n",
    "    X_train, y_train_log,\n",
    "    validation_data=(X_val, y_val_log),\n",
    "    epochs=50,\n",
    "    batch_size=64,\n",
    "    callbacks=[\n",
    "        callbacks.EarlyStopping(\n",
    "            monitor=\"val_rmse\", mode=\"min\",\n",
    "            patience=5, restore_best_weights=True, verbose=0\n",
    "        )\n",
    "    ],\n",
    "    verbose=0\n",
    ")\n",
    "\n",
    "train_rmse = hist.history[\"rmse\"]\n",
    "val_rmse   = hist.history[\"val_rmse\"]\n",
    "best_ep    = np.argmin(val_rmse) + 1\n",
    "\n",
    "plt.figure(figsize=(6,4))\n",
    "plt.plot(train_rmse, label=\"Train RMSE\")\n",
    "plt.plot(val_rmse,   label=\"Val   RMSE\")\n",
    "plt.axvline(best_ep-1, color=\"gray\", linestyle=\"--\", label=f\"Best epoch ({best_ep})\")\n",
    "plt.xlabel(\"Epoch\")\n",
    "plt.ylabel(\"RMSE (log)\")\n",
    "plt.title(\"Train vs. Validation RMSE per Epoch\")\n",
    "plt.legend()\n",
    "plt.grid(True)\n",
    "plt.show()"
   ]
  },
  {
   "cell_type": "markdown",
   "id": "bc1b6200-d057-4b37-b8e3-df367731f13b",
   "metadata": {},
   "source": [
    "The model quickly reaches its capacity to learn the log-price relationship within the first handful of epochs.\n",
    "\n",
    "Since later epochs bring negligible gains, one could safely reduce the maximum epoch count (e.g. to 10–15) to save compute without sacrificing accuracy.\n",
    "\n",
    "The tight train/val alignment confirms that our hyperparameters (units, dropout, learning rate) strike a good bias–variance balance."
   ]
  },
  {
   "cell_type": "markdown",
   "id": "e0873c80-489f-49cf-9f1d-8b7e784aff71",
   "metadata": {},
   "source": [
    "### Retrain final model on train+val & evaluate on TEST"
   ]
  },
  {
   "cell_type": "code",
   "execution_count": 201,
   "id": "a231e2c5-e122-4f3f-836a-f621ea2b06d3",
   "metadata": {
    "editable": true,
    "slideshow": {
     "slide_type": ""
    },
    "tags": []
   },
   "outputs": [
    {
     "name": "stdout",
     "output_type": "stream",
     "text": [
      "Epoch 1/50\n",
      "\u001b[1m2361/2361\u001b[0m \u001b[32m━━━━━━━━━━━━━━━━━━━━\u001b[0m\u001b[37m\u001b[0m \u001b[1m1s\u001b[0m 375us/step - loss: 9.8312 - rmse: 2.8112 - val_loss: 0.1230 - val_rmse: 0.3507\n",
      "Epoch 2/50\n",
      "\u001b[1m2361/2361\u001b[0m \u001b[32m━━━━━━━━━━━━━━━━━━━━\u001b[0m\u001b[37m\u001b[0m \u001b[1m1s\u001b[0m 328us/step - loss: 0.1063 - rmse: 0.3252 - val_loss: 0.0496 - val_rmse: 0.2227\n",
      "Epoch 3/50\n",
      "\u001b[1m2361/2361\u001b[0m \u001b[32m━━━━━━━━━━━━━━━━━━━━\u001b[0m\u001b[37m\u001b[0m \u001b[1m1s\u001b[0m 375us/step - loss: 0.0529 - rmse: 0.2296 - val_loss: 0.0360 - val_rmse: 0.1896\n",
      "Epoch 4/50\n",
      "\u001b[1m2361/2361\u001b[0m \u001b[32m━━━━━━━━━━━━━━━━━━━━\u001b[0m\u001b[37m\u001b[0m \u001b[1m1s\u001b[0m 334us/step - loss: 0.0396 - rmse: 0.1987 - val_loss: 0.0310 - val_rmse: 0.1760\n",
      "Epoch 5/50\n",
      "\u001b[1m2361/2361\u001b[0m \u001b[32m━━━━━━━━━━━━━━━━━━━━\u001b[0m\u001b[37m\u001b[0m \u001b[1m1s\u001b[0m 349us/step - loss: 0.0324 - rmse: 0.1797 - val_loss: 0.0277 - val_rmse: 0.1665\n",
      "Epoch 6/50\n",
      "\u001b[1m2361/2361\u001b[0m \u001b[32m━━━━━━━━━━━━━━━━━━━━\u001b[0m\u001b[37m\u001b[0m \u001b[1m1s\u001b[0m 339us/step - loss: 0.0275 - rmse: 0.1659 - val_loss: 0.0259 - val_rmse: 0.1609\n",
      "Epoch 7/50\n",
      "\u001b[1m2361/2361\u001b[0m \u001b[32m━━━━━━━━━━━━━━━━━━━━\u001b[0m\u001b[37m\u001b[0m \u001b[1m1s\u001b[0m 327us/step - loss: 0.0249 - rmse: 0.1577 - val_loss: 0.0250 - val_rmse: 0.1580\n",
      "Epoch 8/50\n",
      "\u001b[1m2361/2361\u001b[0m \u001b[32m━━━━━━━━━━━━━━━━━━━━\u001b[0m\u001b[37m\u001b[0m \u001b[1m1s\u001b[0m 385us/step - loss: 0.0236 - rmse: 0.1536 - val_loss: 0.0243 - val_rmse: 0.1558\n",
      "Epoch 9/50\n",
      "\u001b[1m2361/2361\u001b[0m \u001b[32m━━━━━━━━━━━━━━━━━━━━\u001b[0m\u001b[37m\u001b[0m \u001b[1m1s\u001b[0m 334us/step - loss: 0.0228 - rmse: 0.1509 - val_loss: 0.0236 - val_rmse: 0.1536\n",
      "Epoch 10/50\n",
      "\u001b[1m2361/2361\u001b[0m \u001b[32m━━━━━━━━━━━━━━━━━━━━\u001b[0m\u001b[37m\u001b[0m \u001b[1m1s\u001b[0m 327us/step - loss: 0.0221 - rmse: 0.1486 - val_loss: 0.0230 - val_rmse: 0.1515\n",
      "Epoch 11/50\n",
      "\u001b[1m2361/2361\u001b[0m \u001b[32m━━━━━━━━━━━━━━━━━━━━\u001b[0m\u001b[37m\u001b[0m \u001b[1m1s\u001b[0m 332us/step - loss: 0.0214 - rmse: 0.1464 - val_loss: 0.0219 - val_rmse: 0.1481\n",
      "Epoch 12/50\n",
      "\u001b[1m2361/2361\u001b[0m \u001b[32m━━━━━━━━━━━━━━━━━━━━\u001b[0m\u001b[37m\u001b[0m \u001b[1m1s\u001b[0m 330us/step - loss: 0.0208 - rmse: 0.1442 - val_loss: 0.0214 - val_rmse: 0.1463\n",
      "Epoch 13/50\n",
      "\u001b[1m2361/2361\u001b[0m \u001b[32m━━━━━━━━━━━━━━━━━━━━\u001b[0m\u001b[37m\u001b[0m \u001b[1m1s\u001b[0m 331us/step - loss: 0.0203 - rmse: 0.1424 - val_loss: 0.0211 - val_rmse: 0.1452\n",
      "Epoch 14/50\n",
      "\u001b[1m2361/2361\u001b[0m \u001b[32m━━━━━━━━━━━━━━━━━━━━\u001b[0m\u001b[37m\u001b[0m \u001b[1m1s\u001b[0m 330us/step - loss: 0.0199 - rmse: 0.1410 - val_loss: 0.0208 - val_rmse: 0.1442\n",
      "Epoch 15/50\n",
      "\u001b[1m2361/2361\u001b[0m \u001b[32m━━━━━━━━━━━━━━━━━━━━\u001b[0m\u001b[37m\u001b[0m \u001b[1m1s\u001b[0m 331us/step - loss: 0.0196 - rmse: 0.1399 - val_loss: 0.0205 - val_rmse: 0.1432\n",
      "Epoch 16/50\n",
      "\u001b[1m2361/2361\u001b[0m \u001b[32m━━━━━━━━━━━━━━━━━━━━\u001b[0m\u001b[37m\u001b[0m \u001b[1m1s\u001b[0m 328us/step - loss: 0.0193 - rmse: 0.1388 - val_loss: 0.0203 - val_rmse: 0.1424\n",
      "Epoch 17/50\n",
      "\u001b[1m2361/2361\u001b[0m \u001b[32m━━━━━━━━━━━━━━━━━━━━\u001b[0m\u001b[37m\u001b[0m \u001b[1m1s\u001b[0m 376us/step - loss: 0.0190 - rmse: 0.1378 - val_loss: 0.0201 - val_rmse: 0.1416\n",
      "Epoch 18/50\n",
      "\u001b[1m2361/2361\u001b[0m \u001b[32m━━━━━━━━━━━━━━━━━━━━\u001b[0m\u001b[37m\u001b[0m \u001b[1m1s\u001b[0m 332us/step - loss: 0.0187 - rmse: 0.1368 - val_loss: 0.0199 - val_rmse: 0.1410\n",
      "Epoch 19/50\n",
      "\u001b[1m2361/2361\u001b[0m \u001b[32m━━━━━━━━━━━━━━━━━━━━\u001b[0m\u001b[37m\u001b[0m \u001b[1m1s\u001b[0m 328us/step - loss: 0.0185 - rmse: 0.1360 - val_loss: 0.0197 - val_rmse: 0.1404\n",
      "Epoch 20/50\n",
      "\u001b[1m2361/2361\u001b[0m \u001b[32m━━━━━━━━━━━━━━━━━━━━\u001b[0m\u001b[37m\u001b[0m \u001b[1m1s\u001b[0m 332us/step - loss: 0.0182 - rmse: 0.1350 - val_loss: 0.0195 - val_rmse: 0.1397\n",
      "Epoch 21/50\n",
      "\u001b[1m2361/2361\u001b[0m \u001b[32m━━━━━━━━━━━━━━━━━━━━\u001b[0m\u001b[37m\u001b[0m \u001b[1m1s\u001b[0m 357us/step - loss: 0.0180 - rmse: 0.1341 - val_loss: 0.0194 - val_rmse: 0.1391\n",
      "Epoch 22/50\n",
      "\u001b[1m2361/2361\u001b[0m \u001b[32m━━━━━━━━━━━━━━━━━━━━\u001b[0m\u001b[37m\u001b[0m \u001b[1m1s\u001b[0m 331us/step - loss: 0.0178 - rmse: 0.1333 - val_loss: 0.0192 - val_rmse: 0.1385\n",
      "Epoch 23/50\n",
      "\u001b[1m2361/2361\u001b[0m \u001b[32m━━━━━━━━━━━━━━━━━━━━\u001b[0m\u001b[37m\u001b[0m \u001b[1m1s\u001b[0m 341us/step - loss: 0.0176 - rmse: 0.1326 - val_loss: 0.0190 - val_rmse: 0.1378\n",
      "Epoch 24/50\n",
      "\u001b[1m2361/2361\u001b[0m \u001b[32m━━━━━━━━━━━━━━━━━━━━\u001b[0m\u001b[37m\u001b[0m \u001b[1m1s\u001b[0m 340us/step - loss: 0.0174 - rmse: 0.1320 - val_loss: 0.0188 - val_rmse: 0.1371\n",
      "Epoch 25/50\n",
      "\u001b[1m2361/2361\u001b[0m \u001b[32m━━━━━━━━━━━━━━━━━━━━\u001b[0m\u001b[37m\u001b[0m \u001b[1m1s\u001b[0m 330us/step - loss: 0.0173 - rmse: 0.1314 - val_loss: 0.0187 - val_rmse: 0.1367\n",
      "Epoch 26/50\n",
      "\u001b[1m2361/2361\u001b[0m \u001b[32m━━━━━━━━━━━━━━━━━━━━\u001b[0m\u001b[37m\u001b[0m \u001b[1m1s\u001b[0m 333us/step - loss: 0.0171 - rmse: 0.1308 - val_loss: 0.0186 - val_rmse: 0.1362\n",
      "Epoch 27/50\n",
      "\u001b[1m2361/2361\u001b[0m \u001b[32m━━━━━━━━━━━━━━━━━━━━\u001b[0m\u001b[37m\u001b[0m \u001b[1m1s\u001b[0m 331us/step - loss: 0.0170 - rmse: 0.1302 - val_loss: 0.0185 - val_rmse: 0.1359\n",
      "Epoch 28/50\n",
      "\u001b[1m2361/2361\u001b[0m \u001b[32m━━━━━━━━━━━━━━━━━━━━\u001b[0m\u001b[37m\u001b[0m \u001b[1m1s\u001b[0m 384us/step - loss: 0.0169 - rmse: 0.1298 - val_loss: 0.0183 - val_rmse: 0.1354\n",
      "Epoch 29/50\n",
      "\u001b[1m2361/2361\u001b[0m \u001b[32m━━━━━━━━━━━━━━━━━━━━\u001b[0m\u001b[37m\u001b[0m \u001b[1m1s\u001b[0m 331us/step - loss: 0.0167 - rmse: 0.1294 - val_loss: 0.0182 - val_rmse: 0.1351\n",
      "Epoch 30/50\n",
      "\u001b[1m2361/2361\u001b[0m \u001b[32m━━━━━━━━━━━━━━━━━━━━\u001b[0m\u001b[37m\u001b[0m \u001b[1m1s\u001b[0m 333us/step - loss: 0.0166 - rmse: 0.1290 - val_loss: 0.0181 - val_rmse: 0.1347\n",
      "Epoch 31/50\n",
      "\u001b[1m2361/2361\u001b[0m \u001b[32m━━━━━━━━━━━━━━━━━━━━\u001b[0m\u001b[37m\u001b[0m \u001b[1m1s\u001b[0m 333us/step - loss: 0.0165 - rmse: 0.1285 - val_loss: 0.0181 - val_rmse: 0.1344\n",
      "Epoch 32/50\n",
      "\u001b[1m2361/2361\u001b[0m \u001b[32m━━━━━━━━━━━━━━━━━━━━\u001b[0m\u001b[37m\u001b[0m \u001b[1m1s\u001b[0m 331us/step - loss: 0.0164 - rmse: 0.1282 - val_loss: 0.0180 - val_rmse: 0.1341\n",
      "Epoch 33/50\n",
      "\u001b[1m2361/2361\u001b[0m \u001b[32m━━━━━━━━━━━━━━━━━━━━\u001b[0m\u001b[37m\u001b[0m \u001b[1m1s\u001b[0m 341us/step - loss: 0.0163 - rmse: 0.1278 - val_loss: 0.0179 - val_rmse: 0.1338\n",
      "Epoch 34/50\n",
      "\u001b[1m2361/2361\u001b[0m \u001b[32m━━━━━━━━━━━━━━━━━━━━\u001b[0m\u001b[37m\u001b[0m \u001b[1m1s\u001b[0m 331us/step - loss: 0.0163 - rmse: 0.1275 - val_loss: 0.0178 - val_rmse: 0.1335\n",
      "Epoch 35/50\n",
      "\u001b[1m2361/2361\u001b[0m \u001b[32m━━━━━━━━━━━━━━━━━━━━\u001b[0m\u001b[37m\u001b[0m \u001b[1m1s\u001b[0m 335us/step - loss: 0.0162 - rmse: 0.1272 - val_loss: 0.0178 - val_rmse: 0.1333\n",
      "Epoch 36/50\n",
      "\u001b[1m2361/2361\u001b[0m \u001b[32m━━━━━━━━━━━━━━━━━━━━\u001b[0m\u001b[37m\u001b[0m \u001b[1m1s\u001b[0m 339us/step - loss: 0.0161 - rmse: 0.1269 - val_loss: 0.0177 - val_rmse: 0.1332\n",
      "Epoch 37/50\n",
      "\u001b[1m2361/2361\u001b[0m \u001b[32m━━━━━━━━━━━━━━━━━━━━\u001b[0m\u001b[37m\u001b[0m \u001b[1m1s\u001b[0m 340us/step - loss: 0.0160 - rmse: 0.1266 - val_loss: 0.0177 - val_rmse: 0.1330\n",
      "Epoch 38/50\n",
      "\u001b[1m2361/2361\u001b[0m \u001b[32m━━━━━━━━━━━━━━━━━━━━\u001b[0m\u001b[37m\u001b[0m \u001b[1m1s\u001b[0m 348us/step - loss: 0.0160 - rmse: 0.1264 - val_loss: 0.0176 - val_rmse: 0.1328\n",
      "Epoch 39/50\n",
      "\u001b[1m2361/2361\u001b[0m \u001b[32m━━━━━━━━━━━━━━━━━━━━\u001b[0m\u001b[37m\u001b[0m \u001b[1m1s\u001b[0m 346us/step - loss: 0.0159 - rmse: 0.1261 - val_loss: 0.0176 - val_rmse: 0.1325\n",
      "Epoch 40/50\n",
      "\u001b[1m2361/2361\u001b[0m \u001b[32m━━━━━━━━━━━━━━━━━━━━\u001b[0m\u001b[37m\u001b[0m \u001b[1m1s\u001b[0m 334us/step - loss: 0.0159 - rmse: 0.1259 - val_loss: 0.0175 - val_rmse: 0.1324\n",
      "Epoch 41/50\n",
      "\u001b[1m2361/2361\u001b[0m \u001b[32m━━━━━━━━━━━━━━━━━━━━\u001b[0m\u001b[37m\u001b[0m \u001b[1m1s\u001b[0m 333us/step - loss: 0.0158 - rmse: 0.1257 - val_loss: 0.0175 - val_rmse: 0.1322\n",
      "Epoch 42/50\n",
      "\u001b[1m2361/2361\u001b[0m \u001b[32m━━━━━━━━━━━━━━━━━━━━\u001b[0m\u001b[37m\u001b[0m \u001b[1m1s\u001b[0m 333us/step - loss: 0.0158 - rmse: 0.1255 - val_loss: 0.0175 - val_rmse: 0.1321\n",
      "Epoch 43/50\n",
      "\u001b[1m2361/2361\u001b[0m \u001b[32m━━━━━━━━━━━━━━━━━━━━\u001b[0m\u001b[37m\u001b[0m \u001b[1m1s\u001b[0m 332us/step - loss: 0.0157 - rmse: 0.1253 - val_loss: 0.0174 - val_rmse: 0.1320\n",
      "Epoch 44/50\n",
      "\u001b[1m2361/2361\u001b[0m \u001b[32m━━━━━━━━━━━━━━━━━━━━\u001b[0m\u001b[37m\u001b[0m \u001b[1m1s\u001b[0m 335us/step - loss: 0.0157 - rmse: 0.1251 - val_loss: 0.0174 - val_rmse: 0.1317\n",
      "Epoch 45/50\n",
      "\u001b[1m2361/2361\u001b[0m \u001b[32m━━━━━━━━━━━━━━━━━━━━\u001b[0m\u001b[37m\u001b[0m \u001b[1m1s\u001b[0m 333us/step - loss: 0.0156 - rmse: 0.1250 - val_loss: 0.0173 - val_rmse: 0.1316\n",
      "Epoch 46/50\n",
      "\u001b[1m2361/2361\u001b[0m \u001b[32m━━━━━━━━━━━━━━━━━━━━\u001b[0m\u001b[37m\u001b[0m \u001b[1m1s\u001b[0m 358us/step - loss: 0.0156 - rmse: 0.1248 - val_loss: 0.0173 - val_rmse: 0.1314\n",
      "Epoch 47/50\n",
      "\u001b[1m2361/2361\u001b[0m \u001b[32m━━━━━━━━━━━━━━━━━━━━\u001b[0m\u001b[37m\u001b[0m \u001b[1m1s\u001b[0m 343us/step - loss: 0.0155 - rmse: 0.1246 - val_loss: 0.0172 - val_rmse: 0.1313\n",
      "Epoch 48/50\n",
      "\u001b[1m2361/2361\u001b[0m \u001b[32m━━━━━━━━━━━━━━━━━━━━\u001b[0m\u001b[37m\u001b[0m \u001b[1m1s\u001b[0m 336us/step - loss: 0.0155 - rmse: 0.1245 - val_loss: 0.0172 - val_rmse: 0.1312\n",
      "Epoch 49/50\n",
      "\u001b[1m2361/2361\u001b[0m \u001b[32m━━━━━━━━━━━━━━━━━━━━\u001b[0m\u001b[37m\u001b[0m \u001b[1m1s\u001b[0m 334us/step - loss: 0.0155 - rmse: 0.1243 - val_loss: 0.0172 - val_rmse: 0.1311\n",
      "Epoch 50/50\n",
      "\u001b[1m2361/2361\u001b[0m \u001b[32m━━━━━━━━━━━━━━━━━━━━\u001b[0m\u001b[37m\u001b[0m \u001b[1m1s\u001b[0m 336us/step - loss: 0.0154 - rmse: 0.1242 - val_loss: 0.0171 - val_rmse: 0.1310\n",
      "Restoring model weights from the end of the best epoch: 50.\n",
      "\n",
      "▶ Best epoch=50, val_RMSE(log)=0.131\n",
      "Retrain wall-time: 41.5s\n",
      "\u001b[1m1349/1349\u001b[0m \u001b[32m━━━━━━━━━━━━━━━━━━━━\u001b[0m\u001b[37m\u001b[0m \u001b[1m0s\u001b[0m 175us/step\n",
      "Test RMSE = 5,926.95\n",
      "Test R²   = 0.938\n"
     ]
    }
   ],
   "source": [
    "# Merge TRAIN+VAL\n",
    "X_full     = np.vstack([X_train, X_val])\n",
    "y_full_log = np.concatenate([y_train_log, y_val_log])\n",
    "\n",
    "model = build_model(best_hp)\n",
    "stop_cb = callbacks.EarlyStopping(\n",
    "    monitor=\"val_rmse\", mode=\"min\",\n",
    "    patience=5, restore_best_weights=True, verbose=1\n",
    ")\n",
    "\n",
    "t0 = time.time()\n",
    "hist = model.fit(\n",
    "    X_full, y_full_log,\n",
    "    validation_split=len(X_val)/len(X_full),\n",
    "    epochs=50,\n",
    "    batch_size=64,\n",
    "    callbacks=[stop_cb],\n",
    "    verbose=1\n",
    ")\n",
    "t1 = time.time()\n",
    "\n",
    "best_epoch = np.argmin(hist.history[\"val_rmse\"]) + 1\n",
    "print(f\"\\n▶ Best epoch={best_epoch}, val_RMSE(log)={hist.history['val_rmse'][best_epoch-1]:.3f}\")\n",
    "print(f\"Retrain wall-time: {(t1-t0):.1f}s\")\n",
    "\n",
    "# Final test evaluation (on original price scale)\n",
    "y_pred_log = model.predict(X_test).ravel()\n",
    "y_pred     = np.expm1(y_pred_log)\n",
    "\n",
    "rmse_test = np.sqrt(mean_squared_error(y_test, y_pred))\n",
    "r2_test   = r2_score(y_test, y_pred)\n",
    "print(f\"Test RMSE = {rmse_test:,.2f}\")\n",
    "print(f\"Test R²   = {r2_test:.3f}\")"
   ]
  },
  {
   "cell_type": "markdown",
   "id": "5584cced-5e3c-4bf7-babc-da5e1d8fb0e3",
   "metadata": {},
   "source": [
    "Converting back from log‐scale, the model predicts diamond prices with an average error of about $5.9 K on the held-out test set, explaining 93.8% of price variance."
   ]
  },
  {
   "cell_type": "code",
   "execution_count": 204,
   "id": "1189cb33-b2ac-43f6-8b85-6b200382a2ca",
   "metadata": {},
   "outputs": [
    {
     "name": "stderr",
     "output_type": "stream",
     "text": [
      "WARNING:absl:The `save_format` argument is deprecated in Keras 3. We recommend removing this argument as it can be inferred from the file path. Received: save_format=keras\n"
     ]
    }
   ],
   "source": [
    "# 7) Save model & tuning results\n",
    "\n",
    "# Save tuning summary\n",
    "df_top.to_csv(\"data/processed/kt_tuning.csv\", index=False)\n",
    "\n",
    "# Save as a single-file Keras format (requires Keras ≥3)\n",
    "model.save(\"models/kt_model.keras\", save_format=\"keras\")"
   ]
  },
  {
   "cell_type": "code",
   "execution_count": null,
   "id": "854f32f1-6f16-47af-b8aa-64b7afc55b47",
   "metadata": {},
   "outputs": [],
   "source": []
  }
 ],
 "metadata": {
  "kernelspec": {
   "display_name": "Python 3 (ipykernel)",
   "language": "python",
   "name": "python3"
  },
  "language_info": {
   "codemirror_mode": {
    "name": "ipython",
    "version": 3
   },
   "file_extension": ".py",
   "mimetype": "text/x-python",
   "name": "python",
   "nbconvert_exporter": "python",
   "pygments_lexer": "ipython3",
   "version": "3.12.4"
  }
 },
 "nbformat": 4,
 "nbformat_minor": 5
}
