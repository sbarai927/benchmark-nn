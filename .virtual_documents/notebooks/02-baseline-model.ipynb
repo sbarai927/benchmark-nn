import joblib
import numpy as np
%pip install tensorflow
import tensorflow as tf
from tensorflow.keras import layers, models


# Load processed data

X_train, y_train = joblib.load("data/processed/train.pkl")
X_val,   y_val   = joblib.load("data/processed/val.pkl")
X_test,  y_test  = joblib.load("data/processed/test.pkl")

print(X_train.shape, y_train.shape)


# Build a simple MLP

model = models.Sequential([
    layers.Input(shape=(X_train.shape[1],)),
    layers.Dense(64, activation="relu"),
    layers.Dense(32, activation="relu"),
    layers.Dense(1)   # regression output
])
model.compile(
    optimizer="adam",
    loss="mse",
    metrics=[tf.keras.metrics.RootMeanSquaredError()]
)
model.summary()








# Train and Evaluate

history = model.fit(
    X_train, y_train,
    validation_data=(X_val, y_val),
    epochs=20,
    batch_size=32
)

# Plot training curves
import matplotlib.pyplot as plt
plt.plot(history.history["loss"], label="train_loss")
plt.plot(history.history["val_loss"], label="val_loss")
plt.legend()
plt.xlabel("Epoch")
plt.ylabel("MSE")
plt.show()





# Test‐set performance

test_metrics = model.evaluate(X_test, y_test, return_dict=True)
print("Test RMSE:", test_metrics["root_mean_squared_error"])





# Save the baseline model

model.save("models/baseline-model.keras")
