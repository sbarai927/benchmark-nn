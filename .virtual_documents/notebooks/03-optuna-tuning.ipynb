pip install optuna


# Import tuning library

import joblib
import optuna
import matplotlib.pyplot as plt
from src.model import train_and_evaluate
from src.config import param_space

# load processed splits
X_train, y_train = joblib.load("data/processed/train.pkl")
X_val,   y_val   = joblib.load("data/processed/val.pkl")

print("Train:", X_train.shape, y_train.shape)
print("Val:  ", X_val.shape,   y_val.shape)


# Load a small subset (or full) of preprocessed data

X_train, y_train = joblib.load("data/processed/train.pkl")
X_val,   y_val   = joblib.load("data/processed/val.pkl")

# Pick a fixed hyperparameter set
params = {
    "n_layers":   2,
    "units":      32,
    "lr":         1e-3,
    "batch_size": 64
}

# Run training once and print the RMSE
rmse = train_and_evaluate(params, X_train, y_train, X_val, y_val)
print(f"Manual run validation RMSE: {rmse:.4f}")


def objective(trial):
    params = {
      "n_layers":   trial.suggest_categorical("n_layers",   param_space["n_layers"]),
      "units":      trial.suggest_categorical("units",      param_space["units"]),
      "lr":         trial.suggest_float("lr",
                                        param_space["lr_min"],
                                        param_space["lr_max"],
                                        log=True),              # <- use suggest_float with log scale
      "batch_size": trial.suggest_categorical("batch_size", param_space["batch_sizes"]),
    }
    return train_and_evaluate(params, X_train, y_train, X_val, y_val)


study = optuna.create_study(direction="minimize")
study.optimize(objective, n_trials=5)


study = optuna.create_study(direction="minimize")
study.optimize(objective, n_trials=10)


study = optuna.create_study(direction="minimize")
study.optimize(objective, n_trials=15)


print("Best params:", study.best_params)
print("Best RMSE:  ", study.best_value)

# plot RMSE over trials
plt.plot([t.value for t in study.trials], marker="o")
plt.xlabel("Trial"); plt.ylabel("Validation RMSE")
plt.show()


joblib.dump(study, "data/processed/optuna_study.pkl")



