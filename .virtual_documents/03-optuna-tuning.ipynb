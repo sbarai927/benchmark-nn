


import os
import pandas as pd
import joblib  # load our preprocessed splits
import optuna  # hyperparameter‐search engine
import matplotlib.pyplot as plt  # plot tuning progress
from src.model import train_and_evaluate  # function that builds & trains our MLP
from src.config import param_space  # the dictionary of hyperparameter choices





# Load a small subset (or full) of preprocessed data

X_train, y_train = joblib.load("data/processed/train.pkl")
X_val,   y_val   = joblib.load("data/processed/val.pkl")

# Pick a fixed hyperparameter set
params = {
    "n_layers":   2,
    "units":      32,
    "lr":         1e-3,
    "batch_size": 64
}

# Run training once and print the RMSE
rmse = train_and_evaluate(params, X_train, y_train, X_val, y_val)
print(f"Manual run validation RMSE: {rmse:.4f}")









def objective(trial):
    params = {
        "n_layers":   trial.suggest_categorical("n_layers",   param_space["n_layers"]),
        "units":      trial.suggest_categorical("units",      param_space["units"]),
        "lr":         trial.suggest_float(
                          "lr",
                          param_space["lr_min"],
                          param_space["lr_max"],
                          log=True
                      ),
        "batch_size": trial.suggest_categorical("batch_size", param_space["batch_sizes"]),
    }
    return train_and_evaluate(params,
                              X_train, y_train,
                              X_val,   y_val,
                              trial)








pruner = optuna.pruners.MedianPruner(
    n_startup_trials=5,    # let the first 5 finish fully
    n_warmup_steps=5       # require 5 epochs of history before pruning
)

study = optuna.create_study(
    direction="minimize",
    pruner=pruner
)
study.optimize(
    lambda t: objective(t),   # now objective will get trial passed through
    n_trials=30
)











# Inspect best result
print("Best params:", study.best_params)
print("Best validation RMSE:", study.best_value)


# Plot RMSE over trials
plt.plot([t.value for t in study.trials], marker="o")
plt.xlabel("Trial")
plt.ylabel("Validation RMSE")
plt.title("Optuna Hyperparameter Tuning Progress")
plt.show()





# Save the study object and summary
joblib.dump(study, "data/processed/optuna_study.pkl")

summary = pd.DataFrame([{
    "tuner":      "Optuna",
    "best_rmse":  study.best_value,
    "n_trials":   len(study.trials),
    "pruner":     type(pruner).__name__
}])
summary.to_csv(
    "data/processed/tuning_summary.csv",
    mode="a",
    index=False,
    header=not os.path.exists("data/processed/tuning_summary.csv")
)
