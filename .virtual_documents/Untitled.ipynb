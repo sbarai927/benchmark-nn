


# core
import pandas as pd
import numpy as np

# plotting
import matplotlib.pyplot as plt
import seaborn as sns

# display options
pd.set_option("display.max_columns", 50)
sns.set_theme(style="whitegrid")





df = pd.read_csv("data/raw/diamonds.csv")
# Show the first few rows
df.head()
# Shape & dtypes
print("Rows, cols:", df.shape)
df.dtypes





# Drop duplicates if any
before = len(df)
df = df.drop_duplicates()
print(f"Dropped {before - len(df)} duplicate rows")

# Check for missing values
df.isna().sum()


# Quick numeric summaries
df.describe().T





num_cols = df.select_dtypes("number").columns
fig, axes = plt.subplots(len(num_cols)//3 + 1, 3, figsize=(12, 8))
for ax, col in zip(axes.flat, num_cols):
    sns.histplot(df[col], ax=ax, bins=30, kde=True)
    ax.set_title(col)
plt.tight_layout()


cat_cols = df.select_dtypes("object").columns
for col in cat_cols:
    print(df[col].value_counts().head(), "\n")
    sns.countplot(y=col, data=df, order=df[col].value_counts().index[:10])
    plt.show()





plt.figure(figsize=(6, 4))
sns.scatterplot(x="carat_weight", y="total_sales_price", data=df, alpha=0.3)
plt.xlabel("Carat weight")
plt.ylabel("Sales price")
plt.title("Price ↑ with Carat, but with variance")
plt.show()


fig, axes = plt.subplots(1, 3, figsize=(15, 4))
sns.boxplot(x="cut_quality", y="total_sales_price", data=df, ax=axes[0])
sns.boxplot(x="color",       y="total_sales_price", data=df, ax=axes[1])
sns.boxplot(x="clarity",     y="total_sales_price", data=df, ax=axes[2])
plt.tight_layout()





corr = df[num_cols].corr()
plt.figure(figsize=(10, 8))
sns.heatmap(corr, annot=True, fmt=".2f", cmap="vlag", center=0)
plt.title("Numeric feature correlations")
plt.show()



